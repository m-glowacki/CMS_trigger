{
 "cells": [
  {
   "cell_type": "code",
   "execution_count": 1,
   "id": "2b738b39",
   "metadata": {},
   "outputs": [],
   "source": [
    "import numpy as np\n",
    "import os\n",
    "import sys"
   ]
  },
  {
   "cell_type": "markdown",
   "id": "8fbe3bec",
   "metadata": {},
   "source": [
    "### Questions:\n",
    "\n",
    "1) What axis to use in batchnorm argument? \n",
    "\n",
    "2) Fix imports, have them all from tensorflow not keras that will make things easier."
   ]
  },
  {
   "cell_type": "code",
   "execution_count": null,
   "id": "35d63f9c",
   "metadata": {},
   "outputs": [],
   "source": [
    "Hbbb_ = np.load('/storage1/bz18310/hist_data/Hbbb/Hbbb.npy')\n",
    "back_ = np.load('/storage1/bz18310/hist_data/SNu/SNu.npy')"
   ]
  },
  {
   "cell_type": "code",
   "execution_count": null,
   "id": "1e2f4f7e",
   "metadata": {},
   "outputs": [],
   "source": [
    "print(np.shape(Hbbb_))\n",
    "print(np.shape(back_))\n",
    "Hbbb = Hbbb_[...,None]\n",
    "back = back_[...,None]\n",
    "print(np.shape(Hbbb))"
   ]
  },
  {
   "cell_type": "code",
   "execution_count": null,
   "id": "2f33f937",
   "metadata": {},
   "outputs": [],
   "source": [
    "Hbbb_labels = np.ones(np.shape(Hbbb)[0], dtype=int)\n",
    "back_labels = np.zeros(np.shape(back)[0], dtype=int)"
   ]
  },
  {
   "cell_type": "code",
   "execution_count": null,
   "id": "b7d0b446",
   "metadata": {},
   "outputs": [],
   "source": [
    "data = np.concatenate((Hbbb, back))\n",
    "labels = np.concatenate((Hbbb_labels, back_labels))\n",
    "print(np.shape(data))\n",
    "print(np.shape(labels))"
   ]
  },
  {
   "cell_type": "code",
   "execution_count": null,
   "id": "97329f28",
   "metadata": {},
   "outputs": [],
   "source": [
    "from sklearn.model_selection import train_test_split\n",
    "\n",
    "train_X, test_X, train_y, test_y = train_test_split(data, labels, test_size=0.25, shuffle=True)"
   ]
  },
  {
   "cell_type": "code",
   "execution_count": null,
   "id": "8afca18b",
   "metadata": {},
   "outputs": [],
   "source": [
    "#save for later use and cal call back then\n",
    "np.save('/storage1/bz18310/hist_data/train_test_120x72/train_X.npy', train_X)\n",
    "np.save('/storage1/bz18310/hist_data/train_test_120x72/train_y.npy', train_y)\n",
    "np.save('/storage1/bz18310/hist_data/train_test_120x72/test_X.npy', test_X)\n",
    "np.save('/storage1/bz18310/hist_data/train_test_120x72/test_y.npy', test_y)"
   ]
  },
  {
   "cell_type": "code",
   "execution_count": 2,
   "id": "ad3a0c2b",
   "metadata": {},
   "outputs": [],
   "source": [
    "import tensorflow as tf\n",
    "from tensorflow.python.ops import array_ops, math_ops      #for math operations division_no_nan\n",
    "from tensorflow.keras.layers import *\n",
    "import keras_tuner as kt\n",
    "from keras_tuner.tuners import RandomSearch, Hyperband, BayesianOptimization\n",
    "from sklearn.metrics import roc_curve, auc\n",
    "from tensorflow_model_optimization.python.core.sparsity.keras import prune, pruning_callbacks, pruning_schedule\n",
    "from tensorflow_model_optimization.sparsity.keras import strip_pruning"
   ]
  },
  {
   "cell_type": "code",
   "execution_count": 3,
   "id": "ed2f5475",
   "metadata": {},
   "outputs": [
    {
     "name": "stdout",
     "output_type": "stream",
     "text": [
      "Model: \"sequential\"\n",
      "_________________________________________________________________\n",
      "Layer (type)                 Output Shape              Param #   \n",
      "=================================================================\n",
      "conv2d (Conv2D)              (None, 118, 70, 4)        40        \n",
      "_________________________________________________________________\n",
      "max_pooling2d (MaxPooling2D) (None, 59, 35, 4)         0         \n",
      "_________________________________________________________________\n",
      "batch_normalization (BatchNo (None, 59, 35, 4)         236       \n",
      "_________________________________________________________________\n",
      "activation (Activation)      (None, 59, 35, 4)         0         \n",
      "_________________________________________________________________\n",
      "conv2d_1 (Conv2D)            (None, 57, 33, 8)         296       \n",
      "_________________________________________________________________\n",
      "max_pooling2d_1 (MaxPooling2 (None, 28, 16, 8)         0         \n",
      "_________________________________________________________________\n",
      "batch_normalization_1 (Batch (None, 28, 16, 8)         112       \n",
      "_________________________________________________________________\n",
      "activation_1 (Activation)    (None, 28, 16, 8)         0         \n",
      "_________________________________________________________________\n",
      "flatten (Flatten)            (None, 3584)              0         \n",
      "_________________________________________________________________\n",
      "dense (Dense)                (None, 24)                86040     \n",
      "_________________________________________________________________\n",
      "batch_normalization_2 (Batch (None, 24)                96        \n",
      "_________________________________________________________________\n",
      "activation_2 (Activation)    (None, 24)                0         \n",
      "_________________________________________________________________\n",
      "dense_1 (Dense)              (None, 1)                 25        \n",
      "_________________________________________________________________\n",
      "batch_normalization_3 (Batch (None, 1)                 4         \n",
      "_________________________________________________________________\n",
      "activation_3 (Activation)    (None, 1)                 0         \n",
      "=================================================================\n",
      "Total params: 86,849\n",
      "Trainable params: 86,625\n",
      "Non-trainable params: 224\n",
      "_________________________________________________________________\n"
     ]
    }
   ],
   "source": [
    "model = tf.keras.Sequential()\n",
    "\n",
    "model.add(Conv2D(4, kernel_size=(3,3), input_shape=(120,72,1)))\n",
    "model.add(MaxPooling2D(pool_size=(2,2), padding='valid'))\n",
    "model.add(BatchNormalization(axis=1))\n",
    "model.add(Activation('relu'))\n",
    "\n",
    "model.add(Conv2D(8, kernel_size=(3,3)))\n",
    "model.add(MaxPooling2D(pool_size=(2,2), padding='valid'))\n",
    "model.add(BatchNormalization(axis=1))\n",
    "model.add(Activation('relu'))\n",
    "\n",
    "model.add(Flatten())\n",
    "model.add(Dense(24))\n",
    "model.add(BatchNormalization(axis=1))\n",
    "model.add(Activation('relu'))\n",
    "\n",
    "model.add(Dense(1))\n",
    "model.add(BatchNormalization(axis=1))\n",
    "model.add(Activation('sigmoid'))\n",
    "\n",
    "model.build(input_shape=(None,120,72,1))\n",
    "\n",
    "model.summary()"
   ]
  },
  {
   "cell_type": "code",
   "execution_count": 4,
   "id": "b5bc2304",
   "metadata": {},
   "outputs": [],
   "source": [
    "push = lambda x: x > .5       #function to check if number greater than .5\n",
    "\n",
    "def hls_model_accuracy(hls_model, test_X, test_y):                              #function for testing accurcry of hls model\n",
    "    return accuracy_score(test_y, [push(i) for i in hls_model.predict(test_X)])\n",
    "\n",
    "def get_timing(build_result):\n",
    "    return (build_result['BestLatency'], build_result['WorstLatency'],\n",
    "            build_result['IntervalMin'], build_result['IntervalMax'])\n",
    "\n",
    "\n",
    "class CustomSensitivityAtSpecificity(tf.keras.metrics.SensitivityAtSpecificity):     #specificity TN/(TN+FP) \n",
    "                                                                                \n",
    "    def __init__(self, specificity, num_thresholds=200, name=None, dtype=None):\n",
    "        if specificity < 0 or specificity > 1:\n",
    "            raise ValueError('`specificity` must be in the range [0, 1].')\n",
    "        self.specificity = specificity\n",
    "        self.num_thresholds = num_thresholds\n",
    "        super().__init__(\n",
    "            specificity, num_thresholds=num_thresholds, name=name, dtype=dtype)  #from the tf.kera.metrics.SensitivityAtSpecificity\n",
    "                                                                                 #class, creates out object\n",
    "    def result(self):\n",
    "        specificities = math_ops.div_no_nan(\n",
    "        self.true_negatives, self.true_negatives + self.false_positives)   #from keras class super()\n",
    "        sensitivities = math_ops.div_no_nan(\n",
    "        self.true_positives, self.true_positives + self.false_negatives)   \n",
    "        return self._find_max_under_constraint(\n",
    "                    specificities, sensitivities, math_ops.greater_equal)  #What?\n",
    "\n",
    "    def get_threshold(self):\n",
    "        specificities = math_ops.div_no_nan(\n",
    "        self.true_negatives, self.true_negatives + self.false_positives)\n",
    "        \n",
    "        sensitivities = math_ops.div_no_nan(\n",
    "        self.true_positives, self.true_positives + self.false_negatives)    #Sensitivity TP/(TP+FN)\n",
    "        \n",
    "        specs_above_thresh = array_ops.where(math_ops.greater_equal(specificities, self.value))   #What?\n",
    "        \n",
    "        return math_ops.reduce_min(array_ops.gather(self.thresholds, specs_above_thresh)).numpy()\n",
    "\n",
    "def compiler(model_name):\n",
    "    opt = tf.keras.optimizers.Adam(0.001)\n",
    "    sensitivity_metric = tf.keras.metrics.SensitivityAtSpecificity(name='sens_at_spec',\n",
    "                                                                             specificity=0.99925,     \n",
    "                                                                             num_thresholds=20000)     \n",
    "    auc_metric = tf.keras.metrics.AUC(name='auc', num_thresholds=200)   \n",
    "    metrics = ['accuracy', sensitivity_metric, auc_metric]\n",
    "\n",
    "    model_name.compile(optimizer=opt, loss='binary_crossentropy', metrics=metrics)\n",
    "    \n",
    "    return model_name\n",
    "       \n",
    "def trainer(model_name, train_X, train_y):     \n",
    "\n",
    "    model_name.fit(train_X, \n",
    "               train_y, \n",
    "               epochs=50, \n",
    "               verbose=1,\n",
    "               batch_size=512, \n",
    "               validation_split=.2,   \n",
    "               shuffle=True,\n",
    "               callbacks=[tf.keras.callbacks.EarlyStopping(monitor='val_loss',\n",
    "                                                             patience=5,\n",
    "                                                             restore_best_weights=True),     \n",
    "                            pruning_callbacks.UpdatePruningStep()])"
   ]
  },
  {
   "cell_type": "code",
   "execution_count": 5,
   "id": "b1caf1d3",
   "metadata": {},
   "outputs": [],
   "source": [
    "model = compiler(model)"
   ]
  },
  {
   "cell_type": "code",
   "execution_count": null,
   "id": "58acd45d",
   "metadata": {},
   "outputs": [],
   "source": [
    "trainer(model, train_X, train_y)"
   ]
  },
  {
   "cell_type": "code",
   "execution_count": 6,
   "id": "0cd4723e",
   "metadata": {},
   "outputs": [],
   "source": [
    "model.load_weights('./120x72 hist models/try_1_copy_of_old_weights.h5')"
   ]
  },
  {
   "cell_type": "code",
   "execution_count": null,
   "id": "7b5347b9",
   "metadata": {},
   "outputs": [],
   "source": [
    "#model.save_weights('./120x72 hist models/try_1_copy_of_old_weights.h5')\n",
    "model.save('./120x72 hist models/try_1_copy_of_old.h5')"
   ]
  },
  {
   "cell_type": "code",
   "execution_count": null,
   "id": "7ef2509f",
   "metadata": {},
   "outputs": [],
   "source": []
  },
  {
   "cell_type": "code",
   "execution_count": 72,
   "id": "278ed39b",
   "metadata": {},
   "outputs": [
    {
     "name": "stdout",
     "output_type": "stream",
     "text": [
      "2942/2942 [==============================] - 35s 10ms/step - loss: 0.0520 - accuracy: 0.9831 - sens_at_spec: 0.3435 - auc: 0.9969\n"
     ]
    },
    {
     "data": {
      "text/plain": [
       "[0.05199510604143143,\n",
       " 0.9830549955368042,\n",
       " 0.3435222804546356,\n",
       " 0.9968696236610413]"
      ]
     },
     "execution_count": 72,
     "metadata": {},
     "output_type": "execute_result"
    }
   ],
   "source": [
    "model.evaluate(test_X, test_y)"
   ]
  },
  {
   "cell_type": "code",
   "execution_count": 7,
   "id": "c2a771d1",
   "metadata": {},
   "outputs": [],
   "source": [
    "import hls4ml\n",
    "from hls4ml.model.profiling import numerical, activations_keras, boxplot\n",
    "\n",
    "sys.path.append('/usersc/bz18310/previous_notebook/cms-l1-triggers')\n",
    "\n",
    "from utils.analysis import eff_rate, optimal_eff_rate\n",
    "from utils.preprocessing import resize\n",
    "from utils.plotting import *\n",
    "from utils.hls4ml_helpers import *"
   ]
  },
  {
   "cell_type": "code",
   "execution_count": 8,
   "id": "a92082c7",
   "metadata": {},
   "outputs": [],
   "source": [
    "def hls4ml_converter(model_name, directory):\n",
    "        \n",
    "    config = hls4ml.utils.config_from_keras_model(model_name, granularity='name')\n",
    "    print(\"-----------------------------------\")\n",
    "    print(\"Configuration\")\n",
    "    display(config)\n",
    "    print(\"-----------------------------------\")\n",
    "    hls_model = hls4ml.converters.convert_from_keras_model(model_name,\n",
    "                                                           hls_config=config,   #set configuration of model\n",
    "                                                           output_dir=directory,  #6bit model save\n",
    "                                                           fpga_part='xcku15p-ffva1760-2-e',     #What?\n",
    "                                                            clock_period=(1/.24),      #set clock period??\n",
    "                                                              io_type='io_stream')     #\n",
    "    hls_model.compile()\n",
    "    return hls_model"
   ]
  },
  {
   "cell_type": "code",
   "execution_count": 11,
   "id": "ff02020e",
   "metadata": {},
   "outputs": [
    {
     "name": "stdout",
     "output_type": "stream",
     "text": [
      "Interpreting Sequential\n",
      "Topology:\n",
      "Layer name: conv2d_input, layer type: Input\n",
      "Layer name: conv2d, layer type: Conv2D\n",
      "  -> Activation (linear), layer name: conv2d\n",
      "Layer name: max_pooling2d, layer type: MaxPooling2D\n",
      "Layer name: batch_normalization, layer type: BatchNormalization\n",
      "Layer name: activation, layer type: Activation\n",
      "Layer name: conv2d_1, layer type: Conv2D\n",
      "  -> Activation (linear), layer name: conv2d_1\n",
      "Layer name: max_pooling2d_1, layer type: MaxPooling2D\n",
      "Layer name: batch_normalization_1, layer type: BatchNormalization\n",
      "Layer name: activation_1, layer type: Activation\n",
      "Layer name: dense, layer type: Dense\n",
      "  -> Activation (linear), layer name: dense\n",
      "Layer name: batch_normalization_2, layer type: BatchNormalization\n",
      "Layer name: activation_2, layer type: Activation\n",
      "Layer name: dense_1, layer type: Dense\n",
      "  -> Activation (linear), layer name: dense_1\n",
      "Layer name: batch_normalization_3, layer type: BatchNormalization\n",
      "Layer name: activation_3, layer type: Activation\n",
      "-----------------------------------\n",
      "Configuration\n"
     ]
    },
    {
     "data": {
      "text/plain": [
       "{'Model': {'Precision': 'ap_fixed<16,6>',\n",
       "  'ReuseFactor': 1,\n",
       "  'Strategy': 'Latency'},\n",
       " 'LayerName': {'conv2d_input': {'Precision': {'result': 'ap_fixed<16,6>'}},\n",
       "  'conv2d': {'Precision': {'weight': 'ap_fixed<16,6>',\n",
       "    'bias': 'ap_fixed<16,6>',\n",
       "    'result': 'ap_fixed<16,6>'},\n",
       "   'ReuseFactor': 1},\n",
       "  'conv2d_linear': {'Precision': 'ap_fixed<16,6>',\n",
       "   'ReuseFactor': 1,\n",
       "   'table_size': 1024,\n",
       "   'table_t': 'ap_fixed<18,8>'},\n",
       "  'max_pooling2d': {'Precision': 'ap_fixed<16,6>'},\n",
       "  'batch_normalization': {'Precision': {'scale': 'ap_fixed<16,6>',\n",
       "    'bias': 'ap_fixed<16,6>'},\n",
       "   'ReuseFactor': 1},\n",
       "  'activation': {'Precision': 'ap_fixed<16,6>',\n",
       "   'ReuseFactor': 1,\n",
       "   'table_size': 1024,\n",
       "   'table_t': 'ap_fixed<18,8>'},\n",
       "  'conv2d_1': {'Precision': {'weight': 'ap_fixed<16,6>',\n",
       "    'bias': 'ap_fixed<16,6>',\n",
       "    'result': 'ap_fixed<16,6>'},\n",
       "   'ReuseFactor': 1},\n",
       "  'conv2d_1_linear': {'Precision': 'ap_fixed<16,6>',\n",
       "   'ReuseFactor': 1,\n",
       "   'table_size': 1024,\n",
       "   'table_t': 'ap_fixed<18,8>'},\n",
       "  'max_pooling2d_1': {'Precision': 'ap_fixed<16,6>'},\n",
       "  'batch_normalization_1': {'Precision': {'scale': 'ap_fixed<16,6>',\n",
       "    'bias': 'ap_fixed<16,6>'},\n",
       "   'ReuseFactor': 1},\n",
       "  'activation_1': {'Precision': 'ap_fixed<16,6>',\n",
       "   'ReuseFactor': 1,\n",
       "   'table_size': 1024,\n",
       "   'table_t': 'ap_fixed<18,8>'},\n",
       "  'dense': {'Precision': {'weight': 'ap_fixed<16,6>',\n",
       "    'bias': 'ap_fixed<16,6>',\n",
       "    'result': 'ap_fixed<16,6>'},\n",
       "   'ReuseFactor': 1},\n",
       "  'dense_linear': {'Precision': 'ap_fixed<16,6>',\n",
       "   'ReuseFactor': 1,\n",
       "   'table_size': 1024,\n",
       "   'table_t': 'ap_fixed<18,8>'},\n",
       "  'batch_normalization_2': {'Precision': {'scale': 'ap_fixed<16,6>',\n",
       "    'bias': 'ap_fixed<16,6>'},\n",
       "   'ReuseFactor': 1},\n",
       "  'activation_2': {'Precision': 'ap_fixed<16,6>',\n",
       "   'ReuseFactor': 1,\n",
       "   'table_size': 1024,\n",
       "   'table_t': 'ap_fixed<18,8>'},\n",
       "  'dense_1': {'Precision': {'weight': 'ap_fixed<16,6>',\n",
       "    'bias': 'ap_fixed<16,6>',\n",
       "    'result': 'ap_fixed<16,6>'},\n",
       "   'ReuseFactor': 1},\n",
       "  'dense_1_linear': {'Precision': 'ap_fixed<16,6>',\n",
       "   'ReuseFactor': 1,\n",
       "   'table_size': 1024,\n",
       "   'table_t': 'ap_fixed<18,8>'},\n",
       "  'batch_normalization_3': {'Precision': {'scale': 'ap_fixed<16,6>',\n",
       "    'bias': 'ap_fixed<16,6>'},\n",
       "   'ReuseFactor': 1},\n",
       "  'activation_3': {'Precision': 'ap_fixed<16,6>',\n",
       "   'ReuseFactor': 1,\n",
       "   'table_size': 1024,\n",
       "   'table_t': 'ap_fixed<18,8>'}}}"
      ]
     },
     "metadata": {},
     "output_type": "display_data"
    },
    {
     "name": "stdout",
     "output_type": "stream",
     "text": [
      "-----------------------------------\n",
      "Interpreting Sequential\n",
      "Topology:\n",
      "Layer name: conv2d_input, layer type: InputLayer, current shape: [[None, 120, 72, 1]]\n",
      "Layer name: conv2d, layer type: Conv2D, current shape: [[None, 120, 72, 1]]\n",
      "Layer name: max_pooling2d, layer type: MaxPooling2D, current shape: [[None, 118, 70, 4]]\n",
      "Layer name: batch_normalization, layer type: BatchNormalization, current shape: [[None, 59, 35, 4]]\n",
      "Layer name: activation, layer type: Activation, current shape: [[None, 59, 35, 4]]\n",
      "Layer name: conv2d_1, layer type: Conv2D, current shape: [[None, 59, 35, 4]]\n",
      "Layer name: max_pooling2d_1, layer type: MaxPooling2D, current shape: [[None, 57, 33, 8]]\n",
      "Layer name: batch_normalization_1, layer type: BatchNormalization, current shape: [[None, 28, 16, 8]]\n",
      "Layer name: activation_1, layer type: Activation, current shape: [[None, 28, 16, 8]]\n",
      "Layer name: dense, layer type: Dense, current shape: [[None, 28, 16, 8]]\n",
      "Layer name: batch_normalization_2, layer type: BatchNormalization, current shape: [[None, 24]]\n",
      "Layer name: activation_2, layer type: Activation, current shape: [[None, 24]]\n",
      "Layer name: dense_1, layer type: Dense, current shape: [[None, 24]]\n",
      "Layer name: batch_normalization_3, layer type: BatchNormalization, current shape: [[None, 1]]\n",
      "Layer name: activation_3, layer type: Activation, current shape: [[None, 1]]\n",
      "Creating HLS model\n",
      "Writing HLS project\n",
      "Done\n"
     ]
    }
   ],
   "source": [
    "hls4ml_model = hls4ml_converter(model, '120x72 hist models/hls_try_1_copy_of_old/hls4ml_prj')"
   ]
  },
  {
   "cell_type": "code",
   "execution_count": 12,
   "id": "396e9535",
   "metadata": {},
   "outputs": [
    {
     "name": "stdout",
     "output_type": "stream",
     "text": [
      "Project myproject_prj does not exist. Rerun \"hls4ml build -p 120x72 hist models/hls_try_1_copy_of_old/hls4ml_prj\".\n"
     ]
    }
   ],
   "source": [
    "hls4ml_model.build(csim=False)"
   ]
  },
  {
   "cell_type": "code",
   "execution_count": null,
   "id": "30bb5910",
   "metadata": {},
   "outputs": [],
   "source": []
  }
 ],
 "metadata": {
  "kernelspec": {
   "display_name": "Python 3",
   "language": "python",
   "name": "python3"
  },
  "language_info": {
   "codemirror_mode": {
    "name": "ipython",
    "version": 3
   },
   "file_extension": ".py",
   "mimetype": "text/x-python",
   "name": "python",
   "nbconvert_exporter": "python",
   "pygments_lexer": "ipython3",
   "version": "3.9.5"
  }
 },
 "nbformat": 4,
 "nbformat_minor": 5
}
