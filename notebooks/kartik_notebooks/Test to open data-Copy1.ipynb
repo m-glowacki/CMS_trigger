{
 "cells": [
  {
   "cell_type": "code",
   "execution_count": 2,
   "id": "2b738b39",
   "metadata": {},
   "outputs": [],
   "source": [
    "import numpy as np\n",
    "import os\n",
    "import sys"
   ]
  },
  {
   "cell_type": "markdown",
   "id": "8fbe3bec",
   "metadata": {},
   "source": [
    "### Questions:\n",
    "\n",
    "1) What axis to use in batchnorm argument? \n"
   ]
  },
  {
   "cell_type": "code",
   "execution_count": 3,
   "id": "ad3a0c2b",
   "metadata": {},
   "outputs": [],
   "source": [
    "import tensorflow as tf\n",
    "from tensorflow.python.ops import array_ops, math_ops      #for math operations division_no_nan\n",
    "from tensorflow.keras.layers import *\n",
    "from sklearn.metrics import roc_curve, auc\n",
    "from tensorflow_model_optimization.python.core.sparsity.keras import prune, pruning_callbacks, pruning_schedule\n",
    "from tensorflow_model_optimization.sparsity.keras import strip_pruning"
   ]
  },
  {
   "cell_type": "code",
   "execution_count": 7,
   "id": "ed2f5475",
   "metadata": {},
   "outputs": [
    {
     "name": "stdout",
     "output_type": "stream",
     "text": [
      "Model: \"sequential_3\"\n",
      "_________________________________________________________________\n",
      "Layer (type)                 Output Shape              Param #   \n",
      "=================================================================\n",
      "conv2d_5 (Conv2D)            (None, 118, 70, 4)        40        \n",
      "_________________________________________________________________\n",
      "max_pooling2d_5 (MaxPooling2 (None, 59, 35, 4)         0         \n",
      "_________________________________________________________________\n",
      "batch_normalization_8 (Batch (None, 59, 35, 4)         236       \n",
      "_________________________________________________________________\n",
      "activation_8 (Activation)    (None, 59, 35, 4)         0         \n",
      "_________________________________________________________________\n",
      "conv2d_6 (Conv2D)            (None, 57, 33, 8)         296       \n",
      "_________________________________________________________________\n",
      "max_pooling2d_6 (MaxPooling2 (None, 28, 16, 8)         0         \n",
      "_________________________________________________________________\n",
      "batch_normalization_9 (Batch (None, 28, 16, 8)         112       \n",
      "_________________________________________________________________\n",
      "activation_9 (Activation)    (None, 28, 16, 8)         0         \n",
      "_________________________________________________________________\n",
      "flatten_2 (Flatten)          (None, 3584)              0         \n",
      "_________________________________________________________________\n",
      "dense_4 (Dense)              (None, 24)                86040     \n",
      "_________________________________________________________________\n",
      "batch_normalization_10 (Batc (None, 24)                96        \n",
      "_________________________________________________________________\n",
      "activation_10 (Activation)   (None, 24)                0         \n",
      "_________________________________________________________________\n",
      "dense_5 (Dense)              (None, 1)                 25        \n",
      "_________________________________________________________________\n",
      "batch_normalization_11 (Batc (None, 1)                 4         \n",
      "_________________________________________________________________\n",
      "activation_11 (Activation)   (None, 1)                 0         \n",
      "=================================================================\n",
      "Total params: 86,849\n",
      "Trainable params: 86,625\n",
      "Non-trainable params: 224\n",
      "_________________________________________________________________\n"
     ]
    }
   ],
   "source": [
    "model = tf.keras.Sequential()\n",
    "\n",
    "model.add(Conv2D(4, kernel_size=(3,3), input_shape=(20,12,1)))\n",
    "model.add(MaxPooling2D(pool_size=(2,2), padding='valid'))\n",
    "model.add(BatchNormalization(axis=1))\n",
    "model.add(Activation('relu'))\n",
    "\n",
    "model.add(Conv2D(8, kernel_size=(3,3)))\n",
    "model.add(MaxPooling2D(pool_size=(2,2), padding='valid'))\n",
    "model.add(BatchNormalization(axis=1))\n",
    "model.add(Activation('relu'))\n",
    "\n",
    "model.add(Flatten())\n",
    "model.add(Dense(24))\n",
    "model.add(BatchNormalization(axis=1))\n",
    "model.add(Activation('relu'))\n",
    "\n",
    "model.add(Dense(1))\n",
    "model.add(BatchNormalization(axis=1))\n",
    "model.add(Activation('sigmoid'))\n",
    "\n",
    "model.build(input_shape=(120,72,1))\n",
    "\n",
    "model.summary()"
   ]
  },
  {
   "cell_type": "code",
   "execution_count": 37,
   "id": "b5bc2304",
   "metadata": {},
   "outputs": [],
   "source": [
    "push = lambda x: x > .5       #function to check if number greater than .5\n",
    "\n",
    "def hls_model_accuracy(hls_model, test_X, test_y):                              #function for testing accurcry of hls model\n",
    "    return accuracy_score(test_y, [push(i) for i in hls_model.predict(test_X)])\n",
    "\n",
    "def get_timing(build_result):\n",
    "    return (build_result['BestLatency'], build_result['WorstLatency'],\n",
    "            build_result['IntervalMin'], build_result['IntervalMax'])\n",
    "\n",
    "\n",
    "class CustomSensitivityAtSpecificity(tf.keras.metrics.SensitivityAtSpecificity):     #specificity TN/(TN+FP) \n",
    "                                                                                \n",
    "    def __init__(self, specificity, num_thresholds=200, name=None, dtype=None):\n",
    "        if specificity < 0 or specificity > 1:\n",
    "            raise ValueError('`specificity` must be in the range [0, 1].')\n",
    "        self.specificity = specificity\n",
    "        self.num_thresholds = num_thresholds\n",
    "        super().__init__(\n",
    "            specificity, num_thresholds=num_thresholds, name=name, dtype=dtype)  #from the tf.kera.metrics.SensitivityAtSpecificity\n",
    "                                                                                 #class, creates out object\n",
    "    def result(self):\n",
    "        specificities = math_ops.div_no_nan(\n",
    "        self.true_negatives, self.true_negatives + self.false_positives)   #from keras class super()\n",
    "        sensitivities = math_ops.div_no_nan(\n",
    "        self.true_positives, self.true_positives + self.false_negatives)   \n",
    "        return self._find_max_under_constraint(\n",
    "                    specificities, sensitivities, math_ops.greater_equal)  #What?\n",
    "\n",
    "    def get_threshold(self):\n",
    "        specificities = math_ops.div_no_nan(\n",
    "        self.true_negatives, self.true_negatives + self.false_positives)\n",
    "        \n",
    "        sensitivities = math_ops.div_no_nan(\n",
    "        self.true_positives, self.true_positives + self.false_negatives)    #Sensitivity TP/(TP+FN)\n",
    "        \n",
    "        specs_above_thresh = array_ops.where(math_ops.greater_equal(specificities, self.value))   #What?\n",
    "        \n",
    "        return math_ops.reduce_min(array_ops.gather(self.thresholds, specs_above_thresh)).numpy()\n",
    "\n",
    "def compiler(model_name):\n",
    "    opt = tf.keras.optimizers.Adam(0.001)\n",
    "    sensitivity_metric = tf.keras.metrics.SensitivityAtSpecificity(name='sens_at_spec',\n",
    "                                                                             specificity=0.99925,     \n",
    "                                                                             num_thresholds=20000)     \n",
    "    auc_metric = tf.keras.metrics.AUC(name='auc', num_thresholds=200)   \n",
    "    metrics = ['accuracy', sensitivity_metric, auc_metric]\n",
    "\n",
    "    model_name.compile(optimizer=opt, loss='binary_crossentropy', metrics=metrics)\n",
    "    \n",
    "    return model_name\n",
    "       \n",
    "def trainer(model_name, train_X, train_y):     \n",
    "\n",
    "    model_name.fit(train_X, \n",
    "               train_y, \n",
    "               epochs=50, \n",
    "               verbose=1,\n",
    "               batch_size=512, \n",
    "               validation_split=.2,   \n",
    "               shuffle=True,\n",
    "               callbacks=[tf.keras.callbacks.EarlyStopping(monitor='val_loss',\n",
    "                                                             patience=5,\n",
    "                                                             restore_best_weights=True),     \n",
    "                            pruning_callbacks.UpdatePruningStep()])"
   ]
  },
  {
   "cell_type": "code",
   "execution_count": 38,
   "id": "b1caf1d3",
   "metadata": {},
   "outputs": [],
   "source": [
    "model = compiler(model)"
   ]
  },
  {
   "cell_type": "code",
   "execution_count": 39,
   "id": "0cd4723e",
   "metadata": {},
   "outputs": [],
   "source": [
    "model.load_weights('hist_models_original_size/try_1_copy_of_old_weights.h5')"
   ]
  },
  {
   "cell_type": "code",
   "execution_count": 40,
   "id": "0e2d0611",
   "metadata": {},
   "outputs": [],
   "source": [
    "test_X = np.load('/storage1/bz18310/hist_data/train_test_120x72/test_X.npy')\n",
    "test_y = np.load('/storage1/bz18310/hist_data/train_test_120x72/test_y.npy')"
   ]
  },
  {
   "cell_type": "markdown",
   "id": "8d7324e1",
   "metadata": {},
   "source": [
    "## Testing the model versus coarser 20x12"
   ]
  },
  {
   "cell_type": "code",
   "execution_count": 48,
   "id": "2e64d5de",
   "metadata": {},
   "outputs": [
    {
     "name": "stdout",
     "output_type": "stream",
     "text": [
      "WARNING:tensorflow:SavedModel saved prior to TF 2.5 detected when loading Keras model. Please ensure that you are saving the model with model.save() or tf.keras.models.save_model(), *NOT* tf.saved_model.save(). To confirm, there should be a file named \"keras_metadata.pb\" in the SavedModel directory.\n"
     ]
    }
   ],
   "source": [
    "coarse_model = tf.keras.models.load_model('./cnn_20x12_keras_trained')   #load trained model\n",
    "compiler(coarse_model)\n",
    "\n",
    "data = np.load('./data_hh4b_20x12_160000.npz')\n",
    "test_X_c = data['test_X']\n",
    "test_y_c = data['test_y']\n",
    "data = 0\n"
   ]
  },
  {
   "cell_type": "code",
   "execution_count": 49,
   "id": "278ed39b",
   "metadata": {},
   "outputs": [
    {
     "name": "stdout",
     "output_type": "stream",
     "text": [
      "2942/2942 [==============================] - 28s 10ms/step - loss: 0.0520 - accuracy: 0.9831 - sens_at_spec: 0.3435 - auc: 0.9969\n",
      "1250/1250 [==============================] - 5s 3ms/step - loss: 0.0757 - accuracy: 0.9739 - sens_at_spec: 0.6989 - auc: 0.9957\n"
     ]
    },
    {
     "data": {
      "text/plain": [
       "[0.07571113854646683,\n",
       " 0.9738749861717224,\n",
       " 0.698924720287323,\n",
       " 0.9957337379455566]"
      ]
     },
     "execution_count": 49,
     "metadata": {},
     "output_type": "execute_result"
    }
   ],
   "source": [
    "model.evaluate(test_X, test_y)\n",
    "coarse_model.evaluate(test_X_c, test_y_c)"
   ]
  },
  {
   "cell_type": "code",
   "execution_count": 52,
   "id": "39512a57",
   "metadata": {},
   "outputs": [],
   "source": [
    "def plot_roc_and_eff(model_list, model_name_list, test_X, test_y):\n",
    "    bg_rate = 40*10**6\n",
    "    fig1, ax1 = plt.subplots()\n",
    "    fig2, ax2 = plt.subplots(figsize=(6,6))\n",
    "    for i,m in enumerate(model_list):\n",
    "        fpr, tpr, thresholds = roc_curve(test_y[i], m.predict(test_X[i]))\n",
    "        \n",
    "        rates, rates_errs, effs, effs_errs = eff_rate(fpr, tpr, thresholds, \n",
    "                                                      bg_rate, \n",
    "                                                      test_y[i], \n",
    "                                                      m.predict(test_X[i]))\n",
    "        effs, rates, effs_errs, rates_errs = optimal_eff_rate(effs, rates, effs_errs, rates_errs)\n",
    "        \n",
    "        plot_roc(ax1, fpr, tpr, legend=True, label=model_name_list[i], lw=3.)\n",
    "        plot_eff_rate(ax2, np.array(effs), np.array(rates), \n",
    "                      rates_errs=rates_errs, effs_errs=effs_errs, ls='', capsize=4., legend=True, label=model_name_list[i])\n",
    "    \n",
    "    ax1.plot([0,1], [0,1], ls='--', lw=2., color='black')\n",
    "    ax1.set_yscale('log')\n",
    "    ax1.set_ylim(0.000000001, 10)\n",
    "    ax1.set_xscale('log')\n",
    "    ax1.set_xlim(0.000000001, 10)\n",
    "    \n",
    "    ax2.set_xscale('log')\n",
    "    ax2.set_xlim((1,1000))"
   ]
  },
  {
   "cell_type": "code",
   "execution_count": 53,
   "id": "a4c7b938",
   "metadata": {},
   "outputs": [
    {
     "data": {
      "image/png": "[encoded data removed]",
      "text/plain": [
       "<Figure size 432x288 with 1 Axes>"
      ]
     },
     "metadata": {
      "needs_background": "light"
     },
     "output_type": "display_data"
    },
    {
     "data": {
      "image/png": "[encoded data removed]",
      "text/plain": [
       "<Figure size 432x432 with 1 Axes>"
      ]
     },
     "metadata": {
      "needs_background": "light"
     },
     "output_type": "display_data"
    }
   ],
   "source": [
    "plot_roc_and_eff([model, coarse_model], ['120x72', '20x12'], [test_X, test_X_c], [test_y, test_y_c])"
   ]
  },
  {
   "cell_type": "code",
   "execution_count": 9,
   "id": "c2a771d1",
   "metadata": {},
   "outputs": [],
   "source": [
    "import hls4ml\n",
    "from hls4ml.model.profiling import numerical, activations_keras, boxplot\n",
    "\n",
    "sys.path.append('/usersc/bz18310/previous_notebook/cms-l1-triggers')\n",
    "\n",
    "from utils.analysis import eff_rate, optimal_eff_rate\n",
    "from utils.preprocessing import resize\n",
    "from utils.plotting import *\n",
    "from utils.hls4ml_helpers import *"
   ]
  },
  {
   "cell_type": "code",
   "execution_count": 30,
   "id": "a92082c7",
   "metadata": {},
   "outputs": [],
   "source": [
    "def hls4ml_converter_quantized(model_name, converted_dir, stripping):   #not sure ill use this...\n",
    "    \n",
    "    if stripping:\n",
    "        model_name = strip_pruning(model_name)\n",
    "    \n",
    "    hls4ml.model.optimizer.OutputRoundingSaturationMode.layers = ['Activation']      #What does this do?\n",
    "    hls4ml.model.optimizer.OutputRoundingSaturationMode.rounding_mode = 'AP_RND'\n",
    "    hls4ml.model.optimizer.OutputRoundingSaturationMode.saturation_mode = 'AP_SAT'\n",
    "\n",
    "    config = hls4ml.utils.config_from_keras_model(model_name, granularity='name')   #hls4ml get config from kera config\n",
    "    \n",
    "    for l in config['LayerName']:\n",
    "        config['LayerName'][l]['Strategy'] = 'Latency'\n",
    "    config['LayerName']['sigmoid']['exp_table_t'] = 'ap_fixed<18,8>'\n",
    "    config['LayerName']['sigmoid']['inv_table_t'] = 'ap_fixed<18,4>'\n",
    "\n",
    "    display(config)\n",
    "    hls_model = hls4ml.converters.convert_from_keras_model(model_name,\n",
    "                                                       hls_config=config,   #set configuration of model\n",
    "                                                       output_dir=converted_dir,  #6bit model save\n",
    "                                                       fpga_part='xcku15p-ffva1760-2-e',     #What?\n",
    "                                                        clock_period=(1/.24),      #set clock period??\n",
    "                                                          io_type='io_stream')     #What?\n",
    "    hls_model.compile()   #compiles model\n",
    "    return hls_model\n",
    "\n",
    "def hls4ml_converter(model_name, directory):\n",
    "        \n",
    "    config = hls4ml.utils.config_from_keras_model(model_name, granularity='model')\n",
    "    print(\"-----------------------------------\")\n",
    "    config = {'Model': {'Precision': 'ap_fixed<5,1>',\n",
    "              'ReuseFactor': 1,\n",
    "              'Strategy': 'Latency'}}\n",
    "    print(\"Configuration\")\n",
    "    display(config)\n",
    "    print(\"-----------------------------------\")\n",
    "    hls_model = hls4ml.converters.convert_from_keras_model(model_name,\n",
    "                                                           #hls_config=config,   #set configuration of model\n",
    "                                                           output_dir=directory,  #6bit model save\n",
    "                                                           fpga_part='xcku15p-ffva1760-2-e',     #What?\n",
    "                                                            clock_period=(1/.24),      #set clock period??\n",
    "                                                              io_type='io_stream')     #\n",
    "    hls_model.compile()\n",
    "    return hls_model"
   ]
  },
  {
   "cell_type": "code",
   "execution_count": 31,
   "id": "ff02020e",
   "metadata": {},
   "outputs": [
    {
     "name": "stdout",
     "output_type": "stream",
     "text": [
      "Interpreting Sequential\n",
      "Topology:\n",
      "Layer name: conv2d_6_input, layer type: Input\n",
      "Layer name: conv2d_6, layer type: Conv2D\n",
      "  -> Activation (linear), layer name: conv2d_6\n",
      "Layer name: max_pooling2d_6, layer type: MaxPooling2D\n",
      "Layer name: batch_normalization_12, layer type: BatchNormalization\n",
      "Layer name: activation_12, layer type: Activation\n",
      "Layer name: conv2d_7, layer type: Conv2D\n",
      "  -> Activation (linear), layer name: conv2d_7\n",
      "Layer name: max_pooling2d_7, layer type: MaxPooling2D\n",
      "Layer name: batch_normalization_13, layer type: BatchNormalization\n",
      "Layer name: activation_13, layer type: Activation\n",
      "Layer name: dense_6, layer type: Dense\n",
      "  -> Activation (linear), layer name: dense_6\n",
      "Layer name: batch_normalization_14, layer type: BatchNormalization\n",
      "Layer name: activation_14, layer type: Activation\n",
      "Layer name: dense_7, layer type: Dense\n",
      "  -> Activation (linear), layer name: dense_7\n",
      "Layer name: batch_normalization_15, layer type: BatchNormalization\n",
      "Layer name: activation_15, layer type: Activation\n",
      "-----------------------------------\n",
      "Configuration\n"
     ]
    },
    {
     "data": {
      "text/plain": [
       "{'Model': {'Precision': 'ap_fixed<5,1>',\n",
       "  'ReuseFactor': 1,\n",
       "  'Strategy': 'Latency'}}"
      ]
     },
     "metadata": {},
     "output_type": "display_data"
    },
    {
     "name": "stdout",
     "output_type": "stream",
     "text": [
      "-----------------------------------\n",
      "Interpreting Sequential\n",
      "Topology:\n",
      "Layer name: conv2d_6_input, layer type: InputLayer, current shape: [[None, 120, 72, 1]]\n",
      "Layer name: conv2d_6, layer type: Conv2D, current shape: [[None, 120, 72, 1]]\n",
      "Layer name: max_pooling2d_6, layer type: MaxPooling2D, current shape: [[None, 118, 70, 4]]\n",
      "Layer name: batch_normalization_12, layer type: BatchNormalization, current shape: [[None, 59, 35, 4]]\n",
      "Layer name: activation_12, layer type: Activation, current shape: [[None, 59, 35, 4]]\n",
      "Layer name: conv2d_7, layer type: Conv2D, current shape: [[None, 59, 35, 4]]\n",
      "Layer name: max_pooling2d_7, layer type: MaxPooling2D, current shape: [[None, 57, 33, 8]]\n",
      "Layer name: batch_normalization_13, layer type: BatchNormalization, current shape: [[None, 28, 16, 8]]\n",
      "Layer name: activation_13, layer type: Activation, current shape: [[None, 28, 16, 8]]\n",
      "Layer name: dense_6, layer type: Dense, current shape: [[None, 28, 16, 8]]\n",
      "Layer name: batch_normalization_14, layer type: BatchNormalization, current shape: [[None, 24]]\n",
      "Layer name: activation_14, layer type: Activation, current shape: [[None, 24]]\n",
      "Layer name: dense_7, layer type: Dense, current shape: [[None, 24]]\n",
      "Layer name: batch_normalization_15, layer type: BatchNormalization, current shape: [[None, 1]]\n",
      "Layer name: activation_15, layer type: Activation, current shape: [[None, 1]]\n",
      "Creating HLS model\n",
      "Writing HLS project\n",
      "Done\n"
     ]
    }
   ],
   "source": [
    "hls4ml_model = hls4ml_converter(model, 'hist_models_original_size/hls_try_1_copy_of_old/hls4ml_prj')"
   ]
  },
  {
   "cell_type": "code",
   "execution_count": 32,
   "id": "396e9535",
   "metadata": {},
   "outputs": [
    {
     "name": "stdout",
     "output_type": "stream",
     "text": [
      "Synthesis report not found.\n"
     ]
    },
    {
     "data": {
      "text/plain": [
       "{}"
      ]
     },
     "execution_count": 32,
     "metadata": {},
     "output_type": "execute_result"
    }
   ],
   "source": [
    "hls4ml_model.build(csim=False)"
   ]
  },
  {
   "cell_type": "code",
   "execution_count": 33,
   "id": "3cac153c",
   "metadata": {},
   "outputs": [
    {
     "name": "stdout",
     "output_type": "stream",
     "text": [
      "Found 1 solution(s) in hist_models_original_size/hls_try_1_copy_of_old/hls4ml_prj/myproject_prj.\n",
      "Reports for solution \"solution1\":\n",
      "\n",
      "C simulation report not found.\n",
      "Synthesis report not found.\n",
      "Co-simulation report not found.\n"
     ]
    }
   ],
   "source": [
    "hls4ml.report.read_vivado_report('hist_models_original_size/hls_try_1_copy_of_old/hls4ml_prj')"
   ]
  },
  {
   "cell_type": "code",
   "execution_count": null,
   "id": "1d618e89",
   "metadata": {},
   "outputs": [],
   "source": []
  }
 ],
 "metadata": {
  "kernelspec": {
   "display_name": "Python 3",
   "language": "python",
   "name": "python3"
  },
  "language_info": {
   "codemirror_mode": {
    "name": "ipython",
    "version": 3
   },
   "file_extension": ".py",
   "mimetype": "text/x-python",
   "name": "python",
   "nbconvert_exporter": "python",
   "pygments_lexer": "ipython3",
   "version": "3.9.5"
  }
 },
 "nbformat": 4,
 "nbformat_minor": 5
}
