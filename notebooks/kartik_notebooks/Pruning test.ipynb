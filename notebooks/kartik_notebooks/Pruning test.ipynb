{
 "cells": [
  {
   "cell_type": "markdown",
   "id": "51086543",
   "metadata": {},
   "source": [
    "### Investigation on pruning\n",
    "\n",
    "Here we will take a copy of the old notebook and prune it.\n",
    "\n",
    "***First we will take all functions and stuff from before back here***"
   ]
  },
  {
   "cell_type": "code",
   "execution_count": 1,
   "id": "6c0c9e0a",
   "metadata": {},
   "outputs": [],
   "source": [
    "import numpy as np\n",
    "from sklearn.model_selection import train_test_split        #split data for training and testing\n",
    "from sklearn.metrics import accuracy_score                  #to view accuracy\n",
    "import pandas as pd\n",
    "import seaborn as sns\n",
    "\n",
    "import tensorflow as tf\n",
    "from tensorflow.python.ops import array_ops, math_ops      #for math operations division_no_nan\n",
    "from tensorflow.keras.layers import *\n",
    "import keras_tuner as kt\n",
    "from keras_tuner.tuners import RandomSearch, Hyperband, BayesianOptimization\n",
    "from sklearn.metrics import roc_curve, auc\n",
    "import tensorflow_model_optimization as tfmot\n",
    "from tensorflow_model_optimization.python.core.sparsity.keras import prune, pruning_callbacks, pruning_schedule\n",
    "from tensorflow_model_optimization.sparsity.keras import strip_pruning\n",
    "\n",
    "from qkeras import *\n",
    "import hls4ml\n",
    "from hls4ml.model.profiling import numerical, activations_keras, boxplot\n",
    "\n",
    "import matplotlib.pyplot as plt\n",
    "%matplotlib inline\n",
    "plt.rcParams['figure.figsize'] = [10,10]\n",
    "plt.rcParams['font.size'] = 16.0\n",
    "\n",
    "seed = 48\n",
    "\n",
    "np.random.seed(seed)\n",
    "tf.random.set_seed(seed)\n",
    "\n",
    "import os\n",
    "import sys\n",
    "\n",
    "# will need to clone https://github.com/kpidgeon/cms-l1-triggers for a few\n",
    "# helper functions if running notebook and include path to repo here\n",
    "sys.path.append('/usersc/bz18310/previous_notebook/cms-l1-triggers')\n",
    "\n",
    "from utils.analysis import eff_rate, optimal_eff_rate\n",
    "from utils.preprocessing import resize\n",
    "from utils.plotting import *\n",
    "from utils.hls4ml_helpers import *\n",
    "\n",
    "plt.rc('figure', figsize=(8,6))\n",
    "\n",
    "\n",
    "###for loading and saving models\n",
    "from tensorflow.keras.models import load_model\n",
    "\n",
    "from qkeras.utils import model_save_quantized_weights\n",
    "from qkeras.utils import load_qmodel\n",
    "\n",
    "###For Pruning summaries\n",
    "\n",
    "import tempfile"
   ]
  },
  {
   "cell_type": "code",
   "execution_count": 2,
   "id": "43d5e311",
   "metadata": {},
   "outputs": [],
   "source": [
    "# a couple of helper functions\n",
    "\n",
    "push = lambda x: x > .5       #function to check if number greater than .5\n",
    "\n",
    "def hls_model_accuracy(hls_model, test_X, test_y):                              #function for testing accurcry of hls model\n",
    "    return accuracy_score(test_y, [push(i) for i in hls_model.predict(test_X)])\n",
    "\n",
    "\n",
    "def get_timing(build_result):\n",
    "    return (build_result['BestLatency'], build_result['WorstLatency'],\n",
    "            build_result['IntervalMin'], build_result['IntervalMax'])\n",
    "\n",
    "\n",
    "class CustomSensitivityAtSpecificity(tf.keras.metrics.SensitivityAtSpecificity):     #specificity TN/(TN+FP) \n",
    "                                                                                \n",
    "    def __init__(self, specificity, num_thresholds=200, name=None, dtype=None):\n",
    "        if specificity < 0 or specificity > 1:\n",
    "            raise ValueError('`specificity` must be in the range [0, 1].')\n",
    "        self.specificity = specificity\n",
    "        self.num_thresholds = num_thresholds\n",
    "        super().__init__(\n",
    "            specificity, num_thresholds=num_thresholds, name=name, dtype=dtype)  #from the tf.kera.metrics.SensitivityAtSpecificity\n",
    "                                                                                 #class, creates out object\n",
    "    def result(self):\n",
    "        specificities = math_ops.div_no_nan(\n",
    "        self.true_negatives, self.true_negatives + self.false_positives)   #from keras class super()\n",
    "        sensitivities = math_ops.div_no_nan(\n",
    "        self.true_positives, self.true_positives + self.false_negatives)   \n",
    "        return self._find_max_under_constraint(\n",
    "                    specificities, sensitivities, math_ops.greater_equal)  #What?\n",
    "\n",
    "    def get_threshold(self):\n",
    "        specificities = math_ops.div_no_nan(\n",
    "        self.true_negatives, self.true_negatives + self.false_positives)\n",
    "        \n",
    "        sensitivities = math_ops.div_no_nan(\n",
    "        self.true_positives, self.true_positives + self.false_negatives)    #Sensitivity TP/(TP+FN)\n",
    "        \n",
    "        specs_above_thresh = array_ops.where(math_ops.greater_equal(specificities, self.value))   #What?\n",
    "        \n",
    "        return math_ops.reduce_min(array_ops.gather(self.thresholds, specs_above_thresh)).numpy()\n",
    "        \n",
    "    \n",
    "    def get_config(self):\n",
    "        config = {\n",
    "            'num_thresholds': self.num_thresholds,\n",
    "            'specificity': self.specificity\n",
    "        }\n",
    "        base_config = super().get_config()    #from keras class object.\n",
    "        return dict(list(base_config.items()) + list(config.items()))\n",
    "    \n",
    "\n",
    "    \n",
    "def trainer(model_name, train, savename, stripping):   #function for training and saving models\n",
    "    if train:\n",
    "        opt = tf.keras.optimizers.Adam(0.001)\n",
    "        log_dir = tempfile.mkdtemp()\n",
    "        sensitivity_metric = tf.keras.metrics.SensitivityAtSpecificity(name='sens_at_spec',\n",
    "                                                                                 specificity=0.99925,     \n",
    "                                                                                 num_thresholds=20000)     \n",
    "        auc_metric = tf.keras.metrics.AUC(name='auc', num_thresholds=200)   \n",
    "        metrics = ['accuracy', sensitivity_metric, auc_metric]\n",
    "\n",
    "        model_name.compile(optimizer=opt, loss='binary_crossentropy', metrics=metrics)    \n",
    "\n",
    "        model_name.fit(train_X, \n",
    "                   train_y, \n",
    "                   epochs=50, \n",
    "                   verbose=1,\n",
    "                   batch_size=512, \n",
    "                   validation_split=.2,   \n",
    "                   shuffle=True,\n",
    "                   callbacks=[tf.keras.callbacks.EarlyStopping(monitor='val_loss',\n",
    "                                                                 patience=5,\n",
    "                                                                 restore_best_weights=True),     #What does callbacks do?\n",
    "                                pruning_callbacks.UpdatePruningStep(),\n",
    "                                tfmot.sparsity.keras.PruningSummaries(log_dir=log_dir)])\n",
    "            # Save the model again but with the pruning 'stripped' to use the regular layer types\n",
    "        if stripping:\n",
    "            model_stripped = strip_pruning(model_name)\n",
    "            model_stripped.save(savename)\n",
    "        else:\n",
    "            model_name.save(savename)\n",
    "    else:\n",
    "        model_name = load_model(savename)\n",
    "\n",
    "def show_weight_distrib(model_name):\n",
    "    w = model_name.layers[0].weights[0].numpy()\n",
    "    h, b = np.histogram(w, bins=100)\n",
    "    plt.figure(figsize=(7,7))\n",
    "    plt.bar(b[:-1], h, width=b[1]-b[0])\n",
    "    plt.semilogy()\n",
    "    plt.show()\n",
    "    print('% of zeros = {}'.format(np.sum(w==0)/np.size(w)))\n",
    "\n",
    "def sense_at_spec_scan(model_list, model_name_list):\n",
    "    table = pd.DataFrame({'sens_at_spec_10kHz': [],\n",
    "                                  'sens_at_spec_30kHz': [],\n",
    "                                  'sens_at_spec_50kHz': [],\n",
    "                                  'threshold_10kHz': [],\n",
    "                                 'threshold_30kHz': [],\n",
    "                                 'threshold_50kHz': []})\n",
    "    \n",
    "    sens_at_spec_30 = CustomSensitivityAtSpecificity(0.99925, num_thresholds=2000)    \n",
    "    sens_at_spec_50 = CustomSensitivityAtSpecificity(0.99875, num_thresholds=2000)\n",
    "    sens_at_spec_10 = CustomSensitivityAtSpecificity(0.99975, num_thresholds=2000)\n",
    "    \n",
    "    for i,m in enumerate(model_list):\n",
    "        sens_at_spec_10.update_state(test_y, m.predict(test_X))   \n",
    "        sens_at_spec_30.update_state(test_y, m.predict(test_X))\n",
    "        sens_at_spec_50.update_state(test_y, m.predict(test_X))\n",
    "        \n",
    "        table = table.append({ 'sens_at_spec_10kHz': sens_at_spec_10.result().numpy(), #from class functions\n",
    "                              'sens_at_spec_30kHz': sens_at_spec_30.result().numpy(),\n",
    "                              'sens_at_spec_50kHz': sens_at_spec_50.result().numpy(),\n",
    "                            'threshold_10kHz': sens_at_spec_10.get_threshold(),\n",
    "                              'threshold_30kHz': sens_at_spec_30.get_threshold(),\n",
    "                              'threshold_50kHz': sens_at_spec_50.get_threshold(),\n",
    "                                  'model': model_name_list[i]\n",
    "                             },\n",
    "                             ignore_index=True)\n",
    "    display(table)\n",
    "    \n",
    "def plot_roc_and_eff(model_list, model_name_list):\n",
    "    bg_rate = 40*10**6\n",
    "    fig1, ax1 = plt.subplots()\n",
    "    fig2, ax2 = plt.subplots(figsize=(6,6))\n",
    "    for i,m in enumerate(model_list):\n",
    "        fpr, tpr, thresholds = roc_curve(test_y, m.predict(test_X))\n",
    "        \n",
    "        rates, rates_errs, effs, effs_errs = eff_rate(fpr, tpr, thresholds, \n",
    "                                                      bg_rate, \n",
    "                                                      test_y, \n",
    "                                                      m.predict(test_X))\n",
    "        effs, rates, effs_errs, rates_errs = optimal_eff_rate(effs, rates, effs_errs, rates_errs)\n",
    "        \n",
    "        plot_roc(ax1, fpr, tpr, legend=True, label=model_name_list[i], lw=3.)\n",
    "        plot_eff_rate(ax2, np.array(effs), np.array(rates), \n",
    "                      rates_errs=rates_errs, effs_errs=effs_errs, ls='', capsize=4., legend=True, label=model_name_list[i])\n",
    "    \n",
    "    ax1.plot([0,1], [0,1], ls='--', lw=2., color='black')\n",
    "    ax1.set_yscale('log')\n",
    "    ax1.set_ylim(0.000000001, 10)\n",
    "    ax1.set_xscale('log')\n",
    "    ax1.set_xlim(0.000000001, 10)\n",
    "    \n",
    "    ax2.set_xscale('log')\n",
    "    ax2.set_xlim((1,1000))\n",
    "    \n",
    "    \n",
    "def print_model_weights_sparsity(model):\n",
    "\n",
    "    for layer in model.layers:\n",
    "        if isinstance(layer, tf.keras.layers.Wrapper):\n",
    "            weights = layer.trainable_weights\n",
    "        else:\n",
    "            weights = layer.weights\n",
    "        for weight in weights:\n",
    "            # ignore auxiliary quantization weights\n",
    "            if \"quantize_layer\" in weight.name:\n",
    "                continue\n",
    "            weight_size = weight.numpy().size\n",
    "            zero_num = np.count_nonzero(weight == 0)\n",
    "            print(\n",
    "                f\"{weight.name}: {zero_num/weight_size:.2%} sparsity \",\n",
    "                f\"({zero_num}/{weight_size})\",\n",
    "            )"
   ]
  },
  {
   "cell_type": "markdown",
   "id": "7ee8a68e",
   "metadata": {},
   "source": [
    "#### Load the model here"
   ]
  },
  {
   "cell_type": "code",
   "execution_count": 3,
   "id": "816a7e76",
   "metadata": {},
   "outputs": [
    {
     "name": "stdout",
     "output_type": "stream",
     "text": [
      "WARNING:tensorflow:SavedModel saved prior to TF 2.5 detected when loading Keras model. Please ensure that you are saving the model with model.save() or tf.keras.models.save_model(), *NOT* tf.saved_model.save(). To confirm, there should be a file named \"keras_metadata.pb\" in the SavedModel directory.\n",
      "Model: \"sequential\"\n",
      "_________________________________________________________________\n",
      "Layer (type)                 Output Shape              Param #   \n",
      "=================================================================\n",
      "conv1 (Conv2D)               (None, 18, 10, 4)         36        \n",
      "_________________________________________________________________\n",
      "max_pooling2d (MaxPooling2D) (None, 9, 5, 4)           0         \n",
      "_________________________________________________________________\n",
      "batch_normalization (BatchNo (None, 9, 5, 4)           16        \n",
      "_________________________________________________________________\n",
      "relu_c1 (Activation)         (None, 9, 5, 4)           0         \n",
      "_________________________________________________________________\n",
      "conv2 (Conv2D)               (None, 7, 3, 8)           288       \n",
      "_________________________________________________________________\n",
      "max_pooling2d_1 (MaxPooling2 (None, 3, 1, 8)           0         \n",
      "_________________________________________________________________\n",
      "batch_normalization_1 (Batch (None, 3, 1, 8)           32        \n",
      "_________________________________________________________________\n",
      "relu_c2 (Activation)         (None, 3, 1, 8)           0         \n",
      "_________________________________________________________________\n",
      "inputFlat (Flatten)          (None, 24)                0         \n",
      "_________________________________________________________________\n",
      "dense1 (Dense)               (None, 24)                576       \n",
      "_________________________________________________________________\n",
      "batch_normalization_2 (Batch (None, 24)                96        \n",
      "_________________________________________________________________\n",
      "relu1 (Activation)           (None, 24)                0         \n",
      "_________________________________________________________________\n",
      "output (Dense)               (None, 1)                 25        \n",
      "_________________________________________________________________\n",
      "batch_normalization_3 (Batch (None, 1)                 4         \n",
      "_________________________________________________________________\n",
      "sigmoid (Activation)         (None, 1)                 0         \n",
      "=================================================================\n",
      "Total params: 1,073\n",
      "Trainable params: 999\n",
      "Non-trainable params: 74\n",
      "_________________________________________________________________\n"
     ]
    }
   ],
   "source": [
    "data = np.load('./data_hh4b_20x12_160000.npz')\n",
    "train_X = data['train_X']      #data for training the quantized model\n",
    "train_y = data['train_y']      #data labels\n",
    "test_X = data['test_X']\n",
    "test_y = data['test_y']\n",
    "test_X_hw_hh4b = data['test_X_hw_hh4b']\n",
    "test_y_hw_hh4b = data['test_y_hw_hh4b']\n",
    "test_X_hw_snu = data['test_X_hw_snu']\n",
    "test_y_hw_snu = data['test_y_hw_snu']\n",
    "data = 0\n",
    "\n",
    "model = tf.keras.models.load_model('./cnn_20x12_keras_trained')   #load trained model\n",
    "\n",
    "model.summary()"
   ]
  },
  {
   "cell_type": "markdown",
   "id": "07fbc009",
   "metadata": {},
   "source": [
    "Choose pruning parameters"
   ]
  },
  {
   "cell_type": "markdown",
   "id": "5c035f0b",
   "metadata": {},
   "source": [
    "pruning_params = {\"pruning_schedule\" : pruning_schedule.ConstantSparsity(0.75,             #75% sparse\n",
    "                                                                         begin_step=2000,  #what?\n",
    "                                                                         frequency=100)}\n",
    "pmodel = prune.prune_low_magnitude(model, **pruning_params)  # pruned model"
   ]
  },
  {
   "cell_type": "markdown",
   "id": "a7a9fb1b",
   "metadata": {},
   "source": [
    "Compile and train model before pruning"
   ]
  },
  {
   "cell_type": "code",
   "execution_count": 4,
   "id": "c81aa282",
   "metadata": {},
   "outputs": [
    {
     "name": "stdout",
     "output_type": "stream",
     "text": [
      "Epoch 1/50\n",
      "188/188 [==============================] - 13s 62ms/step - loss: 0.0789 - accuracy: 0.9733 - sens_at_spec: 0.6515 - auc: 0.9953 - val_loss: 0.0796 - val_accuracy: 0.9720 - val_sens_at_spec: 0.6248 - val_auc: 0.9955\n",
      "Epoch 2/50\n",
      "188/188 [==============================] - 11s 59ms/step - loss: 0.0791 - accuracy: 0.9727 - sens_at_spec: 0.6373 - auc: 0.9952 - val_loss: 0.0800 - val_accuracy: 0.9722 - val_sens_at_spec: 0.6271 - val_auc: 0.9953\n",
      "Epoch 3/50\n",
      "188/188 [==============================] - 11s 59ms/step - loss: 0.0792 - accuracy: 0.9724 - sens_at_spec: 0.6529 - auc: 0.9952 - val_loss: 0.0805 - val_accuracy: 0.9714 - val_sens_at_spec: 0.6547 - val_auc: 0.9954\n",
      "Epoch 4/50\n",
      "188/188 [==============================] - 11s 59ms/step - loss: 0.0794 - accuracy: 0.9729 - sens_at_spec: 0.6354 - auc: 0.9951 - val_loss: 0.0788 - val_accuracy: 0.9722 - val_sens_at_spec: 0.6510 - val_auc: 0.9955\n",
      "Epoch 5/50\n",
      "188/188 [==============================] - 11s 60ms/step - loss: 0.0789 - accuracy: 0.9730 - sens_at_spec: 0.6715 - auc: 0.9953 - val_loss: 0.0789 - val_accuracy: 0.9724 - val_sens_at_spec: 0.6374 - val_auc: 0.9954\n",
      "Epoch 6/50\n",
      "188/188 [==============================] - 11s 59ms/step - loss: 0.0788 - accuracy: 0.9728 - sens_at_spec: 0.6189 - auc: 0.9952 - val_loss: 0.0790 - val_accuracy: 0.9720 - val_sens_at_spec: 0.6412 - val_auc: 0.9954\n",
      "Epoch 7/50\n",
      "188/188 [==============================] - 11s 59ms/step - loss: 0.0785 - accuracy: 0.9729 - sens_at_spec: 0.6394 - auc: 0.9953 - val_loss: 0.0794 - val_accuracy: 0.9721 - val_sens_at_spec: 0.6694 - val_auc: 0.9955\n",
      "Epoch 8/50\n",
      "188/188 [==============================] - 11s 60ms/step - loss: 0.0783 - accuracy: 0.9730 - sens_at_spec: 0.6514 - auc: 0.9954 - val_loss: 0.0788 - val_accuracy: 0.9725 - val_sens_at_spec: 0.6662 - val_auc: 0.9956\n",
      "Epoch 9/50\n",
      "188/188 [==============================] - 11s 60ms/step - loss: 0.0784 - accuracy: 0.9733 - sens_at_spec: 0.6555 - auc: 0.9953 - val_loss: 0.0797 - val_accuracy: 0.9718 - val_sens_at_spec: 0.6242 - val_auc: 0.9954\n"
     ]
    }
   ],
   "source": [
    "trainer(model, train=True, savename='pruning_models/unpruned_train_1_test.h5', stripping=False)"
   ]
  },
  {
   "cell_type": "markdown",
   "id": "61797195",
   "metadata": {},
   "source": [
    "Visualise weights here."
   ]
  },
  {
   "cell_type": "code",
   "execution_count": 5,
   "id": "c1b35cfd",
   "metadata": {},
   "outputs": [
    {
     "data": {
      "image/png": "[encoded data removed]",
      "text/plain": [
       "<Figure size 504x504 with 1 Axes>"
      ]
     },
     "metadata": {
      "needs_background": "light"
     },
     "output_type": "display_data"
    },
    {
     "name": "stdout",
     "output_type": "stream",
     "text": [
      "% of zeros = 0.0\n"
     ]
    }
   ],
   "source": [
    "show_weight_distrib(model)"
   ]
  },
  {
   "cell_type": "code",
   "execution_count": 6,
   "id": "3843eab7",
   "metadata": {},
   "outputs": [
    {
     "name": "stdout",
     "output_type": "stream",
     "text": [
      "WARNING:tensorflow:SavedModel saved prior to TF 2.5 detected when loading Keras model. Please ensure that you are saving the model with model.save() or tf.keras.models.save_model(), *NOT* tf.saved_model.save(). To confirm, there should be a file named \"keras_metadata.pb\" in the SavedModel directory.\n"
     ]
    },
    {
     "name": "stderr",
     "output_type": "stream",
     "text": [
      "/software/bz18310/miniconda/envs/test_python_3/lib/python3.9/site-packages/tensorflow/python/keras/engine/base_layer.py:2191: UserWarning: `layer.add_variable` is deprecated and will be removed in a future version. Please use `layer.add_weight` method instead.\n",
      "  warnings.warn('`layer.add_variable` is deprecated and '\n"
     ]
    }
   ],
   "source": [
    "model_for_pruning = tf.keras.models.load_model('./cnn_20x12_keras_trained')   #load trained model\n",
    "model_for_pruning = tfmot.sparsity.keras.prune_low_magnitude(model_for_pruning)"
   ]
  },
  {
   "cell_type": "code",
   "execution_count": 7,
   "id": "19de393e",
   "metadata": {},
   "outputs": [
    {
     "name": "stdout",
     "output_type": "stream",
     "text": [
      "Epoch 1/50\n",
      "WARNING:tensorflow:From /software/bz18310/miniconda/envs/test_python_3/lib/python3.9/site-packages/tensorflow/python/ops/array_ops.py:5043: calling gather (from tensorflow.python.ops.array_ops) with validate_indices is deprecated and will be removed in a future version.\n",
      "Instructions for updating:\n",
      "The `validate_indices` argument has no effect. Indices are always validated on CPU and never validated on GPU.\n",
      "188/188 [==============================] - 15s 64ms/step - loss: 0.0822 - accuracy: 0.9724 - sens_at_spec: 0.5522 - auc: 0.9947 - val_loss: 0.0894 - val_accuracy: 0.9683 - val_sens_at_spec: 0.5210 - val_auc: 0.9948\n",
      "Epoch 2/50\n",
      "188/188 [==============================] - 11s 59ms/step - loss: 0.0839 - accuracy: 0.9714 - sens_at_spec: 0.4993 - auc: 0.9945 - val_loss: 0.0825 - val_accuracy: 0.9703 - val_sens_at_spec: 0.5819 - val_auc: 0.9950\n",
      "Epoch 3/50\n",
      "188/188 [==============================] - 12s 61ms/step - loss: 0.0831 - accuracy: 0.9719 - sens_at_spec: 0.5281 - auc: 0.9946 - val_loss: 0.0822 - val_accuracy: 0.9710 - val_sens_at_spec: 0.5795 - val_auc: 0.9951\n",
      "Epoch 4/50\n",
      "188/188 [==============================] - 11s 61ms/step - loss: 0.0828 - accuracy: 0.9721 - sens_at_spec: 0.5422 - auc: 0.9947 - val_loss: 0.0817 - val_accuracy: 0.9707 - val_sens_at_spec: 0.6001 - val_auc: 0.9952\n",
      "Epoch 5/50\n",
      "188/188 [==============================] - 11s 60ms/step - loss: 0.0823 - accuracy: 0.9721 - sens_at_spec: 0.5707 - auc: 0.9948 - val_loss: 0.0814 - val_accuracy: 0.9706 - val_sens_at_spec: 0.5995 - val_auc: 0.9952\n",
      "Epoch 6/50\n",
      "188/188 [==============================] - 11s 61ms/step - loss: 0.0819 - accuracy: 0.9724 - sens_at_spec: 0.5668 - auc: 0.9948 - val_loss: 0.0818 - val_accuracy: 0.9703 - val_sens_at_spec: 0.5814 - val_auc: 0.9952\n",
      "Epoch 7/50\n",
      "188/188 [==============================] - 11s 60ms/step - loss: 0.0816 - accuracy: 0.9723 - sens_at_spec: 0.5808 - auc: 0.9949 - val_loss: 0.0812 - val_accuracy: 0.9709 - val_sens_at_spec: 0.5941 - val_auc: 0.9953\n",
      "Epoch 8/50\n",
      "188/188 [==============================] - 12s 62ms/step - loss: 0.0814 - accuracy: 0.9723 - sens_at_spec: 0.5980 - auc: 0.9949 - val_loss: 0.0820 - val_accuracy: 0.9715 - val_sens_at_spec: 0.6202 - val_auc: 0.9953\n",
      "Epoch 9/50\n",
      "188/188 [==============================] - 11s 61ms/step - loss: 0.0813 - accuracy: 0.9728 - sens_at_spec: 0.5805 - auc: 0.9949 - val_loss: 0.0815 - val_accuracy: 0.9717 - val_sens_at_spec: 0.5733 - val_auc: 0.9953\n",
      "Epoch 10/50\n",
      "188/188 [==============================] - 11s 61ms/step - loss: 0.0813 - accuracy: 0.9724 - sens_at_spec: 0.6057 - auc: 0.9949 - val_loss: 0.0808 - val_accuracy: 0.9706 - val_sens_at_spec: 0.6122 - val_auc: 0.9952\n",
      "Epoch 11/50\n",
      "188/188 [==============================] - 11s 60ms/step - loss: 0.0811 - accuracy: 0.9726 - sens_at_spec: 0.6110 - auc: 0.9949 - val_loss: 0.0808 - val_accuracy: 0.9711 - val_sens_at_spec: 0.5918 - val_auc: 0.9953\n",
      "Epoch 12/50\n",
      "188/188 [==============================] - 11s 61ms/step - loss: 0.0813 - accuracy: 0.9724 - sens_at_spec: 0.6090 - auc: 0.9950 - val_loss: 0.0805 - val_accuracy: 0.9713 - val_sens_at_spec: 0.5885 - val_auc: 0.9953\n",
      "Epoch 13/50\n",
      "188/188 [==============================] - 11s 61ms/step - loss: 0.0810 - accuracy: 0.9724 - sens_at_spec: 0.6129 - auc: 0.9950 - val_loss: 0.0806 - val_accuracy: 0.9707 - val_sens_at_spec: 0.5887 - val_auc: 0.9953\n",
      "Epoch 14/50\n",
      "188/188 [==============================] - 11s 60ms/step - loss: 0.0807 - accuracy: 0.9725 - sens_at_spec: 0.6156 - auc: 0.9950 - val_loss: 0.0809 - val_accuracy: 0.9704 - val_sens_at_spec: 0.5857 - val_auc: 0.9952\n",
      "Epoch 15/50\n",
      "188/188 [==============================] - 11s 61ms/step - loss: 0.0814 - accuracy: 0.9722 - sens_at_spec: 0.6018 - auc: 0.9949 - val_loss: 0.0815 - val_accuracy: 0.9718 - val_sens_at_spec: 0.6099 - val_auc: 0.9953\n",
      "Epoch 16/50\n",
      "188/188 [==============================] - 11s 59ms/step - loss: 0.0804 - accuracy: 0.9727 - sens_at_spec: 0.6004 - auc: 0.9950 - val_loss: 0.0805 - val_accuracy: 0.9711 - val_sens_at_spec: 0.5944 - val_auc: 0.9952\n",
      "Epoch 17/50\n",
      "188/188 [==============================] - 11s 61ms/step - loss: 0.0813 - accuracy: 0.9725 - sens_at_spec: 0.6058 - auc: 0.9949 - val_loss: 0.0807 - val_accuracy: 0.9707 - val_sens_at_spec: 0.6091 - val_auc: 0.9951\n",
      "Epoch 18/50\n",
      "188/188 [==============================] - 11s 61ms/step - loss: 0.0800 - accuracy: 0.9728 - sens_at_spec: 0.6230 - auc: 0.9951 - val_loss: 0.0803 - val_accuracy: 0.9719 - val_sens_at_spec: 0.6024 - val_auc: 0.9953\n",
      "Epoch 19/50\n",
      "188/188 [==============================] - 11s 61ms/step - loss: 0.0806 - accuracy: 0.9727 - sens_at_spec: 0.6274 - auc: 0.9950 - val_loss: 0.0804 - val_accuracy: 0.9713 - val_sens_at_spec: 0.6065 - val_auc: 0.9954\n",
      "Epoch 20/50\n",
      "188/188 [==============================] - 11s 61ms/step - loss: 0.0803 - accuracy: 0.9723 - sens_at_spec: 0.6319 - auc: 0.9950 - val_loss: 0.0803 - val_accuracy: 0.9716 - val_sens_at_spec: 0.6065 - val_auc: 0.9954\n",
      "Epoch 21/50\n",
      "188/188 [==============================] - 11s 60ms/step - loss: 0.0803 - accuracy: 0.9725 - sens_at_spec: 0.6294 - auc: 0.9950 - val_loss: 0.0801 - val_accuracy: 0.9713 - val_sens_at_spec: 0.6007 - val_auc: 0.9952\n",
      "Epoch 22/50\n",
      "188/188 [==============================] - 12s 62ms/step - loss: 0.0806 - accuracy: 0.9728 - sens_at_spec: 0.6219 - auc: 0.9950 - val_loss: 0.0803 - val_accuracy: 0.9718 - val_sens_at_spec: 0.5987 - val_auc: 0.9952\n",
      "Epoch 23/50\n",
      "188/188 [==============================] - 12s 62ms/step - loss: 0.0807 - accuracy: 0.9727 - sens_at_spec: 0.6201 - auc: 0.9950 - val_loss: 0.0801 - val_accuracy: 0.9717 - val_sens_at_spec: 0.6145 - val_auc: 0.9953\n",
      "Epoch 24/50\n",
      "188/188 [==============================] - 11s 61ms/step - loss: 0.0804 - accuracy: 0.9726 - sens_at_spec: 0.6206 - auc: 0.9950 - val_loss: 0.0804 - val_accuracy: 0.9714 - val_sens_at_spec: 0.6061 - val_auc: 0.9953\n",
      "Epoch 25/50\n",
      "188/188 [==============================] - 11s 61ms/step - loss: 0.0800 - accuracy: 0.9728 - sens_at_spec: 0.6355 - auc: 0.9952 - val_loss: 0.0802 - val_accuracy: 0.9718 - val_sens_at_spec: 0.6011 - val_auc: 0.9952\n",
      "Epoch 26/50\n",
      "188/188 [==============================] - 11s 60ms/step - loss: 0.0798 - accuracy: 0.9727 - sens_at_spec: 0.6345 - auc: 0.9951 - val_loss: 0.0801 - val_accuracy: 0.9716 - val_sens_at_spec: 0.6096 - val_auc: 0.9953\n",
      "Epoch 27/50\n",
      "188/188 [==============================] - 11s 60ms/step - loss: 0.0807 - accuracy: 0.9728 - sens_at_spec: 0.6331 - auc: 0.9950 - val_loss: 0.0804 - val_accuracy: 0.9712 - val_sens_at_spec: 0.6210 - val_auc: 0.9953\n",
      "Epoch 28/50\n",
      "188/188 [==============================] - 11s 61ms/step - loss: 0.0798 - accuracy: 0.9728 - sens_at_spec: 0.6367 - auc: 0.9951 - val_loss: 0.0802 - val_accuracy: 0.9713 - val_sens_at_spec: 0.6145 - val_auc: 0.9953\n",
      "Epoch 29/50\n",
      "188/188 [==============================] - 11s 61ms/step - loss: 0.0795 - accuracy: 0.9727 - sens_at_spec: 0.6424 - auc: 0.9952 - val_loss: 0.0803 - val_accuracy: 0.9721 - val_sens_at_spec: 0.6165 - val_auc: 0.9954\n",
      "Epoch 30/50\n",
      "188/188 [==============================] - 12s 62ms/step - loss: 0.0799 - accuracy: 0.9726 - sens_at_spec: 0.6360 - auc: 0.9951 - val_loss: 0.0801 - val_accuracy: 0.9713 - val_sens_at_spec: 0.6169 - val_auc: 0.9953\n",
      "Epoch 31/50\n",
      "188/188 [==============================] - 11s 60ms/step - loss: 0.0795 - accuracy: 0.9726 - sens_at_spec: 0.6468 - auc: 0.9952 - val_loss: 0.0801 - val_accuracy: 0.9717 - val_sens_at_spec: 0.6234 - val_auc: 0.9953\n",
      "WARNING:tensorflow:Compiled the loaded model, but the compiled metrics have yet to be built. `model.compile_metrics` will be empty until you train or evaluate the model.\n"
     ]
    }
   ],
   "source": [
    "trainer(model_for_pruning, train=True, savename='pruning_models/pruned_train_1_test.h5', stripping=True)"
   ]
  },
  {
   "cell_type": "code",
   "execution_count": 8,
   "id": "f8f1afe4",
   "metadata": {},
   "outputs": [
    {
     "data": {
      "image/png": "[encoded data removed]",
      "text/plain": [
       "<Figure size 504x504 with 1 Axes>"
      ]
     },
     "metadata": {
      "needs_background": "light"
     },
     "output_type": "display_data"
    },
    {
     "name": "stdout",
     "output_type": "stream",
     "text": [
      "% of zeros = 0.5\n"
     ]
    }
   ],
   "source": [
    "show_weight_distrib(model_for_pruning)"
   ]
  },
  {
   "cell_type": "code",
   "execution_count": 9,
   "id": "eb79f628",
   "metadata": {},
   "outputs": [
    {
     "data": {
      "image/png": "[encoded data removed]",
      "text/plain": [
       "<Figure size 576x432 with 1 Axes>"
      ]
     },
     "metadata": {
      "needs_background": "light"
     },
     "output_type": "display_data"
    },
    {
     "data": {
      "image/png": "[encoded data removed]",
      "text/plain": [
       "<Figure size 432x432 with 1 Axes>"
      ]
     },
     "metadata": {
      "needs_background": "light"
     },
     "output_type": "display_data"
    }
   ],
   "source": [
    "plot_roc_and_eff([model, model_for_pruning], ['unpruned', 'pruned'])"
   ]
  },
  {
   "cell_type": "code",
   "execution_count": 10,
   "id": "1a2e1006",
   "metadata": {},
   "outputs": [
    {
     "data": {
      "text/html": [
       "<div>\n",
       "<style scoped>\n",
       "    .dataframe tbody tr th:only-of-type {\n",
       "        vertical-align: middle;\n",
       "    }\n",
       "\n",
       "    .dataframe tbody tr th {\n",
       "        vertical-align: top;\n",
       "    }\n",
       "\n",
       "    .dataframe thead th {\n",
       "        text-align: right;\n",
       "    }\n",
       "</style>\n",
       "<table border=\"1\" class=\"dataframe\">\n",
       "  <thead>\n",
       "    <tr style=\"text-align: right;\">\n",
       "      <th></th>\n",
       "      <th>sens_at_spec_10kHz</th>\n",
       "      <th>sens_at_spec_30kHz</th>\n",
       "      <th>sens_at_spec_50kHz</th>\n",
       "      <th>threshold_10kHz</th>\n",
       "      <th>threshold_30kHz</th>\n",
       "      <th>threshold_50kHz</th>\n",
       "      <th>model</th>\n",
       "    </tr>\n",
       "  </thead>\n",
       "  <tbody>\n",
       "    <tr>\n",
       "      <th>0</th>\n",
       "      <td>0.532660</td>\n",
       "      <td>0.655010</td>\n",
       "      <td>0.738519</td>\n",
       "      <td>0.996998</td>\n",
       "      <td>0.994998</td>\n",
       "      <td>0.991996</td>\n",
       "      <td>unpruned</td>\n",
       "    </tr>\n",
       "    <tr>\n",
       "      <th>1</th>\n",
       "      <td>0.525676</td>\n",
       "      <td>0.688247</td>\n",
       "      <td>0.749824</td>\n",
       "      <td>0.996998</td>\n",
       "      <td>0.993497</td>\n",
       "      <td>0.989995</td>\n",
       "      <td>pruned</td>\n",
       "    </tr>\n",
       "  </tbody>\n",
       "</table>\n",
       "</div>"
      ],
      "text/plain": [
       "   sens_at_spec_10kHz  sens_at_spec_30kHz  sens_at_spec_50kHz  \\\n",
       "0            0.532660            0.655010            0.738519   \n",
       "1            0.525676            0.688247            0.749824   \n",
       "\n",
       "   threshold_10kHz  threshold_30kHz  threshold_50kHz     model  \n",
       "0         0.996998         0.994998         0.991996  unpruned  \n",
       "1         0.996998         0.993497         0.989995    pruned  "
      ]
     },
     "metadata": {},
     "output_type": "display_data"
    }
   ],
   "source": [
    "sense_at_spec_scan([model, model_for_pruning], ['unpruned', 'pruned'])"
   ]
  },
  {
   "cell_type": "code",
   "execution_count": 11,
   "id": "75631005",
   "metadata": {},
   "outputs": [
    {
     "name": "stdout",
     "output_type": "stream",
     "text": [
      "Unpruned model evaluation: \n",
      "\n",
      "1250/1250 [==============================] - 4s 3ms/step - loss: 0.0759 - accuracy: 0.9735 - sens_at_spec: 0.6696 - auc: 0.9957\n",
      "\n",
      "Pruned model evaluation: \n",
      "\n",
      "1250/1250 [==============================] - 5s 3ms/step - loss: 0.0766 - accuracy: 0.9730 - sens_at_spec: 0.6924 - auc: 0.9957\n"
     ]
    },
    {
     "data": {
      "text/plain": [
       "[0.07656493037939072,\n",
       " 0.9730499982833862,\n",
       " 0.6923927068710327,\n",
       " 0.9956637620925903]"
      ]
     },
     "execution_count": 11,
     "metadata": {},
     "output_type": "execute_result"
    }
   ],
   "source": [
    "print('Unpruned model evaluation: \\n')\n",
    "model.evaluate(test_X, test_y)\n",
    "print('\\nPruned model evaluation: \\n')\n",
    "model_for_pruning.evaluate(test_X, test_y)"
   ]
  },
  {
   "cell_type": "markdown",
   "id": "30d36c99",
   "metadata": {},
   "source": [
    "### Now Pruning on the QAT models."
   ]
  },
  {
   "cell_type": "code",
   "execution_count": 12,
   "id": "b4fc8802",
   "metadata": {},
   "outputs": [
    {
     "name": "stdout",
     "output_type": "stream",
     "text": [
      "WARNING:tensorflow:SavedModel saved prior to TF 2.5 detected when loading Keras model. Please ensure that you are saving the model with model.save() or tf.keras.models.save_model(), *NOT* tf.saved_model.save(). To confirm, there should be a file named \"keras_metadata.pb\" in the SavedModel directory.\n",
      "Model: \"sequential\"\n",
      "_________________________________________________________________\n",
      "Layer (type)                 Output Shape              Param #   \n",
      "=================================================================\n",
      "conv1 (QConv2D)              (None, 18, 10, 4)         36        \n",
      "_________________________________________________________________\n",
      "max_pooling2d (MaxPooling2D) (None, 9, 5, 4)           0         \n",
      "_________________________________________________________________\n",
      "batch_normalization (BatchNo (None, 9, 5, 4)           16        \n",
      "_________________________________________________________________\n",
      "relu_c1 (QActivation)        (None, 9, 5, 4)           0         \n",
      "_________________________________________________________________\n",
      "conv2 (QConv2D)              (None, 7, 3, 8)           288       \n",
      "_________________________________________________________________\n",
      "max_pooling2d_1 (MaxPooling2 (None, 3, 1, 8)           0         \n",
      "_________________________________________________________________\n",
      "batch_normalization_1 (Batch (None, 3, 1, 8)           32        \n",
      "_________________________________________________________________\n",
      "relu_c2 (QActivation)        (None, 3, 1, 8)           0         \n",
      "_________________________________________________________________\n",
      "inputFlat (Flatten)          (None, 24)                0         \n",
      "_________________________________________________________________\n",
      "dense1 (QDense)              (None, 24)                576       \n",
      "_________________________________________________________________\n",
      "batch_normalization_2 (Batch (None, 24)                96        \n",
      "_________________________________________________________________\n",
      "relu1 (QActivation)          (None, 24)                0         \n",
      "_________________________________________________________________\n",
      "output (QDense)              (None, 1)                 25        \n",
      "_________________________________________________________________\n",
      "batch_normalization_3 (Batch (None, 1)                 4         \n",
      "_________________________________________________________________\n",
      "sigmoid (Activation)         (None, 1)                 0         \n",
      "=================================================================\n",
      "Total params: 1,073\n",
      "Trainable params: 999\n",
      "Non-trainable params: 74\n",
      "_________________________________________________________________\n"
     ]
    }
   ],
   "source": [
    "b = 5\n",
    "config = {\n",
    "\n",
    "        'QConv2D': {\n",
    "          \"kernel_quantizer\": f'quantized_bits({b})',\n",
    "          \"bias_quantizer\": f'quantized_bits({b})'\n",
    "        },\n",
    "        'QDense': {\n",
    "          \"kernel_quantizer\": f'quantized_bits({b})',\n",
    "          \"bias_quantizer\": f'quantized_bits({b})'\n",
    "        },\n",
    "        'QActivation': {'relu': f'quantized_relu({b})'}\n",
    "\n",
    "    }\n",
    "\n",
    "model_for_quantization = tf.keras.models.load_model('./cnn_20x12_keras_trained')\n",
    "qmodel = utils.model_quantize(model_for_quantization, config, b)\n",
    "qmodel.summary()"
   ]
  },
  {
   "cell_type": "code",
   "execution_count": 13,
   "id": "9685722a",
   "metadata": {},
   "outputs": [
    {
     "name": "stdout",
     "output_type": "stream",
     "text": [
      "Epoch 1/50\n",
      "188/188 [==============================] - 16s 71ms/step - loss: 0.3294 - accuracy: 0.9582 - sens_at_spec: 0.0972 - auc: 0.9862 - val_loss: 0.6543 - val_accuracy: 0.5560 - val_sens_at_spec: 0.4172 - val_auc: 0.9879\n",
      "Epoch 2/50\n",
      "188/188 [==============================] - 12s 62ms/step - loss: 0.2808 - accuracy: 0.9672 - sens_at_spec: 0.1475 - auc: 0.9899 - val_loss: 0.4038 - val_accuracy: 0.8430 - val_sens_at_spec: 0.4313 - val_auc: 0.9938\n",
      "Epoch 3/50\n",
      "188/188 [==============================] - 12s 63ms/step - loss: 0.2481 - accuracy: 0.9688 - sens_at_spec: 0.1985 - auc: 0.9909 - val_loss: 0.2473 - val_accuracy: 0.9650 - val_sens_at_spec: 0.3076 - val_auc: 0.9942\n",
      "Epoch 4/50\n",
      "188/188 [==============================] - 12s 63ms/step - loss: 0.2223 - accuracy: 0.9698 - sens_at_spec: 0.1790 - auc: 0.9914 - val_loss: 0.2083 - val_accuracy: 0.9700 - val_sens_at_spec: 0.2655 - val_auc: 0.9934\n",
      "Epoch 5/50\n",
      "188/188 [==============================] - 12s 64ms/step - loss: 0.2011 - accuracy: 0.9708 - sens_at_spec: 0.2173 - auc: 0.9921 - val_loss: 0.1916 - val_accuracy: 0.9692 - val_sens_at_spec: 0.2739 - val_auc: 0.9936\n",
      "Epoch 6/50\n",
      "188/188 [==============================] - 12s 63ms/step - loss: 0.1838 - accuracy: 0.9711 - sens_at_spec: 0.3196 - auc: 0.9927 - val_loss: 0.1776 - val_accuracy: 0.9695 - val_sens_at_spec: 0.2638 - val_auc: 0.9936\n",
      "Epoch 7/50\n",
      "188/188 [==============================] - 12s 62ms/step - loss: 0.1694 - accuracy: 0.9712 - sens_at_spec: 0.2894 - auc: 0.9931 - val_loss: 0.1647 - val_accuracy: 0.9705 - val_sens_at_spec: 0.4663 - val_auc: 0.9939\n",
      "Epoch 8/50\n",
      "188/188 [==============================] - 12s 63ms/step - loss: 0.1572 - accuracy: 0.9716 - sens_at_spec: 0.3416 - auc: 0.9935 - val_loss: 0.1554 - val_accuracy: 0.9701 - val_sens_at_spec: 0.4192 - val_auc: 0.9942\n",
      "Epoch 9/50\n",
      "188/188 [==============================] - 12s 63ms/step - loss: 0.1473 - accuracy: 0.9722 - sens_at_spec: 0.2853 - auc: 0.9935 - val_loss: 0.1405 - val_accuracy: 0.9703 - val_sens_at_spec: 0.5358 - val_auc: 0.9942\n",
      "Epoch 10/50\n",
      "188/188 [==============================] - 12s 63ms/step - loss: 0.1389 - accuracy: 0.9721 - sens_at_spec: 0.2841 - auc: 0.9937 - val_loss: 0.1355 - val_accuracy: 0.9702 - val_sens_at_spec: 0.3567 - val_auc: 0.9945\n",
      "Epoch 11/50\n",
      "188/188 [==============================] - 12s 62ms/step - loss: 0.1313 - accuracy: 0.9724 - sens_at_spec: 0.3112 - auc: 0.9939 - val_loss: 0.1282 - val_accuracy: 0.9697 - val_sens_at_spec: 0.4422 - val_auc: 0.9943\n",
      "Epoch 12/50\n",
      "188/188 [==============================] - 12s 64ms/step - loss: 0.1252 - accuracy: 0.9723 - sens_at_spec: 0.3122 - auc: 0.9941 - val_loss: 0.1218 - val_accuracy: 0.9711 - val_sens_at_spec: 0.3168 - val_auc: 0.9945\n",
      "Epoch 13/50\n",
      "188/188 [==============================] - 12s 63ms/step - loss: 0.1197 - accuracy: 0.9722 - sens_at_spec: 0.3861 - auc: 0.9942 - val_loss: 0.1183 - val_accuracy: 0.9705 - val_sens_at_spec: 0.4472 - val_auc: 0.9945\n",
      "Epoch 14/50\n",
      "188/188 [==============================] - 12s 63ms/step - loss: 0.1145 - accuracy: 0.9725 - sens_at_spec: 0.3893 - auc: 0.9943 - val_loss: 0.1168 - val_accuracy: 0.9701 - val_sens_at_spec: 0.3212 - val_auc: 0.9945\n",
      "Epoch 15/50\n",
      "188/188 [==============================] - 12s 64ms/step - loss: 0.1110 - accuracy: 0.9723 - sens_at_spec: 0.2909 - auc: 0.9941 - val_loss: 0.1108 - val_accuracy: 0.9713 - val_sens_at_spec: 0.5519 - val_auc: 0.9951\n",
      "Epoch 16/50\n",
      "188/188 [==============================] - 12s 63ms/step - loss: 0.1065 - accuracy: 0.9731 - sens_at_spec: 0.4146 - auc: 0.9945 - val_loss: 0.1068 - val_accuracy: 0.9713 - val_sens_at_spec: 0.3646 - val_auc: 0.9948\n",
      "Epoch 17/50\n",
      "188/188 [==============================] - 12s 63ms/step - loss: 0.1043 - accuracy: 0.9726 - sens_at_spec: 0.3571 - auc: 0.9943 - val_loss: 0.1037 - val_accuracy: 0.9712 - val_sens_at_spec: 0.3687 - val_auc: 0.9951\n",
      "Epoch 18/50\n",
      "188/188 [==============================] - 12s 63ms/step - loss: 0.1005 - accuracy: 0.9733 - sens_at_spec: 0.4102 - auc: 0.9945 - val_loss: 0.1004 - val_accuracy: 0.9710 - val_sens_at_spec: 0.5061 - val_auc: 0.9948\n",
      "Epoch 19/50\n",
      "188/188 [==============================] - 12s 63ms/step - loss: 0.0984 - accuracy: 0.9729 - sens_at_spec: 0.3705 - auc: 0.9946 - val_loss: 0.1013 - val_accuracy: 0.9714 - val_sens_at_spec: 0.4989 - val_auc: 0.9949\n",
      "Epoch 20/50\n",
      "188/188 [==============================] - 12s 62ms/step - loss: 0.0959 - accuracy: 0.9730 - sens_at_spec: 0.4529 - auc: 0.9946 - val_loss: 0.0974 - val_accuracy: 0.9713 - val_sens_at_spec: 0.5085 - val_auc: 0.9950\n",
      "Epoch 21/50\n",
      "188/188 [==============================] - 12s 63ms/step - loss: 0.0940 - accuracy: 0.9731 - sens_at_spec: 0.4052 - auc: 0.9947 - val_loss: 0.0954 - val_accuracy: 0.9709 - val_sens_at_spec: 0.4840 - val_auc: 0.9949\n",
      "Epoch 22/50\n",
      "188/188 [==============================] - 12s 63ms/step - loss: 0.0925 - accuracy: 0.9730 - sens_at_spec: 0.4481 - auc: 0.9945 - val_loss: 0.0950 - val_accuracy: 0.9707 - val_sens_at_spec: 0.4066 - val_auc: 0.9949\n",
      "Epoch 23/50\n",
      "188/188 [==============================] - 12s 63ms/step - loss: 0.0912 - accuracy: 0.9729 - sens_at_spec: 0.4542 - auc: 0.9946 - val_loss: 0.0934 - val_accuracy: 0.9714 - val_sens_at_spec: 0.5703 - val_auc: 0.9948\n",
      "Epoch 24/50\n",
      "188/188 [==============================] - 12s 63ms/step - loss: 0.0898 - accuracy: 0.9729 - sens_at_spec: 0.4532 - auc: 0.9948 - val_loss: 0.0922 - val_accuracy: 0.9708 - val_sens_at_spec: 0.5556 - val_auc: 0.9951\n",
      "Epoch 25/50\n",
      "188/188 [==============================] - 12s 62ms/step - loss: 0.0884 - accuracy: 0.9730 - sens_at_spec: 0.5243 - auc: 0.9949 - val_loss: 0.0906 - val_accuracy: 0.9716 - val_sens_at_spec: 0.5927 - val_auc: 0.9952\n",
      "Epoch 26/50\n",
      "188/188 [==============================] - 12s 63ms/step - loss: 0.0871 - accuracy: 0.9732 - sens_at_spec: 0.5312 - auc: 0.9950 - val_loss: 0.0897 - val_accuracy: 0.9710 - val_sens_at_spec: 0.5256 - val_auc: 0.9951\n",
      "Epoch 27/50\n",
      "188/188 [==============================] - 12s 64ms/step - loss: 0.0868 - accuracy: 0.9730 - sens_at_spec: 0.5278 - auc: 0.9949 - val_loss: 0.0882 - val_accuracy: 0.9710 - val_sens_at_spec: 0.5999 - val_auc: 0.9953\n",
      "Epoch 28/50\n",
      "188/188 [==============================] - 12s 63ms/step - loss: 0.0853 - accuracy: 0.9734 - sens_at_spec: 0.5278 - auc: 0.9950 - val_loss: 0.0876 - val_accuracy: 0.9714 - val_sens_at_spec: 0.6063 - val_auc: 0.9951\n",
      "Epoch 29/50\n",
      "188/188 [==============================] - 12s 63ms/step - loss: 0.0842 - accuracy: 0.9732 - sens_at_spec: 0.5126 - auc: 0.9950 - val_loss: 0.0895 - val_accuracy: 0.9706 - val_sens_at_spec: 0.6128 - val_auc: 0.9952\n",
      "Epoch 30/50\n",
      "188/188 [==============================] - 12s 64ms/step - loss: 0.0835 - accuracy: 0.9734 - sens_at_spec: 0.5427 - auc: 0.9951 - val_loss: 0.0865 - val_accuracy: 0.9710 - val_sens_at_spec: 0.5679 - val_auc: 0.9952\n",
      "Epoch 31/50\n",
      "188/188 [==============================] - 12s 62ms/step - loss: 0.0831 - accuracy: 0.9734 - sens_at_spec: 0.6153 - auc: 0.9951 - val_loss: 0.0868 - val_accuracy: 0.9706 - val_sens_at_spec: 0.5773 - val_auc: 0.9949\n",
      "Epoch 32/50\n",
      "188/188 [==============================] - 12s 64ms/step - loss: 0.0829 - accuracy: 0.9729 - sens_at_spec: 0.5645 - auc: 0.9951 - val_loss: 0.0861 - val_accuracy: 0.9711 - val_sens_at_spec: 0.5072 - val_auc: 0.9951\n",
      "Epoch 33/50\n",
      "188/188 [==============================] - 12s 62ms/step - loss: 0.0821 - accuracy: 0.9733 - sens_at_spec: 0.5716 - auc: 0.9951 - val_loss: 0.0857 - val_accuracy: 0.9711 - val_sens_at_spec: 0.5176 - val_auc: 0.9951\n",
      "Epoch 34/50\n",
      "188/188 [==============================] - 12s 63ms/step - loss: 0.0819 - accuracy: 0.9728 - sens_at_spec: 0.5382 - auc: 0.9951 - val_loss: 0.0861 - val_accuracy: 0.9708 - val_sens_at_spec: 0.5703 - val_auc: 0.9950\n",
      "Epoch 35/50\n",
      "188/188 [==============================] - 12s 63ms/step - loss: 0.0809 - accuracy: 0.9732 - sens_at_spec: 0.5842 - auc: 0.9952 - val_loss: 0.0848 - val_accuracy: 0.9712 - val_sens_at_spec: 0.6190 - val_auc: 0.9950\n",
      "Epoch 36/50\n",
      "188/188 [==============================] - 12s 63ms/step - loss: 0.0807 - accuracy: 0.9733 - sens_at_spec: 0.5899 - auc: 0.9952 - val_loss: 0.0855 - val_accuracy: 0.9706 - val_sens_at_spec: 0.5718 - val_auc: 0.9951\n",
      "Epoch 37/50\n",
      "188/188 [==============================] - 12s 63ms/step - loss: 0.0808 - accuracy: 0.9733 - sens_at_spec: 0.6307 - auc: 0.9952 - val_loss: 0.0855 - val_accuracy: 0.9707 - val_sens_at_spec: 0.6343 - val_auc: 0.9952\n",
      "Epoch 38/50\n",
      "188/188 [==============================] - 12s 63ms/step - loss: 0.0801 - accuracy: 0.9732 - sens_at_spec: 0.5911 - auc: 0.9952 - val_loss: 0.0848 - val_accuracy: 0.9710 - val_sens_at_spec: 0.5614 - val_auc: 0.9950\n",
      "Epoch 39/50\n",
      "188/188 [==============================] - 12s 63ms/step - loss: 0.0797 - accuracy: 0.9734 - sens_at_spec: 0.6221 - auc: 0.9952 - val_loss: 0.0846 - val_accuracy: 0.9710 - val_sens_at_spec: 0.5915 - val_auc: 0.9951\n",
      "Epoch 40/50\n",
      "188/188 [==============================] - 12s 62ms/step - loss: 0.0792 - accuracy: 0.9736 - sens_at_spec: 0.5715 - auc: 0.9952 - val_loss: 0.0852 - val_accuracy: 0.9707 - val_sens_at_spec: 0.4458 - val_auc: 0.9950\n",
      "Epoch 41/50\n",
      "188/188 [==============================] - 12s 63ms/step - loss: 0.0789 - accuracy: 0.9736 - sens_at_spec: 0.6106 - auc: 0.9952 - val_loss: 0.0844 - val_accuracy: 0.9718 - val_sens_at_spec: 0.5598 - val_auc: 0.9950\n",
      "Epoch 42/50\n",
      "188/188 [==============================] - 12s 63ms/step - loss: 0.0794 - accuracy: 0.9733 - sens_at_spec: 0.6199 - auc: 0.9952 - val_loss: 0.0916 - val_accuracy: 0.9682 - val_sens_at_spec: 0.4370 - val_auc: 0.9948\n",
      "Epoch 43/50\n",
      "188/188 [==============================] - 12s 64ms/step - loss: 0.0784 - accuracy: 0.9738 - sens_at_spec: 0.6204 - auc: 0.9954 - val_loss: 0.0852 - val_accuracy: 0.9710 - val_sens_at_spec: 0.6237 - val_auc: 0.9950\n",
      "Epoch 44/50\n",
      "188/188 [==============================] - 12s 62ms/step - loss: 0.0783 - accuracy: 0.9734 - sens_at_spec: 0.6220 - auc: 0.9954 - val_loss: 0.0868 - val_accuracy: 0.9701 - val_sens_at_spec: 0.5443 - val_auc: 0.9950\n",
      "Epoch 45/50\n",
      "188/188 [==============================] - 12s 63ms/step - loss: 0.0782 - accuracy: 0.9736 - sens_at_spec: 0.6072 - auc: 0.9953 - val_loss: 0.0840 - val_accuracy: 0.9708 - val_sens_at_spec: 0.5319 - val_auc: 0.9951\n",
      "Epoch 46/50\n",
      "188/188 [==============================] - 12s 63ms/step - loss: 0.0784 - accuracy: 0.9733 - sens_at_spec: 0.6332 - auc: 0.9954 - val_loss: 0.0847 - val_accuracy: 0.9702 - val_sens_at_spec: 0.4309 - val_auc: 0.9951\n",
      "Epoch 47/50\n",
      "188/188 [==============================] - 12s 63ms/step - loss: 0.0779 - accuracy: 0.9739 - sens_at_spec: 0.6434 - auc: 0.9954 - val_loss: 0.0839 - val_accuracy: 0.9710 - val_sens_at_spec: 0.5302 - val_auc: 0.9950\n",
      "Epoch 48/50\n",
      "188/188 [==============================] - 12s 63ms/step - loss: 0.0783 - accuracy: 0.9733 - sens_at_spec: 0.6170 - auc: 0.9953 - val_loss: 0.0837 - val_accuracy: 0.9707 - val_sens_at_spec: 0.5237 - val_auc: 0.9950\n",
      "Epoch 49/50\n",
      "188/188 [==============================] - 12s 63ms/step - loss: 0.0776 - accuracy: 0.9737 - sens_at_spec: 0.6096 - auc: 0.9953 - val_loss: 0.0845 - val_accuracy: 0.9705 - val_sens_at_spec: 0.5074 - val_auc: 0.9950\n",
      "Epoch 50/50\n",
      "188/188 [==============================] - 12s 62ms/step - loss: 0.0778 - accuracy: 0.9734 - sens_at_spec: 0.6361 - auc: 0.9954 - val_loss: 0.0857 - val_accuracy: 0.9706 - val_sens_at_spec: 0.5938 - val_auc: 0.9950\n"
     ]
    }
   ],
   "source": [
    "trainer(qmodel, train=True, savename='pruning_models/qmodel_unpruned_train_1_test.h5', stripping=False)"
   ]
  },
  {
   "cell_type": "code",
   "execution_count": 14,
   "id": "1447b851",
   "metadata": {},
   "outputs": [
    {
     "data": {
      "image/png": "[encoded data removed]",
      "text/plain": [
       "<Figure size 504x504 with 1 Axes>"
      ]
     },
     "metadata": {
      "needs_background": "light"
     },
     "output_type": "display_data"
    },
    {
     "name": "stdout",
     "output_type": "stream",
     "text": [
      "% of zeros = 0.0\n"
     ]
    }
   ],
   "source": [
    "show_weight_distrib(qmodel)"
   ]
  },
  {
   "cell_type": "code",
   "execution_count": 15,
   "id": "2538d6fb",
   "metadata": {},
   "outputs": [
    {
     "data": {
      "image/png": "[encoded data removed]",
      "text/plain": [
       "<Figure size 576x432 with 1 Axes>"
      ]
     },
     "metadata": {
      "needs_background": "light"
     },
     "output_type": "display_data"
    },
    {
     "data": {
      "image/png": "[encoded data removed]",
      "text/plain": [
       "<Figure size 432x432 with 1 Axes>"
      ]
     },
     "metadata": {
      "needs_background": "light"
     },
     "output_type": "display_data"
    }
   ],
   "source": [
    "plot_roc_and_eff([model, model_for_pruning, qmodel], ['unpruned', 'pruned', 'Quantized'])"
   ]
  },
  {
   "cell_type": "markdown",
   "id": "d22616d0",
   "metadata": {},
   "source": [
    "***Prune the quantized model***"
   ]
  },
  {
   "cell_type": "code",
   "execution_count": 16,
   "id": "651eda06",
   "metadata": {},
   "outputs": [],
   "source": [
    "#qmodel_for_pruning = load_qmodel('./pruning_models/qmodel_unpruned_train_1_test.h5')\n",
    "\n",
    "#qmodel_for_pruning = tfmot.sparsity.keras.prune_low_magnitude(qmodel_for_pruning)"
   ]
  },
  {
   "cell_type": "code",
   "execution_count": 17,
   "id": "62608198",
   "metadata": {},
   "outputs": [],
   "source": [
    "#trainer(qmodel_for_pruning, train=True, savename='pruning_models/qmodel_pruned_train_1_test.h5', stripping=True)"
   ]
  },
  {
   "cell_type": "code",
   "execution_count": 18,
   "id": "62d71f98",
   "metadata": {},
   "outputs": [],
   "source": [
    "#show_weight_distrib(qmodel_for_pruning)"
   ]
  },
  {
   "cell_type": "code",
   "execution_count": 19,
   "id": "0ea411ac",
   "metadata": {},
   "outputs": [],
   "source": [
    "#plot_roc_and_eff([model, model_for_pruning, qmodel, qmodel_for_pruning], ['unpruned', 'pruned', 'Quantized', 'Quantized Pruned'])"
   ]
  },
  {
   "cell_type": "markdown",
   "id": "0a1e0ab4",
   "metadata": {},
   "source": [
    "### Now do it in HLS and look at the perfomance of the model\n",
    "\n",
    "Compile the hls4ml models"
   ]
  },
  {
   "cell_type": "code",
   "execution_count": 20,
   "id": "16da89cf",
   "metadata": {},
   "outputs": [],
   "source": [
    "def hls4ml_converter_quantized(model_list, converted_dir):   #not sure ill use this...\n",
    "    for i,m in enumerate(model_list):\n",
    "        hls4ml.model.optimizer.OutputRoundingSaturationMode.layers = ['Activation']      #What does this do?\n",
    "        hls4ml.model.optimizer.OutputRoundingSaturationMode.rounding_mode = 'AP_RND'\n",
    "        hls4ml.model.optimizer.OutputRoundingSaturationMode.saturation_mode = 'AP_SAT'\n",
    "\n",
    "        config = hls4ml.utils.config_from_keras_model(m, granularity='name')   #hls4ml get config from kera config\n",
    "        for l in config['LayerName']:\n",
    "            config['LayerName'][l]['Strategy'] = 'Latency'\n",
    "        config['LayerName']['sigmoid']['exp_table_t'] = 'ap_fixed<18,8>'\n",
    "        config['LayerName']['sigmoid']['inv_table_t'] = 'ap_fixed<18,4>'\n",
    "\n",
    "        hls_model = hls4ml.converters.convert_from_keras_model(m,\n",
    "                                                           hls_config=config,   #set configuration of model\n",
    "                                                           output_dir=converter_dir[i],  #6bit model save\n",
    "                                                           fpga_part='xcku15p-ffva1760-2-e',     #What?\n",
    "                                                            clock_period=(1/.24),      #set clock period??\n",
    "                                                              io_type='io_stream')     #What?\n",
    "        hls_model.compile()   #compiles model\n",
    "        \n",
    "\n",
    "def hls4ml_converter(model_name, directory, stripping):\n",
    "    if stripping:\n",
    "        model_name = strip_pruning(model_name)\n",
    "        \n",
    "    config = hls4ml.utils.config_from_keras_model(model_name, granularity='name')\n",
    "    print(\"-----------------------------------\")\n",
    "    print(\"Configuration\")\n",
    "    display(config)\n",
    "    print(\"-----------------------------------\")\n",
    "    hls_model = hls4ml.converters.convert_from_keras_model(model_name,\n",
    "                                                           hls_config=config,   #set configuration of model\n",
    "                                                           output_dir=directory,  #6bit model save\n",
    "                                                           fpga_part='xcku15p-ffva1760-2-e',     #What?\n",
    "                                                            clock_period=(1/.24),      #set clock period??\n",
    "                                                              io_type='io_stream')     #\n",
    "    hls_model.compile()\n",
    "    return hls_model\n"
   ]
  },
  {
   "cell_type": "code",
   "execution_count": 21,
   "id": "b03ee2ae",
   "metadata": {
    "scrolled": false
   },
   "outputs": [
    {
     "name": "stdout",
     "output_type": "stream",
     "text": [
      "Interpreting Sequential\n",
      "Topology:\n",
      "Layer name: conv1_input, layer type: Input\n",
      "Layer name: conv1, layer type: Conv2D\n",
      "  -> Activation (linear), layer name: conv1\n",
      "Layer name: max_pooling2d, layer type: MaxPooling2D\n",
      "Layer name: batch_normalization, layer type: BatchNormalization\n",
      "Layer name: relu_c1, layer type: Activation\n",
      "Layer name: conv2, layer type: Conv2D\n",
      "  -> Activation (linear), layer name: conv2\n",
      "Layer name: max_pooling2d_1, layer type: MaxPooling2D\n",
      "Layer name: batch_normalization_1, layer type: BatchNormalization\n",
      "Layer name: relu_c2, layer type: Activation\n",
      "Layer name: dense1, layer type: Dense\n",
      "  -> Activation (linear), layer name: dense1\n",
      "Layer name: batch_normalization_2, layer type: BatchNormalization\n",
      "Layer name: relu1, layer type: Activation\n",
      "Layer name: output, layer type: Dense\n",
      "  -> Activation (linear), layer name: output\n",
      "Layer name: batch_normalization_3, layer type: BatchNormalization\n",
      "Layer name: sigmoid, layer type: Activation\n",
      "-----------------------------------\n",
      "Configuration\n"
     ]
    },
    {
     "data": {
      "text/plain": [
       "{'Model': {'Precision': 'ap_fixed<16,6>',\n",
       "  'ReuseFactor': 1,\n",
       "  'Strategy': 'Latency'},\n",
       " 'LayerName': {'conv1_input': {'Precision': {'result': 'ap_fixed<16,6>'}},\n",
       "  'conv1': {'Precision': {'weight': 'ap_fixed<16,6>',\n",
       "    'bias': 'ap_fixed<16,6>',\n",
       "    'result': 'ap_fixed<16,6>'},\n",
       "   'ReuseFactor': 1},\n",
       "  'conv1_linear': {'Precision': 'ap_fixed<16,6>',\n",
       "   'ReuseFactor': 1,\n",
       "   'table_size': 1024,\n",
       "   'table_t': 'ap_fixed<18,8>'},\n",
       "  'max_pooling2d': {'Precision': 'ap_fixed<16,6>'},\n",
       "  'batch_normalization': {'Precision': {'scale': 'ap_fixed<16,6>',\n",
       "    'bias': 'ap_fixed<16,6>'},\n",
       "   'ReuseFactor': 1},\n",
       "  'relu_c1': {'Precision': 'ap_fixed<16,6>',\n",
       "   'ReuseFactor': 1,\n",
       "   'table_size': 1024,\n",
       "   'table_t': 'ap_fixed<18,8>'},\n",
       "  'conv2': {'Precision': {'weight': 'ap_fixed<16,6>',\n",
       "    'bias': 'ap_fixed<16,6>',\n",
       "    'result': 'ap_fixed<16,6>'},\n",
       "   'ReuseFactor': 1},\n",
       "  'conv2_linear': {'Precision': 'ap_fixed<16,6>',\n",
       "   'ReuseFactor': 1,\n",
       "   'table_size': 1024,\n",
       "   'table_t': 'ap_fixed<18,8>'},\n",
       "  'max_pooling2d_1': {'Precision': 'ap_fixed<16,6>'},\n",
       "  'batch_normalization_1': {'Precision': {'scale': 'ap_fixed<16,6>',\n",
       "    'bias': 'ap_fixed<16,6>'},\n",
       "   'ReuseFactor': 1},\n",
       "  'relu_c2': {'Precision': 'ap_fixed<16,6>',\n",
       "   'ReuseFactor': 1,\n",
       "   'table_size': 1024,\n",
       "   'table_t': 'ap_fixed<18,8>'},\n",
       "  'dense1': {'Precision': {'weight': 'ap_fixed<16,6>',\n",
       "    'bias': 'ap_fixed<16,6>',\n",
       "    'result': 'ap_fixed<16,6>'},\n",
       "   'ReuseFactor': 1},\n",
       "  'dense1_linear': {'Precision': 'ap_fixed<16,6>',\n",
       "   'ReuseFactor': 1,\n",
       "   'table_size': 1024,\n",
       "   'table_t': 'ap_fixed<18,8>'},\n",
       "  'batch_normalization_2': {'Precision': {'scale': 'ap_fixed<16,6>',\n",
       "    'bias': 'ap_fixed<16,6>'},\n",
       "   'ReuseFactor': 1},\n",
       "  'relu1': {'Precision': 'ap_fixed<16,6>',\n",
       "   'ReuseFactor': 1,\n",
       "   'table_size': 1024,\n",
       "   'table_t': 'ap_fixed<18,8>'},\n",
       "  'output': {'Precision': {'weight': 'ap_fixed<16,6>',\n",
       "    'bias': 'ap_fixed<16,6>',\n",
       "    'result': 'ap_fixed<16,6>'},\n",
       "   'ReuseFactor': 1},\n",
       "  'output_linear': {'Precision': 'ap_fixed<16,6>',\n",
       "   'ReuseFactor': 1,\n",
       "   'table_size': 1024,\n",
       "   'table_t': 'ap_fixed<18,8>'},\n",
       "  'batch_normalization_3': {'Precision': {'scale': 'ap_fixed<16,6>',\n",
       "    'bias': 'ap_fixed<16,6>'},\n",
       "   'ReuseFactor': 1},\n",
       "  'sigmoid': {'Precision': 'ap_fixed<16,6>',\n",
       "   'ReuseFactor': 1,\n",
       "   'table_size': 1024,\n",
       "   'table_t': 'ap_fixed<18,8>'}}}"
      ]
     },
     "metadata": {},
     "output_type": "display_data"
    },
    {
     "name": "stdout",
     "output_type": "stream",
     "text": [
      "-----------------------------------\n",
      "Interpreting Sequential\n",
      "Topology:\n",
      "Layer name: conv1_input, layer type: InputLayer, current shape: [[None, 20, 12, 1]]\n",
      "Layer name: conv1, layer type: Conv2D, current shape: [[None, 20, 12, 1]]\n",
      "Layer name: max_pooling2d, layer type: MaxPooling2D, current shape: [[None, 18, 10, 4]]\n",
      "Layer name: batch_normalization, layer type: BatchNormalization, current shape: [[None, 9, 5, 4]]\n",
      "Layer name: relu_c1, layer type: Activation, current shape: [[None, 9, 5, 4]]\n",
      "Layer name: conv2, layer type: Conv2D, current shape: [[None, 9, 5, 4]]\n",
      "Layer name: max_pooling2d_1, layer type: MaxPooling2D, current shape: [[None, 7, 3, 8]]\n",
      "Layer name: batch_normalization_1, layer type: BatchNormalization, current shape: [[None, 3, 1, 8]]\n",
      "Layer name: relu_c2, layer type: Activation, current shape: [[None, 3, 1, 8]]\n",
      "Layer name: dense1, layer type: Dense, current shape: [[None, 3, 1, 8]]\n",
      "Layer name: batch_normalization_2, layer type: BatchNormalization, current shape: [[None, 24]]\n",
      "Layer name: relu1, layer type: Activation, current shape: [[None, 24]]\n",
      "Layer name: output, layer type: Dense, current shape: [[None, 24]]\n",
      "Layer name: batch_normalization_3, layer type: BatchNormalization, current shape: [[None, 1]]\n",
      "Layer name: sigmoid, layer type: Activation, current shape: [[None, 1]]\n",
      "Creating HLS model\n",
      "Writing HLS project\n",
      "Done\n",
      "Interpreting Sequential\n",
      "Topology:\n",
      "Layer name: conv1_input, layer type: Input\n",
      "Layer name: conv1, layer type: Conv2D\n",
      "  -> Activation (linear), layer name: conv1\n",
      "Layer name: max_pooling2d, layer type: MaxPooling2D\n",
      "Layer name: batch_normalization, layer type: BatchNormalization\n",
      "Layer name: relu_c1, layer type: Activation\n",
      "Layer name: conv2, layer type: Conv2D\n",
      "  -> Activation (linear), layer name: conv2\n",
      "Layer name: max_pooling2d_1, layer type: MaxPooling2D\n",
      "Layer name: batch_normalization_1, layer type: BatchNormalization\n",
      "Layer name: relu_c2, layer type: Activation\n",
      "Layer name: dense1, layer type: Dense\n",
      "  -> Activation (linear), layer name: dense1\n",
      "Layer name: batch_normalization_2, layer type: BatchNormalization\n",
      "Layer name: relu1, layer type: Activation\n",
      "Layer name: output, layer type: Dense\n",
      "  -> Activation (linear), layer name: output\n",
      "Layer name: batch_normalization_3, layer type: BatchNormalization\n",
      "Layer name: sigmoid, layer type: Activation\n",
      "-----------------------------------\n",
      "Configuration\n"
     ]
    },
    {
     "data": {
      "text/plain": [
       "{'Model': {'Precision': 'ap_fixed<16,6>',\n",
       "  'ReuseFactor': 1,\n",
       "  'Strategy': 'Latency'},\n",
       " 'LayerName': {'conv1_input': {'Precision': {'result': 'ap_fixed<16,6>'}},\n",
       "  'conv1': {'Precision': {'weight': 'ap_fixed<16,6>',\n",
       "    'bias': 'ap_fixed<16,6>',\n",
       "    'result': 'ap_fixed<16,6>'},\n",
       "   'ReuseFactor': 1},\n",
       "  'conv1_linear': {'Precision': 'ap_fixed<16,6>',\n",
       "   'ReuseFactor': 1,\n",
       "   'table_size': 1024,\n",
       "   'table_t': 'ap_fixed<18,8>'},\n",
       "  'max_pooling2d': {'Precision': 'ap_fixed<16,6>'},\n",
       "  'batch_normalization': {'Precision': {'scale': 'ap_fixed<16,6>',\n",
       "    'bias': 'ap_fixed<16,6>'},\n",
       "   'ReuseFactor': 1},\n",
       "  'relu_c1': {'Precision': 'ap_fixed<16,6>',\n",
       "   'ReuseFactor': 1,\n",
       "   'table_size': 1024,\n",
       "   'table_t': 'ap_fixed<18,8>'},\n",
       "  'conv2': {'Precision': {'weight': 'ap_fixed<16,6>',\n",
       "    'bias': 'ap_fixed<16,6>',\n",
       "    'result': 'ap_fixed<16,6>'},\n",
       "   'ReuseFactor': 1},\n",
       "  'conv2_linear': {'Precision': 'ap_fixed<16,6>',\n",
       "   'ReuseFactor': 1,\n",
       "   'table_size': 1024,\n",
       "   'table_t': 'ap_fixed<18,8>'},\n",
       "  'max_pooling2d_1': {'Precision': 'ap_fixed<16,6>'},\n",
       "  'batch_normalization_1': {'Precision': {'scale': 'ap_fixed<16,6>',\n",
       "    'bias': 'ap_fixed<16,6>'},\n",
       "   'ReuseFactor': 1},\n",
       "  'relu_c2': {'Precision': 'ap_fixed<16,6>',\n",
       "   'ReuseFactor': 1,\n",
       "   'table_size': 1024,\n",
       "   'table_t': 'ap_fixed<18,8>'},\n",
       "  'dense1': {'Precision': {'weight': 'ap_fixed<16,6>',\n",
       "    'bias': 'ap_fixed<16,6>',\n",
       "    'result': 'ap_fixed<16,6>'},\n",
       "   'ReuseFactor': 1},\n",
       "  'dense1_linear': {'Precision': 'ap_fixed<16,6>',\n",
       "   'ReuseFactor': 1,\n",
       "   'table_size': 1024,\n",
       "   'table_t': 'ap_fixed<18,8>'},\n",
       "  'batch_normalization_2': {'Precision': {'scale': 'ap_fixed<16,6>',\n",
       "    'bias': 'ap_fixed<16,6>'},\n",
       "   'ReuseFactor': 1},\n",
       "  'relu1': {'Precision': 'ap_fixed<16,6>',\n",
       "   'ReuseFactor': 1,\n",
       "   'table_size': 1024,\n",
       "   'table_t': 'ap_fixed<18,8>'},\n",
       "  'output': {'Precision': {'weight': 'ap_fixed<16,6>',\n",
       "    'bias': 'ap_fixed<16,6>',\n",
       "    'result': 'ap_fixed<16,6>'},\n",
       "   'ReuseFactor': 1},\n",
       "  'output_linear': {'Precision': 'ap_fixed<16,6>',\n",
       "   'ReuseFactor': 1,\n",
       "   'table_size': 1024,\n",
       "   'table_t': 'ap_fixed<18,8>'},\n",
       "  'batch_normalization_3': {'Precision': {'scale': 'ap_fixed<16,6>',\n",
       "    'bias': 'ap_fixed<16,6>'},\n",
       "   'ReuseFactor': 1},\n",
       "  'sigmoid': {'Precision': 'ap_fixed<16,6>',\n",
       "   'ReuseFactor': 1,\n",
       "   'table_size': 1024,\n",
       "   'table_t': 'ap_fixed<18,8>'}}}"
      ]
     },
     "metadata": {},
     "output_type": "display_data"
    },
    {
     "name": "stdout",
     "output_type": "stream",
     "text": [
      "-----------------------------------\n",
      "Interpreting Sequential\n",
      "Topology:\n",
      "Layer name: conv1_input, layer type: InputLayer, current shape: [[None, 20, 12, 1]]\n",
      "Layer name: conv1, layer type: Conv2D, current shape: [[None, 20, 12, 1]]\n",
      "Layer name: max_pooling2d, layer type: MaxPooling2D, current shape: [[None, 18, 10, 4]]\n",
      "Layer name: batch_normalization, layer type: BatchNormalization, current shape: [[None, 9, 5, 4]]\n",
      "Layer name: relu_c1, layer type: Activation, current shape: [[None, 9, 5, 4]]\n",
      "Layer name: conv2, layer type: Conv2D, current shape: [[None, 9, 5, 4]]\n",
      "Layer name: max_pooling2d_1, layer type: MaxPooling2D, current shape: [[None, 7, 3, 8]]\n",
      "Layer name: batch_normalization_1, layer type: BatchNormalization, current shape: [[None, 3, 1, 8]]\n",
      "Layer name: relu_c2, layer type: Activation, current shape: [[None, 3, 1, 8]]\n",
      "Layer name: dense1, layer type: Dense, current shape: [[None, 3, 1, 8]]\n",
      "Layer name: batch_normalization_2, layer type: BatchNormalization, current shape: [[None, 24]]\n",
      "Layer name: relu1, layer type: Activation, current shape: [[None, 24]]\n",
      "Layer name: output, layer type: Dense, current shape: [[None, 24]]\n",
      "Layer name: batch_normalization_3, layer type: BatchNormalization, current shape: [[None, 1]]\n",
      "Layer name: sigmoid, layer type: Activation, current shape: [[None, 1]]\n",
      "Creating HLS model\n",
      "Writing HLS project\n",
      "WARNING:tensorflow:Compiled the loaded model, but the compiled metrics have yet to be built. `model.compile_metrics` will be empty until you train or evaluate the model.\n"
     ]
    },
    {
     "name": "stderr",
     "output_type": "stream",
     "text": [
      "WARNING:tensorflow:Compiled the loaded model, but the compiled metrics have yet to be built. `model.compile_metrics` will be empty until you train or evaluate the model.\n"
     ]
    },
    {
     "name": "stdout",
     "output_type": "stream",
     "text": [
      "Done\n"
     ]
    }
   ],
   "source": [
    "hls4ml_unpruned = hls4ml_converter(model, 'pruning_models/hls_unpruned/hls4ml_prj', stripping=False)\n",
    "hls4ml_pruned = hls4ml_converter(model_for_pruning, 'pruning_models/hls_pruned/hls4ml_prj', stripping=True)"
   ]
  },
  {
   "cell_type": "code",
   "execution_count": 22,
   "id": "2ec9fa26",
   "metadata": {},
   "outputs": [
    {
     "name": "stdout",
     "output_type": "stream",
     "text": [
      "Failed to import pydot. You must install pydot and graphviz for `pydotprint` to work.\n"
     ]
    }
   ],
   "source": [
    "hls4ml.utils.plot_model(hls4ml_unpruned, show_shapes=True, show_precision=True, to_file=None)"
   ]
  },
  {
   "cell_type": "code",
   "execution_count": 23,
   "id": "5db81a1b",
   "metadata": {},
   "outputs": [
    {
     "data": {
      "image/png": "[encoded data removed]",
      "text/plain": [
       "<Figure size 576x432 with 1 Axes>"
      ]
     },
     "metadata": {
      "needs_background": "light"
     },
     "output_type": "display_data"
    },
    {
     "data": {
      "image/png": "[encoded data removed]",
      "text/plain": [
       "<Figure size 432x432 with 1 Axes>"
      ]
     },
     "metadata": {
      "needs_background": "light"
     },
     "output_type": "display_data"
    }
   ],
   "source": [
    "plot_roc_and_eff([hls4ml_unpruned, hls4ml_pruned], ['unpruned', 'pruned'])"
   ]
  },
  {
   "cell_type": "code",
   "execution_count": 24,
   "id": "7981ac0f",
   "metadata": {},
   "outputs": [
    {
     "data": {
      "text/html": [
       "<div>\n",
       "<style scoped>\n",
       "    .dataframe tbody tr th:only-of-type {\n",
       "        vertical-align: middle;\n",
       "    }\n",
       "\n",
       "    .dataframe tbody tr th {\n",
       "        vertical-align: top;\n",
       "    }\n",
       "\n",
       "    .dataframe thead th {\n",
       "        text-align: right;\n",
       "    }\n",
       "</style>\n",
       "<table border=\"1\" class=\"dataframe\">\n",
       "  <thead>\n",
       "    <tr style=\"text-align: right;\">\n",
       "      <th></th>\n",
       "      <th>sens_at_spec_10kHz</th>\n",
       "      <th>sens_at_spec_30kHz</th>\n",
       "      <th>sens_at_spec_50kHz</th>\n",
       "      <th>threshold_10kHz</th>\n",
       "      <th>threshold_30kHz</th>\n",
       "      <th>threshold_50kHz</th>\n",
       "      <th>model</th>\n",
       "    </tr>\n",
       "  </thead>\n",
       "  <tbody>\n",
       "    <tr>\n",
       "      <th>0</th>\n",
       "      <td>0.462667</td>\n",
       "      <td>0.666616</td>\n",
       "      <td>0.746056</td>\n",
       "      <td>0.995498</td>\n",
       "      <td>0.986493</td>\n",
       "      <td>0.973987</td>\n",
       "      <td>unpruned</td>\n",
       "    </tr>\n",
       "    <tr>\n",
       "      <th>1</th>\n",
       "      <td>0.481233</td>\n",
       "      <td>0.676615</td>\n",
       "      <td>0.741810</td>\n",
       "      <td>0.995498</td>\n",
       "      <td>0.986493</td>\n",
       "      <td>0.976988</td>\n",
       "      <td>pruned</td>\n",
       "    </tr>\n",
       "  </tbody>\n",
       "</table>\n",
       "</div>"
      ],
      "text/plain": [
       "   sens_at_spec_10kHz  sens_at_spec_30kHz  sens_at_spec_50kHz  \\\n",
       "0            0.462667            0.666616            0.746056   \n",
       "1            0.481233            0.676615            0.741810   \n",
       "\n",
       "   threshold_10kHz  threshold_30kHz  threshold_50kHz     model  \n",
       "0         0.995498         0.986493         0.973987  unpruned  \n",
       "1         0.995498         0.986493         0.976988    pruned  "
      ]
     },
     "metadata": {},
     "output_type": "display_data"
    }
   ],
   "source": [
    "sense_at_spec_scan([hls4ml_unpruned, hls4ml_pruned], ['unpruned', 'pruned'])"
   ]
  },
  {
   "cell_type": "code",
   "execution_count": 25,
   "id": "428957f5",
   "metadata": {},
   "outputs": [
    {
     "data": {
      "text/plain": [
       "{'EstimatedClockPeriod': '3.646',\n",
       " 'BestLatency': '280',\n",
       " 'WorstLatency': '280',\n",
       " 'IntervalMin': '247',\n",
       " 'IntervalMax': '247',\n",
       " 'BRAM_18K': '18',\n",
       " 'DSP48E': '437',\n",
       " 'FF': '11654',\n",
       " 'LUT': '25480',\n",
       " 'URAM': '0',\n",
       " 'AvailableBRAM_18K': '1968',\n",
       " 'AvailableDSP48E': '1968',\n",
       " 'AvailableFF': '1045440',\n",
       " 'AvailableLUT': '522720',\n",
       " 'AvailableURAM': '128'}"
      ]
     },
     "execution_count": 25,
     "metadata": {},
     "output_type": "execute_result"
    }
   ],
   "source": [
    "hls4ml_unpruned.build(csim=False)\n",
    "hls4ml_pruned.build(csim=False)"
   ]
  },
  {
   "cell_type": "code",
   "execution_count": 26,
   "id": "960a6bff",
   "metadata": {},
   "outputs": [
    {
     "name": "stdout",
     "output_type": "stream",
     "text": [
      "Model: \"sequential\"\n",
      "_________________________________________________________________\n",
      "Layer (type)                 Output Shape              Param #   \n",
      "=================================================================\n",
      "conv1 (Conv2D)               (None, 18, 10, 4)         36        \n",
      "_________________________________________________________________\n",
      "max_pooling2d (MaxPooling2D) (None, 9, 5, 4)           0         \n",
      "_________________________________________________________________\n",
      "batch_normalization (BatchNo (None, 9, 5, 4)           16        \n",
      "_________________________________________________________________\n",
      "relu_c1 (Activation)         (None, 9, 5, 4)           0         \n",
      "_________________________________________________________________\n",
      "conv2 (Conv2D)               (None, 7, 3, 8)           288       \n",
      "_________________________________________________________________\n",
      "max_pooling2d_1 (MaxPooling2 (None, 3, 1, 8)           0         \n",
      "_________________________________________________________________\n",
      "batch_normalization_1 (Batch (None, 3, 1, 8)           32        \n",
      "_________________________________________________________________\n",
      "relu_c2 (Activation)         (None, 3, 1, 8)           0         \n",
      "_________________________________________________________________\n",
      "inputFlat (Flatten)          (None, 24)                0         \n",
      "_________________________________________________________________\n",
      "dense1 (Dense)               (None, 24)                576       \n",
      "_________________________________________________________________\n",
      "batch_normalization_2 (Batch (None, 24)                96        \n",
      "_________________________________________________________________\n",
      "relu1 (Activation)           (None, 24)                0         \n",
      "_________________________________________________________________\n",
      "output (Dense)               (None, 1)                 25        \n",
      "_________________________________________________________________\n",
      "batch_normalization_3 (Batch (None, 1)                 4         \n",
      "_________________________________________________________________\n",
      "sigmoid (Activation)         (None, 1)                 0         \n",
      "=================================================================\n",
      "Total params: 1,073\n",
      "Trainable params: 999\n",
      "Non-trainable params: 74\n",
      "_________________________________________________________________\n"
     ]
    }
   ],
   "source": [
    "model.summary()"
   ]
  },
  {
   "cell_type": "code",
   "execution_count": 27,
   "id": "afc4c9f3",
   "metadata": {
    "scrolled": false
   },
   "outputs": [
    {
     "name": "stdout",
     "output_type": "stream",
     "text": [
      "Found 1 solution(s) in pruning_models/hls_unpruned/hls4ml_prj/myproject_prj.\n",
      "Reports for solution \"solution1\":\n",
      "\n",
      "C simulation report not found.\n",
      "SYNTHESIS REPORT:\n",
      "================================================================\n",
      "== Vivado HLS Report for 'myproject'\n",
      "================================================================\n",
      "* Date:           Sat Jul 24 13:25:02 2021\n",
      "\n",
      "* Version:        2019.2 (Build 2704478 on Wed Nov 06 22:10:23 MST 2019)\n",
      "* Project:        myproject_prj\n",
      "* Solution:       solution1\n",
      "* Product family: kintexuplus\n",
      "* Target device:  xcku15p-ffva1760-2-e\n",
      "\n",
      "\n",
      "================================================================\n",
      "== Performance Estimates\n",
      "================================================================\n",
      "+ Timing: \n",
      "    * Summary: \n",
      "    +--------+---------+----------+------------+\n",
      "    |  Clock |  Target | Estimated| Uncertainty|\n",
      "    +--------+---------+----------+------------+\n",
      "    |ap_clk  | 4.17 ns | 3.646 ns |   0.52 ns  |\n",
      "    +--------+---------+----------+------------+\n",
      "\n",
      "+ Latency: \n",
      "    * Summary: \n",
      "    +---------+---------+----------+----------+-----+-----+----------+\n",
      "    |  Latency (cycles) |  Latency (absolute) |  Interval | Pipeline |\n",
      "    |   min   |   max   |    min   |    max   | min | max |   Type   |\n",
      "    +---------+---------+----------+----------+-----+-----+----------+\n",
      "    |      280|      280| 1.167 us | 1.167 us |  247|  247| dataflow |\n",
      "    +---------+---------+----------+----------+-----+-----+----------+\n",
      "\n",
      "    + Detail: \n",
      "        * Instance: \n",
      "        +-------------------------------------------------------+------------------------------------------------------+---------+---------+-----------+-----------+-----+-----+----------+\n",
      "        |                                                       |                                                      |  Latency (cycles) |   Latency (absolute)  |  Interval | Pipeline |\n",
      "        |                        Instance                       |                        Module                        |   min   |   max   |    min    |    max    | min | max |   Type   |\n",
      "        +-------------------------------------------------------+------------------------------------------------------+---------+---------+-----------+-----------+-----+-----+----------+\n",
      "        |dense_array_array_ap_fixed_16_6_5_3_0_24u_config12_U0  |dense_array_array_ap_fixed_16_6_5_3_0_24u_config12_s  |        7|        7| 29.169 ns | 29.169 ns |    7|    7|   none   |\n",
      "        |conv_2d_cl_array_array_ap_fixed_8u_config7_U0          |conv_2d_cl_array_array_ap_fixed_8u_config7_s          |       52|       52|  0.217 us |  0.217 us |   52|   52|   none   |\n",
      "        |pooling2d_cl_array_array_ap_fixed_8u_config9_U0        |pooling2d_cl_array_array_ap_fixed_8u_config9_s        |       91|       91|  0.379 us |  0.379 us |   91|   91|   none   |\n",
      "        |conv_2d_cl_array_array_ap_fixed_4u_config2_U0          |conv_2d_cl_array_array_ap_fixed_4u_config2_s          |      246|      246|  1.025 us |  1.025 us |  246|  246|   none   |\n",
      "        |dense_array_array_ap_fixed_16_6_5_3_0_1u_config16_U0   |dense_array_array_ap_fixed_16_6_5_3_0_1u_config16_s   |        3|        3| 12.501 ns | 12.501 ns |    3|    3|   none   |\n",
      "        |relu_array_array_ap_fixed_24u_relu_config15_U0         |relu_array_array_ap_fixed_24u_relu_config15_s         |        1|        1|  4.167 ns |  4.167 ns |    1|    1| function |\n",
      "        |pooling2d_cl_array_array_ap_fixed_4u_config4_U0        |pooling2d_cl_array_array_ap_fixed_4u_config4_s        |      185|      185|  0.771 us |  0.771 us |  185|  185|   none   |\n",
      "        |normalize_array_array_ap_fixed_8u_config10_U0          |normalize_array_array_ap_fixed_8u_config10_s          |        7|        7| 29.169 ns | 29.169 ns |    7|    7|   none   |\n",
      "        |relu_array_array_ap_fixed_8u_relu_config11_U0          |relu_array_array_ap_fixed_8u_relu_config11_s          |        6|        6| 25.002 ns | 25.002 ns |    6|    6|   none   |\n",
      "        |normalize_array_array_ap_fixed_4u_config5_U0           |normalize_array_array_ap_fixed_4u_config5_s           |       49|       49|  0.204 us |  0.204 us |   49|   49|   none   |\n",
      "        |relu_array_array_ap_fixed_4u_relu_config6_U0           |relu_array_array_ap_fixed_4u_relu_config6_s           |       48|       48|  0.200 us |  0.200 us |   48|   48|   none   |\n",
      "        |sigmoid_array_array_ap_fixed_1u_sigmoid_config19_U0    |sigmoid_array_array_ap_fixed_1u_sigmoid_config19_s    |        3|        3| 12.501 ns | 12.501 ns |    1|    1| function |\n",
      "        |Block_proc_U0                                          |Block_proc                                            |        0|        0|    0 ns   |    0 ns   |    0|    0|   none   |\n",
      "        +-------------------------------------------------------+------------------------------------------------------+---------+---------+-----------+-----------+-----+-----+----------+\n",
      "\n",
      "        * Loop: \n",
      "        N/A\n",
      "\n",
      "\n",
      "\n",
      "================================================================\n",
      "== Utilization Estimates\n",
      "================================================================\n",
      "* Summary: \n",
      "+-----------------+---------+-------+---------+--------+-----+\n",
      "|       Name      | BRAM_18K| DSP48E|    FF   |   LUT  | URAM|\n",
      "+-----------------+---------+-------+---------+--------+-----+\n",
      "|DSP              |        -|      -|        -|       -|    -|\n",
      "|Expression       |        -|      -|        0|      32|    -|\n",
      "|FIFO             |       16|      -|     1409|    3264|    -|\n",
      "|Instance         |        2|    750|    13474|   35976|    0|\n",
      "|Memory           |        -|      -|        -|       -|    -|\n",
      "|Multiplexer      |        -|      -|        -|      36|    -|\n",
      "|Register         |        -|      -|        6|       -|    -|\n",
      "+-----------------+---------+-------+---------+--------+-----+\n",
      "|Total            |       18|    750|    14889|   39308|    0|\n",
      "+-----------------+---------+-------+---------+--------+-----+\n",
      "|Available        |     1968|   1968|  1045440|  522720|  128|\n",
      "+-----------------+---------+-------+---------+--------+-----+\n",
      "|Utilization (%)  |    ~0   |     38|        1|       7|    0|\n",
      "+-----------------+---------+-------+---------+--------+-----+\n",
      "\n",
      "+ Detail: \n",
      "    * Instance: \n",
      "    +-------------------------------------------------------+------------------------------------------------------+---------+-------+------+-------+-----+\n",
      "    |                        Instance                       |                        Module                        | BRAM_18K| DSP48E|  FF  |  LUT  | URAM|\n",
      "    +-------------------------------------------------------+------------------------------------------------------+---------+-------+------+-------+-----+\n",
      "    |Block_proc_U0                                          |Block_proc                                            |        0|      0|     2|     11|    0|\n",
      "    |conv_2d_cl_array_array_ap_fixed_4u_config2_U0          |conv_2d_cl_array_array_ap_fixed_4u_config2_s          |        0|     26|  2047|   2861|    0|\n",
      "    |conv_2d_cl_array_array_ap_fixed_8u_config7_U0          |conv_2d_cl_array_array_ap_fixed_8u_config7_s          |        0|    216|  3471|  10012|    0|\n",
      "    |dense_array_array_ap_fixed_16_6_5_3_0_1u_config16_U0   |dense_array_array_ap_fixed_16_6_5_3_0_1u_config16_s   |        0|     24|   612|    806|    0|\n",
      "    |dense_array_array_ap_fixed_16_6_5_3_0_24u_config12_U0  |dense_array_array_ap_fixed_16_6_5_3_0_24u_config12_s  |        0|    472|  4958|  15594|    0|\n",
      "    |normalize_array_array_ap_fixed_4u_config5_U0           |normalize_array_array_ap_fixed_4u_config5_s           |        0|      4|   208|    324|    0|\n",
      "    |normalize_array_array_ap_fixed_8u_config10_U0          |normalize_array_array_ap_fixed_8u_config10_s          |        0|      8|   332|    499|    0|\n",
      "    |pooling2d_cl_array_array_ap_fixed_4u_config4_U0        |pooling2d_cl_array_array_ap_fixed_4u_config4_s        |        0|      0|   392|   1158|    0|\n",
      "    |pooling2d_cl_array_array_ap_fixed_8u_config9_U0        |pooling2d_cl_array_array_ap_fixed_8u_config9_s        |        1|      0|   811|   2614|    0|\n",
      "    |relu_array_array_ap_fixed_24u_relu_config15_U0         |relu_array_array_ap_fixed_24u_relu_config15_s         |        0|      0|   388|   1156|    0|\n",
      "    |relu_array_array_ap_fixed_4u_relu_config6_U0           |relu_array_array_ap_fixed_4u_relu_config6_s           |        0|      0|    80|    296|    0|\n",
      "    |relu_array_array_ap_fixed_8u_relu_config11_U0          |relu_array_array_ap_fixed_8u_relu_config11_s          |        0|      0|   140|    475|    0|\n",
      "    |sigmoid_array_array_ap_fixed_1u_sigmoid_config19_U0    |sigmoid_array_array_ap_fixed_1u_sigmoid_config19_s    |        1|      0|    33|    170|    0|\n",
      "    +-------------------------------------------------------+------------------------------------------------------+---------+-------+------+-------+-----+\n",
      "    |Total                                                  |                                                      |        2|    750| 13474|  35976|    0|\n",
      "    +-------------------------------------------------------+------------------------------------------------------+---------+-------+------+-------+-----+\n",
      "\n",
      "Co-simulation report not found.\n"
     ]
    }
   ],
   "source": [
    "hls4ml.report.read_vivado_report('pruning_models/hls_unpruned/hls4ml_prj')"
   ]
  },
  {
   "cell_type": "code",
   "execution_count": 28,
   "id": "5f4ccd0e",
   "metadata": {
    "scrolled": false
   },
   "outputs": [
    {
     "name": "stdout",
     "output_type": "stream",
     "text": [
      "Found 1 solution(s) in pruning_models/hls_pruned/hls4ml_prj/myproject_prj.\n",
      "Reports for solution \"solution1\":\n",
      "\n",
      "C simulation report not found.\n",
      "SYNTHESIS REPORT:\n",
      "================================================================\n",
      "== Vivado HLS Report for 'myproject'\n",
      "================================================================\n",
      "* Date:           Sat Jul 24 13:27:22 2021\n",
      "\n",
      "* Version:        2019.2 (Build 2704478 on Wed Nov 06 22:10:23 MST 2019)\n",
      "* Project:        myproject_prj\n",
      "* Solution:       solution1\n",
      "* Product family: kintexuplus\n",
      "* Target device:  xcku15p-ffva1760-2-e\n",
      "\n",
      "\n",
      "================================================================\n",
      "== Performance Estimates\n",
      "================================================================\n",
      "+ Timing: \n",
      "    * Summary: \n",
      "    +--------+---------+----------+------------+\n",
      "    |  Clock |  Target | Estimated| Uncertainty|\n",
      "    +--------+---------+----------+------------+\n",
      "    |ap_clk  | 4.17 ns | 3.646 ns |   0.52 ns  |\n",
      "    +--------+---------+----------+------------+\n",
      "\n",
      "+ Latency: \n",
      "    * Summary: \n",
      "    +---------+---------+----------+----------+-----+-----+----------+\n",
      "    |  Latency (cycles) |  Latency (absolute) |  Interval | Pipeline |\n",
      "    |   min   |   max   |    min   |    max   | min | max |   Type   |\n",
      "    +---------+---------+----------+----------+-----+-----+----------+\n",
      "    |      280|      280| 1.167 us | 1.167 us |  247|  247| dataflow |\n",
      "    +---------+---------+----------+----------+-----+-----+----------+\n",
      "\n",
      "    + Detail: \n",
      "        * Instance: \n",
      "        +-------------------------------------------------------+------------------------------------------------------+---------+---------+-----------+-----------+-----+-----+----------+\n",
      "        |                                                       |                                                      |  Latency (cycles) |   Latency (absolute)  |  Interval | Pipeline |\n",
      "        |                        Instance                       |                        Module                        |   min   |   max   |    min    |    max    | min | max |   Type   |\n",
      "        +-------------------------------------------------------+------------------------------------------------------+---------+---------+-----------+-----------+-----+-----+----------+\n",
      "        |dense_array_array_ap_fixed_16_6_5_3_0_24u_config12_U0  |dense_array_array_ap_fixed_16_6_5_3_0_24u_config12_s  |        7|        7| 29.169 ns | 29.169 ns |    7|    7|   none   |\n",
      "        |conv_2d_cl_array_array_ap_fixed_8u_config7_U0          |conv_2d_cl_array_array_ap_fixed_8u_config7_s          |       52|       52|  0.217 us |  0.217 us |   52|   52|   none   |\n",
      "        |pooling2d_cl_array_array_ap_fixed_8u_config9_U0        |pooling2d_cl_array_array_ap_fixed_8u_config9_s        |       91|       91|  0.379 us |  0.379 us |   91|   91|   none   |\n",
      "        |conv_2d_cl_array_array_ap_fixed_4u_config2_U0          |conv_2d_cl_array_array_ap_fixed_4u_config2_s          |      246|      246|  1.025 us |  1.025 us |  246|  246|   none   |\n",
      "        |relu_array_array_ap_fixed_24u_relu_config15_U0         |relu_array_array_ap_fixed_24u_relu_config15_s         |        1|        1|  4.167 ns |  4.167 ns |    1|    1| function |\n",
      "        |pooling2d_cl_array_array_ap_fixed_4u_config4_U0        |pooling2d_cl_array_array_ap_fixed_4u_config4_s        |      185|      185|  0.771 us |  0.771 us |  185|  185|   none   |\n",
      "        |dense_array_array_ap_fixed_16_6_5_3_0_1u_config16_U0   |dense_array_array_ap_fixed_16_6_5_3_0_1u_config16_s   |        3|        3| 12.501 ns | 12.501 ns |    3|    3|   none   |\n",
      "        |normalize_array_array_ap_fixed_8u_config10_U0          |normalize_array_array_ap_fixed_8u_config10_s          |        7|        7| 29.169 ns | 29.169 ns |    7|    7|   none   |\n",
      "        |relu_array_array_ap_fixed_8u_relu_config11_U0          |relu_array_array_ap_fixed_8u_relu_config11_s          |        6|        6| 25.002 ns | 25.002 ns |    6|    6|   none   |\n",
      "        |normalize_array_array_ap_fixed_4u_config5_U0           |normalize_array_array_ap_fixed_4u_config5_s           |       49|       49|  0.204 us |  0.204 us |   49|   49|   none   |\n",
      "        |relu_array_array_ap_fixed_4u_relu_config6_U0           |relu_array_array_ap_fixed_4u_relu_config6_s           |       48|       48|  0.200 us |  0.200 us |   48|   48|   none   |\n",
      "        |sigmoid_array_array_ap_fixed_1u_sigmoid_config19_U0    |sigmoid_array_array_ap_fixed_1u_sigmoid_config19_s    |        3|        3| 12.501 ns | 12.501 ns |    1|    1| function |\n",
      "        |Block_proc_U0                                          |Block_proc                                            |        0|        0|    0 ns   |    0 ns   |    0|    0|   none   |\n",
      "        +-------------------------------------------------------+------------------------------------------------------+---------+---------+-----------+-----------+-----+-----+----------+\n",
      "\n",
      "        * Loop: \n",
      "        N/A\n",
      "\n",
      "\n",
      "\n",
      "================================================================\n",
      "== Utilization Estimates\n",
      "================================================================\n",
      "* Summary: \n",
      "+-----------------+---------+-------+---------+--------+-----+\n",
      "|       Name      | BRAM_18K| DSP48E|    FF   |   LUT  | URAM|\n",
      "+-----------------+---------+-------+---------+--------+-----+\n",
      "|DSP              |        -|      -|        -|       -|    -|\n",
      "|Expression       |        -|      -|        0|      32|    -|\n",
      "|FIFO             |       16|      -|     1409|    3264|    -|\n",
      "|Instance         |        2|    437|    10239|   22148|    0|\n",
      "|Memory           |        -|      -|        -|       -|    -|\n",
      "|Multiplexer      |        -|      -|        -|      36|    -|\n",
      "|Register         |        -|      -|        6|       -|    -|\n",
      "+-----------------+---------+-------+---------+--------+-----+\n",
      "|Total            |       18|    437|    11654|   25480|    0|\n",
      "+-----------------+---------+-------+---------+--------+-----+\n",
      "|Available        |     1968|   1968|  1045440|  522720|  128|\n",
      "+-----------------+---------+-------+---------+--------+-----+\n",
      "|Utilization (%)  |    ~0   |     22|        1|       4|    0|\n",
      "+-----------------+---------+-------+---------+--------+-----+\n",
      "\n",
      "+ Detail: \n",
      "    * Instance: \n",
      "    +-------------------------------------------------------+------------------------------------------------------+---------+-------+------+------+-----+\n",
      "    |                        Instance                       |                        Module                        | BRAM_18K| DSP48E|  FF  |  LUT | URAM|\n",
      "    +-------------------------------------------------------+------------------------------------------------------+---------+-------+------+------+-----+\n",
      "    |Block_proc_U0                                          |Block_proc                                            |        0|      0|     2|    11|    0|\n",
      "    |conv_2d_cl_array_array_ap_fixed_4u_config2_U0          |conv_2d_cl_array_array_ap_fixed_4u_config2_s          |        0|     16|  1879|  2266|    0|\n",
      "    |conv_2d_cl_array_array_ap_fixed_8u_config7_U0          |conv_2d_cl_array_array_ap_fixed_8u_config7_s          |        0|    130|  2435|  5212|    0|\n",
      "    |dense_array_array_ap_fixed_16_6_5_3_0_1u_config16_U0   |dense_array_array_ap_fixed_16_6_5_3_0_1u_config16_s   |        0|     12|   326|   540|    0|\n",
      "    |dense_array_array_ap_fixed_16_6_5_3_0_24u_config12_U0  |dense_array_array_ap_fixed_16_6_5_3_0_24u_config12_s  |        0|    267|  3213|  7427|    0|\n",
      "    |normalize_array_array_ap_fixed_4u_config5_U0           |normalize_array_array_ap_fixed_4u_config5_s           |        0|      4|   208|   324|    0|\n",
      "    |normalize_array_array_ap_fixed_8u_config10_U0          |normalize_array_array_ap_fixed_8u_config10_s          |        0|      8|   332|   499|    0|\n",
      "    |pooling2d_cl_array_array_ap_fixed_4u_config4_U0        |pooling2d_cl_array_array_ap_fixed_4u_config4_s        |        0|      0|   392|  1158|    0|\n",
      "    |pooling2d_cl_array_array_ap_fixed_8u_config9_U0        |pooling2d_cl_array_array_ap_fixed_8u_config9_s        |        1|      0|   811|  2614|    0|\n",
      "    |relu_array_array_ap_fixed_24u_relu_config15_U0         |relu_array_array_ap_fixed_24u_relu_config15_s         |        0|      0|   388|  1156|    0|\n",
      "    |relu_array_array_ap_fixed_4u_relu_config6_U0           |relu_array_array_ap_fixed_4u_relu_config6_s           |        0|      0|    80|   296|    0|\n",
      "    |relu_array_array_ap_fixed_8u_relu_config11_U0          |relu_array_array_ap_fixed_8u_relu_config11_s          |        0|      0|   140|   475|    0|\n",
      "    |sigmoid_array_array_ap_fixed_1u_sigmoid_config19_U0    |sigmoid_array_array_ap_fixed_1u_sigmoid_config19_s    |        1|      0|    33|   170|    0|\n",
      "    +-------------------------------------------------------+------------------------------------------------------+---------+-------+------+------+-----+\n",
      "    |Total                                                  |                                                      |        2|    437| 10239| 22148|    0|\n",
      "    +-------------------------------------------------------+------------------------------------------------------+---------+-------+------+------+-----+\n",
      "\n",
      "Co-simulation report not found.\n"
     ]
    }
   ],
   "source": [
    "hls4ml.report.read_vivado_report('pruning_models/hls_pruned/hls4ml_prj')"
   ]
  },
  {
   "cell_type": "markdown",
   "id": "c90c3196",
   "metadata": {},
   "source": [
    "### Pruning Quantized aware trained model.\n",
    "\n",
    "Can prune quentised model - prune sparse!"
   ]
  },
  {
   "cell_type": "code",
   "execution_count": 29,
   "id": "0a71fb2e",
   "metadata": {},
   "outputs": [
    {
     "name": "stderr",
     "output_type": "stream",
     "text": [
      "/software/bz18310/miniconda/envs/test_python_3/lib/python3.9/site-packages/tensorflow/python/keras/engine/base_layer.py:2191: UserWarning: `layer.add_variable` is deprecated and will be removed in a future version. Please use `layer.add_weight` method instead.\n",
      "  warnings.warn('`layer.add_variable` is deprecated and '\n"
     ]
    }
   ],
   "source": [
    "qmodel_for_pruning = load_qmodel('./pruning_models/qmodel_unpruned_train_1_test.h5')\n",
    "\n",
    "from tensorflow_model_optimization.python.core.sparsity.keras import prune, pruning_callbacks, pruning_schedule\n",
    "from tensorflow_model_optimization.sparsity.keras import strip_pruning\n",
    "pruning_params = {\"pruning_schedule\" : pruning_schedule.ConstantSparsity(0.5, begin_step=2000, frequency=100)}\n",
    "qmodel_for_pruning = prune.prune_low_magnitude(qmodel_for_pruning, **pruning_params)"
   ]
  },
  {
   "cell_type": "code",
   "execution_count": 30,
   "id": "600e0909",
   "metadata": {},
   "outputs": [
    {
     "name": "stdout",
     "output_type": "stream",
     "text": [
      "Model: \"sequential\"\n",
      "_________________________________________________________________\n",
      "Layer (type)                 Output Shape              Param #   \n",
      "=================================================================\n",
      "prune_low_magnitude_conv1 (P (None, 18, 10, 4)         74        \n",
      "_________________________________________________________________\n",
      "prune_low_magnitude_max_pool (None, 9, 5, 4)           1         \n",
      "_________________________________________________________________\n",
      "prune_low_magnitude_batch_no (None, 9, 5, 4)           17        \n",
      "_________________________________________________________________\n",
      "prune_low_magnitude_relu_c1  (None, 9, 5, 4)           1         \n",
      "_________________________________________________________________\n",
      "prune_low_magnitude_conv2 (P (None, 7, 3, 8)           578       \n",
      "_________________________________________________________________\n",
      "prune_low_magnitude_max_pool (None, 3, 1, 8)           1         \n",
      "_________________________________________________________________\n",
      "prune_low_magnitude_batch_no (None, 3, 1, 8)           33        \n",
      "_________________________________________________________________\n",
      "prune_low_magnitude_relu_c2  (None, 3, 1, 8)           1         \n",
      "_________________________________________________________________\n",
      "prune_low_magnitude_inputFla (None, 24)                1         \n",
      "_________________________________________________________________\n",
      "prune_low_magnitude_dense1 ( (None, 24)                1154      \n",
      "_________________________________________________________________\n",
      "prune_low_magnitude_batch_no (None, 24)                97        \n",
      "_________________________________________________________________\n",
      "prune_low_magnitude_relu1 (P (None, 24)                1         \n",
      "_________________________________________________________________\n",
      "prune_low_magnitude_output ( (None, 1)                 51        \n",
      "_________________________________________________________________\n",
      "prune_low_magnitude_batch_no (None, 1)                 5         \n",
      "_________________________________________________________________\n",
      "prune_low_magnitude_sigmoid  (None, 1)                 1         \n",
      "=================================================================\n",
      "Total params: 2,016\n",
      "Trainable params: 999\n",
      "Non-trainable params: 1,017\n",
      "_________________________________________________________________\n",
      "Model: \"sequential\"\n",
      "_________________________________________________________________\n",
      "Layer (type)                 Output Shape              Param #   \n",
      "=================================================================\n",
      "conv1 (QConv2D)              (None, 18, 10, 4)         36        \n",
      "_________________________________________________________________\n",
      "max_pooling2d (MaxPooling2D) (None, 9, 5, 4)           0         \n",
      "_________________________________________________________________\n",
      "batch_normalization (BatchNo (None, 9, 5, 4)           16        \n",
      "_________________________________________________________________\n",
      "relu_c1 (QActivation)        (None, 9, 5, 4)           0         \n",
      "_________________________________________________________________\n",
      "conv2 (QConv2D)              (None, 7, 3, 8)           288       \n",
      "_________________________________________________________________\n",
      "max_pooling2d_1 (MaxPooling2 (None, 3, 1, 8)           0         \n",
      "_________________________________________________________________\n",
      "batch_normalization_1 (Batch (None, 3, 1, 8)           32        \n",
      "_________________________________________________________________\n",
      "relu_c2 (QActivation)        (None, 3, 1, 8)           0         \n",
      "_________________________________________________________________\n",
      "inputFlat (Flatten)          (None, 24)                0         \n",
      "_________________________________________________________________\n",
      "dense1 (QDense)              (None, 24)                576       \n",
      "_________________________________________________________________\n",
      "batch_normalization_2 (Batch (None, 24)                96        \n",
      "_________________________________________________________________\n",
      "relu1 (QActivation)          (None, 24)                0         \n",
      "_________________________________________________________________\n",
      "output (QDense)              (None, 1)                 25        \n",
      "_________________________________________________________________\n",
      "batch_normalization_3 (Batch (None, 1)                 4         \n",
      "_________________________________________________________________\n",
      "sigmoid (Activation)         (None, 1)                 0         \n",
      "=================================================================\n",
      "Total params: 1,073\n",
      "Trainable params: 999\n",
      "Non-trainable params: 74\n",
      "_________________________________________________________________\n"
     ]
    }
   ],
   "source": [
    "qmodel_for_pruning.summary()\n",
    "qmodel.summary()"
   ]
  },
  {
   "cell_type": "code",
   "execution_count": 31,
   "id": "c1f1f423",
   "metadata": {},
   "outputs": [
    {
     "name": "stdout",
     "output_type": "stream",
     "text": [
      "Epoch 1/50\n",
      "  6/188 [..............................] - ETA: 28s - loss: 0.0882 - accuracy: 0.9701 - sens_at_spec: 0.7588 - auc: 0.9952WARNING:tensorflow:Callback method `on_train_batch_end` is slow compared to the batch time (batch time: 0.0639s vs `on_train_batch_end` time: 0.0792s). Check your callbacks.\n"
     ]
    },
    {
     "name": "stderr",
     "output_type": "stream",
     "text": [
      "WARNING:tensorflow:Callback method `on_train_batch_end` is slow compared to the batch time (batch time: 0.0639s vs `on_train_batch_end` time: 0.0792s). Check your callbacks.\n"
     ]
    },
    {
     "name": "stdout",
     "output_type": "stream",
     "text": [
      "188/188 [==============================] - 18s 72ms/step - loss: 0.0774 - accuracy: 0.9739 - sens_at_spec: 0.6513 - auc: 0.9954 - val_loss: 0.0867 - val_accuracy: 0.9697 - val_sens_at_spec: 0.5618 - val_auc: 0.9949\n",
      "Epoch 2/50\n",
      "188/188 [==============================] - 12s 63ms/step - loss: 0.0776 - accuracy: 0.9738 - sens_at_spec: 0.6135 - auc: 0.9953 - val_loss: 0.0903 - val_accuracy: 0.9685 - val_sens_at_spec: 0.5141 - val_auc: 0.9948\n",
      "Epoch 3/50\n",
      "188/188 [==============================] - 12s 63ms/step - loss: 0.0777 - accuracy: 0.9735 - sens_at_spec: 0.6253 - auc: 0.9953 - val_loss: 0.0921 - val_accuracy: 0.9679 - val_sens_at_spec: 0.4322 - val_auc: 0.9948\n",
      "Epoch 4/50\n",
      "188/188 [==============================] - 12s 63ms/step - loss: 0.0776 - accuracy: 0.9736 - sens_at_spec: 0.6086 - auc: 0.9952 - val_loss: 0.0853 - val_accuracy: 0.9711 - val_sens_at_spec: 0.5575 - val_auc: 0.9949\n",
      "Epoch 5/50\n",
      "188/188 [==============================] - 12s 64ms/step - loss: 0.0776 - accuracy: 0.9737 - sens_at_spec: 0.6397 - auc: 0.9953 - val_loss: 0.0840 - val_accuracy: 0.9707 - val_sens_at_spec: 0.6125 - val_auc: 0.9949\n",
      "Epoch 6/50\n",
      "188/188 [==============================] - 12s 63ms/step - loss: 0.0776 - accuracy: 0.9736 - sens_at_spec: 0.6391 - auc: 0.9953 - val_loss: 0.0850 - val_accuracy: 0.9709 - val_sens_at_spec: 0.5648 - val_auc: 0.9949\n",
      "Epoch 7/50\n",
      "188/188 [==============================] - 12s 65ms/step - loss: 0.0769 - accuracy: 0.9734 - sens_at_spec: 0.6581 - auc: 0.9954 - val_loss: 0.0842 - val_accuracy: 0.9712 - val_sens_at_spec: 0.5469 - val_auc: 0.9949\n",
      "Epoch 8/50\n",
      "188/188 [==============================] - 12s 63ms/step - loss: 0.0768 - accuracy: 0.9739 - sens_at_spec: 0.6653 - auc: 0.9954 - val_loss: 0.0854 - val_accuracy: 0.9704 - val_sens_at_spec: 0.5123 - val_auc: 0.9948\n",
      "Epoch 9/50\n",
      "188/188 [==============================] - 12s 63ms/step - loss: 0.0769 - accuracy: 0.9734 - sens_at_spec: 0.6564 - auc: 0.9954 - val_loss: 0.0840 - val_accuracy: 0.9717 - val_sens_at_spec: 0.5121 - val_auc: 0.9949\n",
      "Epoch 10/50\n",
      "188/188 [==============================] - 12s 64ms/step - loss: 0.0769 - accuracy: 0.9738 - sens_at_spec: 0.6443 - auc: 0.9953 - val_loss: 0.0837 - val_accuracy: 0.9712 - val_sens_at_spec: 0.6007 - val_auc: 0.9949\n",
      "Epoch 11/50\n",
      "188/188 [==============================] - 12s 63ms/step - loss: 0.0817 - accuracy: 0.9721 - sens_at_spec: 0.5655 - auc: 0.9948 - val_loss: 0.0928 - val_accuracy: 0.9687 - val_sens_at_spec: 0.5759 - val_auc: 0.9945\n",
      "Epoch 12/50\n",
      "188/188 [==============================] - 12s 64ms/step - loss: 0.0844 - accuracy: 0.9716 - sens_at_spec: 0.5395 - auc: 0.9945 - val_loss: 0.0862 - val_accuracy: 0.9707 - val_sens_at_spec: 0.4578 - val_auc: 0.9947\n",
      "Epoch 13/50\n",
      "188/188 [==============================] - 12s 62ms/step - loss: 0.0829 - accuracy: 0.9719 - sens_at_spec: 0.5767 - auc: 0.9947 - val_loss: 0.0855 - val_accuracy: 0.9709 - val_sens_at_spec: 0.4852 - val_auc: 0.9948\n",
      "Epoch 14/50\n",
      "188/188 [==============================] - 12s 64ms/step - loss: 0.0819 - accuracy: 0.9721 - sens_at_spec: 0.5744 - auc: 0.9948 - val_loss: 0.0853 - val_accuracy: 0.9710 - val_sens_at_spec: 0.5675 - val_auc: 0.9949\n",
      "Epoch 15/50\n",
      "188/188 [==============================] - 12s 64ms/step - loss: 0.0823 - accuracy: 0.9718 - sens_at_spec: 0.5401 - auc: 0.9947 - val_loss: 0.0849 - val_accuracy: 0.9706 - val_sens_at_spec: 0.5256 - val_auc: 0.9948\n"
     ]
    }
   ],
   "source": [
    "trainer(qmodel_for_pruning, train=True, savename='pruning_models/qmodel_pruned_train_1_test.h5', stripping=False)"
   ]
  },
  {
   "cell_type": "code",
   "execution_count": 32,
   "id": "9eb060af",
   "metadata": {},
   "outputs": [
    {
     "data": {
      "image/png": "[encoded data removed]",
      "text/plain": [
       "<Figure size 504x504 with 1 Axes>"
      ]
     },
     "metadata": {
      "needs_background": "light"
     },
     "output_type": "display_data"
    },
    {
     "name": "stdout",
     "output_type": "stream",
     "text": [
      "% of zeros = 0.0\n"
     ]
    }
   ],
   "source": [
    "show_weight_distrib(qmodel_for_pruning)"
   ]
  },
  {
   "cell_type": "code",
   "execution_count": 33,
   "id": "b708464a",
   "metadata": {},
   "outputs": [
    {
     "data": {
      "image/png": "[encoded data removed]",
      "text/plain": [
       "<Figure size 576x432 with 1 Axes>"
      ]
     },
     "metadata": {
      "needs_background": "light"
     },
     "output_type": "display_data"
    },
    {
     "data": {
      "image/png": "[encoded data removed]",
      "text/plain": [
       "<Figure size 432x432 with 1 Axes>"
      ]
     },
     "metadata": {
      "needs_background": "light"
     },
     "output_type": "display_data"
    }
   ],
   "source": [
    "plot_roc_and_eff([model, model_for_pruning, qmodel, qmodel_for_pruning], ['unpruned', 'pruned', 'Quantized', 'Quantized Pruned'])"
   ]
  },
  {
   "cell_type": "code",
   "execution_count": 34,
   "id": "4a75a057",
   "metadata": {},
   "outputs": [
    {
     "name": "stdout",
     "output_type": "stream",
     "text": [
      "Interpreting Sequential\n",
      "Topology:\n",
      "Layer name: conv1_input, layer type: Input\n",
      "Layer name: conv1, layer type: QConv2D\n",
      "Layer name: max_pooling2d, layer type: MaxPooling2D\n",
      "Layer name: batch_normalization, layer type: BatchNormalization\n",
      "Layer name: relu_c1, layer type: QActivation\n",
      "Layer name: conv2, layer type: QConv2D\n",
      "Layer name: max_pooling2d_1, layer type: MaxPooling2D\n",
      "Layer name: batch_normalization_1, layer type: BatchNormalization\n",
      "Layer name: relu_c2, layer type: QActivation\n",
      "Layer name: dense1, layer type: QDense\n",
      "Layer name: batch_normalization_2, layer type: BatchNormalization\n",
      "Layer name: relu1, layer type: QActivation\n",
      "Layer name: output, layer type: QDense\n",
      "Layer name: batch_normalization_3, layer type: BatchNormalization\n",
      "Layer name: sigmoid, layer type: Activation\n",
      "-----------------------------------\n",
      "Configuration\n"
     ]
    },
    {
     "data": {
      "text/plain": [
       "{'Model': {'Precision': 'ap_fixed<16,6>',\n",
       "  'ReuseFactor': 1,\n",
       "  'Strategy': 'Latency'},\n",
       " 'LayerName': {'conv1_input': {'Precision': {'result': 'ap_fixed<16,6>'}},\n",
       "  'conv1': {'Precision': {'weight': 'ap_fixed<6,1>'}, 'ReuseFactor': 1},\n",
       "  'max_pooling2d': {'Precision': 'ap_fixed<16,6>'},\n",
       "  'batch_normalization': {'Precision': {'scale': 'ap_fixed<16,6>',\n",
       "    'bias': 'ap_fixed<16,6>'},\n",
       "   'ReuseFactor': 1},\n",
       "  'relu_c1': {'Precision': {'result': 'ap_fixed<6,1>'}, 'ReuseFactor': 1},\n",
       "  'conv2': {'Precision': {'weight': 'ap_fixed<6,1>'}, 'ReuseFactor': 1},\n",
       "  'max_pooling2d_1': {'Precision': 'ap_fixed<16,6>'},\n",
       "  'batch_normalization_1': {'Precision': {'scale': 'ap_fixed<16,6>',\n",
       "    'bias': 'ap_fixed<16,6>'},\n",
       "   'ReuseFactor': 1},\n",
       "  'relu_c2': {'Precision': {'result': 'ap_fixed<6,1>'}, 'ReuseFactor': 1},\n",
       "  'dense1': {'Precision': {'weight': 'ap_fixed<6,1>'}, 'ReuseFactor': 1},\n",
       "  'batch_normalization_2': {'Precision': {'scale': 'ap_fixed<16,6>',\n",
       "    'bias': 'ap_fixed<16,6>'},\n",
       "   'ReuseFactor': 1},\n",
       "  'relu1': {'Precision': {'result': 'ap_fixed<6,1>'}, 'ReuseFactor': 1},\n",
       "  'output': {'Precision': {'weight': 'ap_fixed<6,1>', 'bias': 'ap_fixed<6,1>'},\n",
       "   'ReuseFactor': 1},\n",
       "  'batch_normalization_3': {'Precision': {'scale': 'ap_fixed<16,6>',\n",
       "    'bias': 'ap_fixed<16,6>'},\n",
       "   'ReuseFactor': 1},\n",
       "  'sigmoid': {'Precision': 'ap_fixed<16,6>',\n",
       "   'ReuseFactor': 1,\n",
       "   'table_size': 1024,\n",
       "   'table_t': 'ap_fixed<18,8>'}}}"
      ]
     },
     "metadata": {},
     "output_type": "display_data"
    },
    {
     "name": "stdout",
     "output_type": "stream",
     "text": [
      "-----------------------------------\n",
      "Interpreting Sequential\n",
      "Topology:\n",
      "Layer name: conv1_input, layer type: InputLayer, current shape: [[None, 20, 12, 1]]\n",
      "Layer name: conv1, layer type: QConv2D, current shape: [[None, 20, 12, 1]]\n",
      "Layer name: max_pooling2d, layer type: MaxPooling2D, current shape: [[None, 18, 10, 4]]\n",
      "Layer name: batch_normalization, layer type: BatchNormalization, current shape: [[None, 9, 5, 4]]\n",
      "Name: quantized_relu\n",
      "Layer name: relu_c1, layer type: Activation, current shape: [[None, 9, 5, 4]]\n",
      "Layer name: conv2, layer type: QConv2D, current shape: [[None, 9, 5, 4]]\n",
      "Layer name: max_pooling2d_1, layer type: MaxPooling2D, current shape: [[None, 7, 3, 8]]\n",
      "Layer name: batch_normalization_1, layer type: BatchNormalization, current shape: [[None, 3, 1, 8]]\n",
      "Name: quantized_relu\n",
      "Layer name: relu_c2, layer type: Activation, current shape: [[None, 3, 1, 8]]\n",
      "Layer name: dense1, layer type: QDense, current shape: [[None, 3, 1, 8]]\n",
      "Layer name: batch_normalization_2, layer type: BatchNormalization, current shape: [[None, 24]]\n",
      "Name: quantized_relu\n",
      "Layer name: relu1, layer type: Activation, current shape: [[None, 24]]\n",
      "Layer name: output, layer type: QDense, current shape: [[None, 24]]\n",
      "Layer name: batch_normalization_3, layer type: BatchNormalization, current shape: [[None, 1]]\n",
      "Layer name: sigmoid, layer type: Activation, current shape: [[None, 1]]\n",
      "Creating HLS model\n",
      "Writing HLS project\n",
      "Done\n",
      "Interpreting Sequential\n",
      "Topology:\n",
      "Layer name: conv1_input, layer type: Input\n",
      "Layer name: conv1, layer type: QConv2D\n",
      "Layer name: max_pooling2d, layer type: MaxPooling2D\n",
      "Layer name: batch_normalization, layer type: BatchNormalization\n",
      "Layer name: relu_c1, layer type: QActivation\n",
      "Layer name: conv2, layer type: QConv2D\n",
      "Layer name: max_pooling2d_1, layer type: MaxPooling2D\n",
      "Layer name: batch_normalization_1, layer type: BatchNormalization\n",
      "Layer name: relu_c2, layer type: QActivation\n",
      "Layer name: dense1, layer type: QDense\n",
      "Layer name: batch_normalization_2, layer type: BatchNormalization\n",
      "Layer name: relu1, layer type: QActivation\n",
      "Layer name: output, layer type: QDense\n",
      "Layer name: batch_normalization_3, layer type: BatchNormalization\n",
      "Layer name: sigmoid, layer type: Activation\n",
      "-----------------------------------\n",
      "Configuration\n"
     ]
    },
    {
     "data": {
      "text/plain": [
       "{'Model': {'Precision': 'ap_fixed<16,6>',\n",
       "  'ReuseFactor': 1,\n",
       "  'Strategy': 'Latency'},\n",
       " 'LayerName': {'conv1_input': {'Precision': {'result': 'ap_fixed<16,6>'}},\n",
       "  'conv1': {'Precision': {'weight': 'ap_fixed<6,1>'}, 'ReuseFactor': 1},\n",
       "  'max_pooling2d': {'Precision': 'ap_fixed<16,6>'},\n",
       "  'batch_normalization': {'Precision': {'scale': 'ap_fixed<16,6>',\n",
       "    'bias': 'ap_fixed<16,6>'},\n",
       "   'ReuseFactor': 1},\n",
       "  'relu_c1': {'Precision': {'result': 'ap_fixed<6,1>'}, 'ReuseFactor': 1},\n",
       "  'conv2': {'Precision': {'weight': 'ap_fixed<6,1>'}, 'ReuseFactor': 1},\n",
       "  'max_pooling2d_1': {'Precision': 'ap_fixed<16,6>'},\n",
       "  'batch_normalization_1': {'Precision': {'scale': 'ap_fixed<16,6>',\n",
       "    'bias': 'ap_fixed<16,6>'},\n",
       "   'ReuseFactor': 1},\n",
       "  'relu_c2': {'Precision': {'result': 'ap_fixed<6,1>'}, 'ReuseFactor': 1},\n",
       "  'dense1': {'Precision': {'weight': 'ap_fixed<6,1>'}, 'ReuseFactor': 1},\n",
       "  'batch_normalization_2': {'Precision': {'scale': 'ap_fixed<16,6>',\n",
       "    'bias': 'ap_fixed<16,6>'},\n",
       "   'ReuseFactor': 1},\n",
       "  'relu1': {'Precision': {'result': 'ap_fixed<6,1>'}, 'ReuseFactor': 1},\n",
       "  'output': {'Precision': {'weight': 'ap_fixed<6,1>', 'bias': 'ap_fixed<6,1>'},\n",
       "   'ReuseFactor': 1},\n",
       "  'batch_normalization_3': {'Precision': {'scale': 'ap_fixed<16,6>',\n",
       "    'bias': 'ap_fixed<16,6>'},\n",
       "   'ReuseFactor': 1},\n",
       "  'sigmoid': {'Precision': 'ap_fixed<16,6>',\n",
       "   'ReuseFactor': 1,\n",
       "   'table_size': 1024,\n",
       "   'table_t': 'ap_fixed<18,8>'}}}"
      ]
     },
     "metadata": {},
     "output_type": "display_data"
    },
    {
     "name": "stdout",
     "output_type": "stream",
     "text": [
      "-----------------------------------\n",
      "Interpreting Sequential\n",
      "Topology:\n",
      "Layer name: conv1_input, layer type: InputLayer, current shape: [[None, 20, 12, 1]]\n",
      "Layer name: conv1, layer type: QConv2D, current shape: [[None, 20, 12, 1]]\n",
      "Layer name: max_pooling2d, layer type: MaxPooling2D, current shape: [[None, 18, 10, 4]]\n",
      "Layer name: batch_normalization, layer type: BatchNormalization, current shape: [[None, 9, 5, 4]]\n",
      "Name: quantized_relu\n",
      "Layer name: relu_c1, layer type: Activation, current shape: [[None, 9, 5, 4]]\n",
      "Layer name: conv2, layer type: QConv2D, current shape: [[None, 9, 5, 4]]\n",
      "Layer name: max_pooling2d_1, layer type: MaxPooling2D, current shape: [[None, 7, 3, 8]]\n",
      "Layer name: batch_normalization_1, layer type: BatchNormalization, current shape: [[None, 3, 1, 8]]\n",
      "Name: quantized_relu\n",
      "Layer name: relu_c2, layer type: Activation, current shape: [[None, 3, 1, 8]]\n",
      "Layer name: dense1, layer type: QDense, current shape: [[None, 3, 1, 8]]\n",
      "Layer name: batch_normalization_2, layer type: BatchNormalization, current shape: [[None, 24]]\n",
      "Name: quantized_relu\n",
      "Layer name: relu1, layer type: Activation, current shape: [[None, 24]]\n",
      "Layer name: output, layer type: QDense, current shape: [[None, 24]]\n",
      "Layer name: batch_normalization_3, layer type: BatchNormalization, current shape: [[None, 1]]\n",
      "Layer name: sigmoid, layer type: Activation, current shape: [[None, 1]]\n",
      "Creating HLS model\n",
      "Writing HLS project\n",
      "WARNING:tensorflow:Compiled the loaded model, but the compiled metrics have yet to be built. `model.compile_metrics` will be empty until you train or evaluate the model.\n"
     ]
    },
    {
     "name": "stderr",
     "output_type": "stream",
     "text": [
      "WARNING:tensorflow:Compiled the loaded model, but the compiled metrics have yet to be built. `model.compile_metrics` will be empty until you train or evaluate the model.\n"
     ]
    },
    {
     "name": "stdout",
     "output_type": "stream",
     "text": [
      "Done\n"
     ]
    }
   ],
   "source": [
    "hls4ml_qmodel_unpruned = hls4ml_converter(qmodel, 'pruning_models/hls_qmodel_unpruned/hls4ml_prj', stripping=False)\n",
    "hls4ml_qmodel_pruned = hls4ml_converter(qmodel_for_pruning, 'pruning_models/hls_qmodel_pruned/hls4ml_prj', stripping=True)"
   ]
  },
  {
   "cell_type": "code",
   "execution_count": 35,
   "id": "995a183e",
   "metadata": {},
   "outputs": [
    {
     "name": "stdout",
     "output_type": "stream",
     "text": [
      "Failed to import pydot. You must install pydot and graphviz for `pydotprint` to work.\n"
     ]
    }
   ],
   "source": [
    "hls4ml.utils.plot_model(hls4ml_qmodel_unpruned, show_shapes=True, show_precision=True, to_file=None)"
   ]
  },
  {
   "cell_type": "code",
   "execution_count": 36,
   "id": "18850c64",
   "metadata": {},
   "outputs": [
    {
     "data": {
      "text/plain": [
       "{'EstimatedClockPeriod': '3.646',\n",
       " 'BestLatency': '288',\n",
       " 'WorstLatency': '288',\n",
       " 'IntervalMin': '247',\n",
       " 'IntervalMax': '247',\n",
       " 'BRAM_18K': '18',\n",
       " 'DSP48E': '14',\n",
       " 'FF': '10780',\n",
       " 'LUT': '40537',\n",
       " 'URAM': '0',\n",
       " 'AvailableBRAM_18K': '1968',\n",
       " 'AvailableDSP48E': '1968',\n",
       " 'AvailableFF': '1045440',\n",
       " 'AvailableLUT': '522720',\n",
       " 'AvailableURAM': '128'}"
      ]
     },
     "execution_count": 36,
     "metadata": {},
     "output_type": "execute_result"
    }
   ],
   "source": [
    "hls4ml_qmodel_unpruned.build(csim=False)\n",
    "hls4ml_qmodel_pruned.build(csim=False)"
   ]
  },
  {
   "cell_type": "code",
   "execution_count": 37,
   "id": "02e8cf38",
   "metadata": {
    "scrolled": true
   },
   "outputs": [
    {
     "name": "stdout",
     "output_type": "stream",
     "text": [
      "Found 1 solution(s) in pruning_models/hls_qmodel_unpruned/hls4ml_prj/myproject_prj.\n",
      "Reports for solution \"solution1\":\n",
      "\n",
      "C simulation report not found.\n",
      "SYNTHESIS REPORT:\n",
      "================================================================\n",
      "== Vivado HLS Report for 'myproject'\n",
      "================================================================\n",
      "* Date:           Sat Jul 24 13:35:35 2021\n",
      "\n",
      "* Version:        2019.2 (Build 2704478 on Wed Nov 06 22:10:23 MST 2019)\n",
      "* Project:        myproject_prj\n",
      "* Solution:       solution1\n",
      "* Product family: kintexuplus\n",
      "* Target device:  xcku15p-ffva1760-2-e\n",
      "\n",
      "\n",
      "================================================================\n",
      "== Performance Estimates\n",
      "================================================================\n",
      "+ Timing: \n",
      "    * Summary: \n",
      "    +--------+---------+----------+------------+\n",
      "    |  Clock |  Target | Estimated| Uncertainty|\n",
      "    +--------+---------+----------+------------+\n",
      "    |ap_clk  | 4.17 ns | 3.646 ns |   0.52 ns  |\n",
      "    +--------+---------+----------+------------+\n",
      "\n",
      "+ Latency: \n",
      "    * Summary: \n",
      "    +---------+---------+----------+----------+-----+-----+----------+\n",
      "    |  Latency (cycles) |  Latency (absolute) |  Interval | Pipeline |\n",
      "    |   min   |   max   |    min   |    max   | min | max |   Type   |\n",
      "    +---------+---------+----------+----------+-----+-----+----------+\n",
      "    |      288|      288| 1.200 us | 1.200 us |  247|  247| dataflow |\n",
      "    +---------+---------+----------+----------+-----+-----+----------+\n",
      "\n",
      "    + Detail: \n",
      "        * Instance: \n",
      "        +-------------------------------------------------------+------------------------------------------------------+---------+---------+-----------+-----------+-----+-----+----------+\n",
      "        |                                                       |                                                      |  Latency (cycles) |   Latency (absolute)  |  Interval | Pipeline |\n",
      "        |                        Instance                       |                        Module                        |   min   |   max   |    min    |    max    | min | max |   Type   |\n",
      "        +-------------------------------------------------------+------------------------------------------------------+---------+---------+-----------+-----------+-----+-----+----------+\n",
      "        |dense_array_array_ap_fixed_16_6_5_3_0_24u_config12_U0  |dense_array_array_ap_fixed_16_6_5_3_0_24u_config12_s  |        9|        9| 37.503 ns | 37.503 ns |    9|    9|   none   |\n",
      "        |conv_2d_cl_array_array_ap_fixed_8u_config7_U0          |conv_2d_cl_array_array_ap_fixed_8u_config7_s          |       52|       52|  0.217 us |  0.217 us |   52|   52|   none   |\n",
      "        |pooling2d_cl_array_array_ap_fixed_8u_config9_U0        |pooling2d_cl_array_array_ap_fixed_8u_config9_s        |       91|       91|  0.379 us |  0.379 us |   91|   91|   none   |\n",
      "        |conv_2d_cl_array_array_ap_fixed_4u_config2_U0          |conv_2d_cl_array_array_ap_fixed_4u_config2_s          |      246|      246|  1.025 us |  1.025 us |  246|  246|   none   |\n",
      "        |dense_array_array_ap_fixed_16_6_5_3_0_1u_config16_U0   |dense_array_array_ap_fixed_16_6_5_3_0_1u_config16_s   |        3|        3| 12.501 ns | 12.501 ns |    3|    3|   none   |\n",
      "        |normalize_array_array_ap_fixed_24u_config22_U0         |normalize_array_array_ap_fixed_24u_config22_s         |        1|        1|  4.167 ns |  4.167 ns |    1|    1| function |\n",
      "        |pooling2d_cl_array_array_ap_fixed_4u_config4_U0        |pooling2d_cl_array_array_ap_fixed_4u_config4_s        |      185|      185|  0.771 us |  0.771 us |  185|  185|   none   |\n",
      "        |relu_array_array_ap_fixed_24u_relu_config15_U0         |relu_array_array_ap_fixed_24u_relu_config15_s         |        1|        1|  4.167 ns |  4.167 ns |    1|    1| function |\n",
      "        |normalize_array_array_ap_fixed_8u_config10_U0          |normalize_array_array_ap_fixed_8u_config10_s          |        7|        7| 29.169 ns | 29.169 ns |    7|    7|   none   |\n",
      "        |normalize_array_array_ap_fixed_4u_config5_U0           |normalize_array_array_ap_fixed_4u_config5_s           |       49|       49|  0.204 us |  0.204 us |   49|   49|   none   |\n",
      "        |relu_array_array_ap_fixed_8u_relu_config11_U0          |relu_array_array_ap_fixed_8u_relu_config11_s          |        6|        6| 25.002 ns | 25.002 ns |    6|    6|   none   |\n",
      "        |sigmoid_array_array_ap_fixed_1u_sigmoid_config19_U0    |sigmoid_array_array_ap_fixed_1u_sigmoid_config19_s    |        3|        3| 12.501 ns | 12.501 ns |    1|    1| function |\n",
      "        |relu_array_array_ap_fixed_4u_relu_config6_U0           |relu_array_array_ap_fixed_4u_relu_config6_s           |       48|       48|  0.200 us |  0.200 us |   48|   48|   none   |\n",
      "        |normalize_array_array_ap_fixed_8u_config21_U0          |normalize_array_array_ap_fixed_8u_config21_s          |       23|       23| 95.841 ns | 95.841 ns |   23|   23|   none   |\n",
      "        |normalize_array_array_ap_fixed_4u_config20_U0          |normalize_array_array_ap_fixed_4u_config20_s          |      182|      182|  0.758 us |  0.758 us |  182|  182|   none   |\n",
      "        |normalize_array_array_ap_fixed_1u_config23_U0          |normalize_array_array_ap_fixed_1u_config23_s          |        1|        1|  4.167 ns |  4.167 ns |    1|    1| function |\n",
      "        |Block_proc_U0                                          |Block_proc                                            |        0|        0|    0 ns   |    0 ns   |    0|    0|   none   |\n",
      "        +-------------------------------------------------------+------------------------------------------------------+---------+---------+-----------+-----------+-----+-----+----------+\n",
      "\n",
      "        * Loop: \n",
      "        N/A\n",
      "\n",
      "\n",
      "\n",
      "================================================================\n",
      "== Utilization Estimates\n",
      "================================================================\n",
      "* Summary: \n",
      "+-----------------+---------+-------+---------+--------+-----+\n",
      "|       Name      | BRAM_18K| DSP48E|    FF   |   LUT  | URAM|\n",
      "+-----------------+---------+-------+---------+--------+-----+\n",
      "|DSP              |        -|      -|        -|       -|    -|\n",
      "|Expression       |        -|      -|        0|      32|    -|\n",
      "|FIFO             |       16|      -|     2530|    4656|    -|\n",
      "|Instance         |        2|     13|     7979|   35627|    0|\n",
      "|Memory           |        -|      -|        -|       -|    -|\n",
      "|Multiplexer      |        -|      -|        -|      36|    -|\n",
      "|Register         |        -|      -|        6|       -|    -|\n",
      "+-----------------+---------+-------+---------+--------+-----+\n",
      "|Total            |       18|     13|    10515|   40351|    0|\n",
      "+-----------------+---------+-------+---------+--------+-----+\n",
      "|Available        |     1968|   1968|  1045440|  522720|  128|\n",
      "+-----------------+---------+-------+---------+--------+-----+\n",
      "|Utilization (%)  |    ~0   |   ~0  |        1|       7|    0|\n",
      "+-----------------+---------+-------+---------+--------+-----+\n",
      "\n",
      "+ Detail: \n",
      "    * Instance: \n",
      "    +-------------------------------------------------------+------------------------------------------------------+---------+-------+------+-------+-----+\n",
      "    |                        Instance                       |                        Module                        | BRAM_18K| DSP48E|  FF  |  LUT  | URAM|\n",
      "    +-------------------------------------------------------+------------------------------------------------------+---------+-------+------+-------+-----+\n",
      "    |Block_proc_U0                                          |Block_proc                                            |        0|      0|     2|     11|    0|\n",
      "    |conv_2d_cl_array_array_ap_fixed_4u_config2_U0          |conv_2d_cl_array_array_ap_fixed_4u_config2_s          |        0|      1|  1891|   3200|    0|\n",
      "    |conv_2d_cl_array_array_ap_fixed_8u_config7_U0          |conv_2d_cl_array_array_ap_fixed_8u_config7_s          |        0|      0|  1337|   8561|    0|\n",
      "    |dense_array_array_ap_fixed_16_6_5_3_0_1u_config16_U0   |dense_array_array_ap_fixed_16_6_5_3_0_1u_config16_s   |        0|      0|   235|   1140|    0|\n",
      "    |dense_array_array_ap_fixed_16_6_5_3_0_24u_config12_U0  |dense_array_array_ap_fixed_16_6_5_3_0_24u_config12_s  |        0|      0|  2054|  14884|    0|\n",
      "    |normalize_array_array_ap_fixed_1u_config23_U0          |normalize_array_array_ap_fixed_1u_config23_s          |        0|      0|    20|     65|    0|\n",
      "    |normalize_array_array_ap_fixed_24u_config22_U0         |normalize_array_array_ap_fixed_24u_config22_s         |        0|      0|   387|   1012|    0|\n",
      "    |normalize_array_array_ap_fixed_4u_config20_U0          |normalize_array_array_ap_fixed_4u_config20_s          |        0|      0|    16|    175|    0|\n",
      "    |normalize_array_array_ap_fixed_4u_config5_U0           |normalize_array_array_ap_fixed_4u_config5_s           |        0|      4|   208|    324|    0|\n",
      "    |normalize_array_array_ap_fixed_8u_config10_U0          |normalize_array_array_ap_fixed_8u_config10_s          |        0|      8|   332|    499|    0|\n",
      "    |normalize_array_array_ap_fixed_8u_config21_U0          |normalize_array_array_ap_fixed_8u_config21_s          |        0|      0|    13|    247|    0|\n",
      "    |pooling2d_cl_array_array_ap_fixed_4u_config4_U0        |pooling2d_cl_array_array_ap_fixed_4u_config4_s        |        0|      0|   392|   1158|    0|\n",
      "    |pooling2d_cl_array_array_ap_fixed_8u_config9_U0        |pooling2d_cl_array_array_ap_fixed_8u_config9_s        |        1|      0|   811|   2614|    0|\n",
      "    |relu_array_array_ap_fixed_24u_relu_config15_U0         |relu_array_array_ap_fixed_24u_relu_config15_s         |        0|      0|   148|    916|    0|\n",
      "    |relu_array_array_ap_fixed_4u_relu_config6_U0           |relu_array_array_ap_fixed_4u_relu_config6_s           |        0|      0|    40|    256|    0|\n",
      "    |relu_array_array_ap_fixed_8u_relu_config11_U0          |relu_array_array_ap_fixed_8u_relu_config11_s          |        0|      0|    60|    395|    0|\n",
      "    |sigmoid_array_array_ap_fixed_1u_sigmoid_config19_U0    |sigmoid_array_array_ap_fixed_1u_sigmoid_config19_s    |        1|      0|    33|    170|    0|\n",
      "    +-------------------------------------------------------+------------------------------------------------------+---------+-------+------+-------+-----+\n",
      "    |Total                                                  |                                                      |        2|     13|  7979|  35627|    0|\n",
      "    +-------------------------------------------------------+------------------------------------------------------+---------+-------+------+-------+-----+\n",
      "\n",
      "Co-simulation report not found.\n"
     ]
    }
   ],
   "source": [
    "hls4ml.report.read_vivado_report('pruning_models/hls_qmodel_unpruned/hls4ml_prj')"
   ]
  },
  {
   "cell_type": "code",
   "execution_count": 38,
   "id": "71288cbe",
   "metadata": {},
   "outputs": [
    {
     "name": "stdout",
     "output_type": "stream",
     "text": [
      "Found 1 solution(s) in pruning_models/hls_qmodel_pruned/hls4ml_prj/myproject_prj.\n",
      "Reports for solution \"solution1\":\n",
      "\n",
      "C simulation report not found.\n",
      "SYNTHESIS REPORT:\n",
      "================================================================\n",
      "== Vivado HLS Report for 'myproject'\n",
      "================================================================\n",
      "* Date:           Sat Jul 24 13:38:53 2021\n",
      "\n",
      "* Version:        2019.2 (Build 2704478 on Wed Nov 06 22:10:23 MST 2019)\n",
      "* Project:        myproject_prj\n",
      "* Solution:       solution1\n",
      "* Product family: kintexuplus\n",
      "* Target device:  xcku15p-ffva1760-2-e\n",
      "\n",
      "\n",
      "================================================================\n",
      "== Performance Estimates\n",
      "================================================================\n",
      "+ Timing: \n",
      "    * Summary: \n",
      "    +--------+---------+----------+------------+\n",
      "    |  Clock |  Target | Estimated| Uncertainty|\n",
      "    +--------+---------+----------+------------+\n",
      "    |ap_clk  | 4.17 ns | 3.646 ns |   0.52 ns  |\n",
      "    +--------+---------+----------+------------+\n",
      "\n",
      "+ Latency: \n",
      "    * Summary: \n",
      "    +---------+---------+----------+----------+-----+-----+----------+\n",
      "    |  Latency (cycles) |  Latency (absolute) |  Interval | Pipeline |\n",
      "    |   min   |   max   |    min   |    max   | min | max |   Type   |\n",
      "    +---------+---------+----------+----------+-----+-----+----------+\n",
      "    |      288|      288| 1.200 us | 1.200 us |  247|  247| dataflow |\n",
      "    +---------+---------+----------+----------+-----+-----+----------+\n",
      "\n",
      "    + Detail: \n",
      "        * Instance: \n",
      "        +-------------------------------------------------------+------------------------------------------------------+---------+---------+-----------+-----------+-----+-----+----------+\n",
      "        |                                                       |                                                      |  Latency (cycles) |   Latency (absolute)  |  Interval | Pipeline |\n",
      "        |                        Instance                       |                        Module                        |   min   |   max   |    min    |    max    | min | max |   Type   |\n",
      "        +-------------------------------------------------------+------------------------------------------------------+---------+---------+-----------+-----------+-----+-----+----------+\n",
      "        |dense_array_array_ap_fixed_16_6_5_3_0_24u_config12_U0  |dense_array_array_ap_fixed_16_6_5_3_0_24u_config12_s  |        9|        9| 37.503 ns | 37.503 ns |    9|    9|   none   |\n",
      "        |conv_2d_cl_array_array_ap_fixed_8u_config7_U0          |conv_2d_cl_array_array_ap_fixed_8u_config7_s          |       52|       52|  0.217 us |  0.217 us |   52|   52|   none   |\n",
      "        |pooling2d_cl_array_array_ap_fixed_8u_config9_U0        |pooling2d_cl_array_array_ap_fixed_8u_config9_s        |       91|       91|  0.379 us |  0.379 us |   91|   91|   none   |\n",
      "        |conv_2d_cl_array_array_ap_fixed_4u_config2_U0          |conv_2d_cl_array_array_ap_fixed_4u_config2_s          |      246|      246|  1.025 us |  1.025 us |  246|  246|   none   |\n",
      "        |dense_array_array_ap_fixed_16_6_5_3_0_1u_config16_U0   |dense_array_array_ap_fixed_16_6_5_3_0_1u_config16_s   |        3|        3| 12.501 ns | 12.501 ns |    3|    3|   none   |\n",
      "        |normalize_array_array_ap_fixed_24u_config22_U0         |normalize_array_array_ap_fixed_24u_config22_s         |        1|        1|  4.167 ns |  4.167 ns |    1|    1| function |\n",
      "        |pooling2d_cl_array_array_ap_fixed_4u_config4_U0        |pooling2d_cl_array_array_ap_fixed_4u_config4_s        |      185|      185|  0.771 us |  0.771 us |  185|  185|   none   |\n",
      "        |relu_array_array_ap_fixed_24u_relu_config15_U0         |relu_array_array_ap_fixed_24u_relu_config15_s         |        1|        1|  4.167 ns |  4.167 ns |    1|    1| function |\n",
      "        |normalize_array_array_ap_fixed_8u_config10_U0          |normalize_array_array_ap_fixed_8u_config10_s          |        7|        7| 29.169 ns | 29.169 ns |    7|    7|   none   |\n",
      "        |normalize_array_array_ap_fixed_4u_config5_U0           |normalize_array_array_ap_fixed_4u_config5_s           |       49|       49|  0.204 us |  0.204 us |   49|   49|   none   |\n",
      "        |relu_array_array_ap_fixed_8u_relu_config11_U0          |relu_array_array_ap_fixed_8u_relu_config11_s          |        6|        6| 25.002 ns | 25.002 ns |    6|    6|   none   |\n",
      "        |sigmoid_array_array_ap_fixed_1u_sigmoid_config19_U0    |sigmoid_array_array_ap_fixed_1u_sigmoid_config19_s    |        3|        3| 12.501 ns | 12.501 ns |    1|    1| function |\n",
      "        |relu_array_array_ap_fixed_4u_relu_config6_U0           |relu_array_array_ap_fixed_4u_relu_config6_s           |       48|       48|  0.200 us |  0.200 us |   48|   48|   none   |\n",
      "        |normalize_array_array_ap_fixed_8u_config21_U0          |normalize_array_array_ap_fixed_8u_config21_s          |       23|       23| 95.841 ns | 95.841 ns |   23|   23|   none   |\n",
      "        |normalize_array_array_ap_fixed_4u_config20_U0          |normalize_array_array_ap_fixed_4u_config20_s          |      182|      182|  0.758 us |  0.758 us |  182|  182|   none   |\n",
      "        |normalize_array_array_ap_fixed_1u_config23_U0          |normalize_array_array_ap_fixed_1u_config23_s          |        1|        1|  4.167 ns |  4.167 ns |    1|    1| function |\n",
      "        |Block_proc_U0                                          |Block_proc                                            |        0|        0|    0 ns   |    0 ns   |    0|    0|   none   |\n",
      "        +-------------------------------------------------------+------------------------------------------------------+---------+---------+-----------+-----------+-----+-----+----------+\n",
      "\n",
      "        * Loop: \n",
      "        N/A\n",
      "\n",
      "\n",
      "\n",
      "================================================================\n",
      "== Utilization Estimates\n",
      "================================================================\n",
      "* Summary: \n",
      "+-----------------+---------+-------+---------+--------+-----+\n",
      "|       Name      | BRAM_18K| DSP48E|    FF   |   LUT  | URAM|\n",
      "+-----------------+---------+-------+---------+--------+-----+\n",
      "|DSP              |        -|      -|        -|       -|    -|\n",
      "|Expression       |        -|      -|        0|      32|    -|\n",
      "|FIFO             |       16|      -|     2530|    4656|    -|\n",
      "|Instance         |        2|     14|     8244|   35813|    0|\n",
      "|Memory           |        -|      -|        -|       -|    -|\n",
      "|Multiplexer      |        -|      -|        -|      36|    -|\n",
      "|Register         |        -|      -|        6|       -|    -|\n",
      "+-----------------+---------+-------+---------+--------+-----+\n",
      "|Total            |       18|     14|    10780|   40537|    0|\n",
      "+-----------------+---------+-------+---------+--------+-----+\n",
      "|Available        |     1968|   1968|  1045440|  522720|  128|\n",
      "+-----------------+---------+-------+---------+--------+-----+\n",
      "|Utilization (%)  |    ~0   |   ~0  |        1|       7|    0|\n",
      "+-----------------+---------+-------+---------+--------+-----+\n",
      "\n",
      "+ Detail: \n",
      "    * Instance: \n",
      "    +-------------------------------------------------------+------------------------------------------------------+---------+-------+------+-------+-----+\n",
      "    |                        Instance                       |                        Module                        | BRAM_18K| DSP48E|  FF  |  LUT  | URAM|\n",
      "    +-------------------------------------------------------+------------------------------------------------------+---------+-------+------+-------+-----+\n",
      "    |Block_proc_U0                                          |Block_proc                                            |        0|      0|     2|     11|    0|\n",
      "    |conv_2d_cl_array_array_ap_fixed_4u_config2_U0          |conv_2d_cl_array_array_ap_fixed_4u_config2_s          |        0|      2|  1922|   3083|    0|\n",
      "    |conv_2d_cl_array_array_ap_fixed_8u_config7_U0          |conv_2d_cl_array_array_ap_fixed_8u_config7_s          |        0|      0|  1433|   8688|    0|\n",
      "    |dense_array_array_ap_fixed_16_6_5_3_0_1u_config16_U0   |dense_array_array_ap_fixed_16_6_5_3_0_1u_config16_s   |        0|      0|   235|   1188|    0|\n",
      "    |dense_array_array_ap_fixed_16_6_5_3_0_24u_config12_U0  |dense_array_array_ap_fixed_16_6_5_3_0_24u_config12_s  |        0|      0|  2192|  15012|    0|\n",
      "    |normalize_array_array_ap_fixed_1u_config23_U0          |normalize_array_array_ap_fixed_1u_config23_s          |        0|      0|    20|     65|    0|\n",
      "    |normalize_array_array_ap_fixed_24u_config22_U0         |normalize_array_array_ap_fixed_24u_config22_s         |        0|      0|   387|   1012|    0|\n",
      "    |normalize_array_array_ap_fixed_4u_config20_U0          |normalize_array_array_ap_fixed_4u_config20_s          |        0|      0|    16|    175|    0|\n",
      "    |normalize_array_array_ap_fixed_4u_config5_U0           |normalize_array_array_ap_fixed_4u_config5_s           |        0|      4|   208|    324|    0|\n",
      "    |normalize_array_array_ap_fixed_8u_config10_U0          |normalize_array_array_ap_fixed_8u_config10_s          |        0|      8|   332|    499|    0|\n",
      "    |normalize_array_array_ap_fixed_8u_config21_U0          |normalize_array_array_ap_fixed_8u_config21_s          |        0|      0|    13|    247|    0|\n",
      "    |pooling2d_cl_array_array_ap_fixed_4u_config4_U0        |pooling2d_cl_array_array_ap_fixed_4u_config4_s        |        0|      0|   392|   1158|    0|\n",
      "    |pooling2d_cl_array_array_ap_fixed_8u_config9_U0        |pooling2d_cl_array_array_ap_fixed_8u_config9_s        |        1|      0|   811|   2614|    0|\n",
      "    |relu_array_array_ap_fixed_24u_relu_config15_U0         |relu_array_array_ap_fixed_24u_relu_config15_s         |        0|      0|   148|    916|    0|\n",
      "    |relu_array_array_ap_fixed_4u_relu_config6_U0           |relu_array_array_ap_fixed_4u_relu_config6_s           |        0|      0|    40|    256|    0|\n",
      "    |relu_array_array_ap_fixed_8u_relu_config11_U0          |relu_array_array_ap_fixed_8u_relu_config11_s          |        0|      0|    60|    395|    0|\n",
      "    |sigmoid_array_array_ap_fixed_1u_sigmoid_config19_U0    |sigmoid_array_array_ap_fixed_1u_sigmoid_config19_s    |        1|      0|    33|    170|    0|\n",
      "    +-------------------------------------------------------+------------------------------------------------------+---------+-------+------+-------+-----+\n",
      "    |Total                                                  |                                                      |        2|     14|  8244|  35813|    0|\n",
      "    +-------------------------------------------------------+------------------------------------------------------+---------+-------+------+-------+-----+\n",
      "\n",
      "Co-simulation report not found.\n"
     ]
    }
   ],
   "source": [
    "hls4ml.report.read_vivado_report('pruning_models/hls_qmodel_pruned/hls4ml_prj')"
   ]
  },
  {
   "cell_type": "markdown",
   "id": "8978a7b0",
   "metadata": {},
   "source": [
    "### Higher level Pruning\n",
    "\n",
    "Here add more pruning to pruned model."
   ]
  },
  {
   "cell_type": "code",
   "execution_count": 39,
   "id": "0fa3737b",
   "metadata": {},
   "outputs": [
    {
     "name": "stderr",
     "output_type": "stream",
     "text": [
      "/software/bz18310/miniconda/envs/test_python_3/lib/python3.9/site-packages/tensorflow/python/keras/engine/base_layer.py:2191: UserWarning: `layer.add_variable` is deprecated and will be removed in a future version. Please use `layer.add_weight` method instead.\n",
      "  warnings.warn('`layer.add_variable` is deprecated and '\n"
     ]
    },
    {
     "name": "stdout",
     "output_type": "stream",
     "text": [
      "Model: \"sequential\"\n",
      "_________________________________________________________________\n",
      "Layer (type)                 Output Shape              Param #   \n",
      "=================================================================\n",
      "prune_low_magnitude_conv1 (P (None, 18, 10, 4)         74        \n",
      "_________________________________________________________________\n",
      "prune_low_magnitude_max_pool (None, 9, 5, 4)           1         \n",
      "_________________________________________________________________\n",
      "prune_low_magnitude_batch_no (None, 9, 5, 4)           17        \n",
      "_________________________________________________________________\n",
      "prune_low_magnitude_relu_c1  (None, 9, 5, 4)           1         \n",
      "_________________________________________________________________\n",
      "prune_low_magnitude_conv2 (P (None, 7, 3, 8)           578       \n",
      "_________________________________________________________________\n",
      "prune_low_magnitude_max_pool (None, 3, 1, 8)           1         \n",
      "_________________________________________________________________\n",
      "prune_low_magnitude_batch_no (None, 3, 1, 8)           33        \n",
      "_________________________________________________________________\n",
      "prune_low_magnitude_relu_c2  (None, 3, 1, 8)           1         \n",
      "_________________________________________________________________\n",
      "prune_low_magnitude_inputFla (None, 24)                1         \n",
      "_________________________________________________________________\n",
      "prune_low_magnitude_dense1 ( (None, 24)                1154      \n",
      "_________________________________________________________________\n",
      "prune_low_magnitude_batch_no (None, 24)                97        \n",
      "_________________________________________________________________\n",
      "prune_low_magnitude_relu1 (P (None, 24)                1         \n",
      "_________________________________________________________________\n",
      "prune_low_magnitude_output ( (None, 1)                 51        \n",
      "_________________________________________________________________\n",
      "prune_low_magnitude_batch_no (None, 1)                 5         \n",
      "_________________________________________________________________\n",
      "prune_low_magnitude_sigmoid  (None, 1)                 1         \n",
      "=================================================================\n",
      "Total params: 2,016\n",
      "Trainable params: 999\n",
      "Non-trainable params: 1,017\n",
      "_________________________________________________________________\n"
     ]
    }
   ],
   "source": [
    "model_for_pruning_075 = load_model('./pruning_models/unpruned_train_1_test.h5')\n",
    "\n",
    "#from tensorflow_model_optimization.python.core.sparsity.keras import prune, pruning_callbacks, pruning_schedule\n",
    "#from tensorflow_model_optimization.sparsity.keras import strip_pruning\n",
    "#pruning_params = {\"pruning_schedule\" : pruning_schedule.ConstantSparsity(0.75, begin_step=2000, frequency=100)}\n",
    "model_for_pruning_075 = prune.prune_low_magnitude(model_for_pruning_075)\n",
    "\n",
    "model_for_pruning_075.summary()"
   ]
  },
  {
   "cell_type": "code",
   "execution_count": 40,
   "id": "cf8865bb",
   "metadata": {},
   "outputs": [],
   "source": [
    "model_test = load_model('./pruning_models/unpruned_train_1_test.h5')\n",
    "\n",
    "\n",
    "\n",
    "\n",
    "pruning_params = {\n",
    "      'pruning_schedule': tfmot.sparsity.keras.ConstantSparsity(target_sparsity=0.75,\n",
    "                                                               begin_step=0)\n",
    "}\n",
    "\n",
    "model_for_pruning_075 = tfmot.sparsity.keras.prune_low_magnitude(model_test, **pruning_params)"
   ]
  },
  {
   "cell_type": "code",
   "execution_count": 41,
   "id": "66c7f3c6",
   "metadata": {},
   "outputs": [
    {
     "name": "stdout",
     "output_type": "stream",
     "text": [
      "Epoch 1/50\n",
      "188/188 [==============================] - 15s 67ms/step - loss: 0.1071 - accuracy: 0.9654 - sens_at_spec: 0.2910 - auc: 0.9917 - val_loss: 0.2560 - val_accuracy: 0.9070 - val_sens_at_spec: 0.4342 - val_auc: 0.9906\n",
      "Epoch 2/50\n",
      "188/188 [==============================] - 12s 62ms/step - loss: 0.0981 - accuracy: 0.9669 - sens_at_spec: 0.2733 - auc: 0.9928 - val_loss: 0.0949 - val_accuracy: 0.9675 - val_sens_at_spec: 0.3372 - val_auc: 0.9938\n",
      "Epoch 3/50\n",
      "188/188 [==============================] - 12s 61ms/step - loss: 0.0930 - accuracy: 0.9686 - sens_at_spec: 0.3443 - auc: 0.9934 - val_loss: 0.0899 - val_accuracy: 0.9695 - val_sens_at_spec: 0.3078 - val_auc: 0.9941\n",
      "Epoch 4/50\n",
      "188/188 [==============================] - 12s 61ms/step - loss: 0.0911 - accuracy: 0.9693 - sens_at_spec: 0.3813 - auc: 0.9936 - val_loss: 0.0886 - val_accuracy: 0.9697 - val_sens_at_spec: 0.3463 - val_auc: 0.9942\n",
      "Epoch 5/50\n",
      "188/188 [==============================] - 11s 60ms/step - loss: 0.0897 - accuracy: 0.9697 - sens_at_spec: 0.4172 - auc: 0.9938 - val_loss: 0.0893 - val_accuracy: 0.9689 - val_sens_at_spec: 0.3604 - val_auc: 0.9944\n",
      "Epoch 6/50\n",
      "188/188 [==============================] - 11s 61ms/step - loss: 0.0890 - accuracy: 0.9700 - sens_at_spec: 0.4400 - auc: 0.9939 - val_loss: 0.0866 - val_accuracy: 0.9697 - val_sens_at_spec: 0.3938 - val_auc: 0.9946\n",
      "Epoch 7/50\n",
      "188/188 [==============================] - 12s 62ms/step - loss: 0.0880 - accuracy: 0.9704 - sens_at_spec: 0.3987 - auc: 0.9941 - val_loss: 0.0859 - val_accuracy: 0.9697 - val_sens_at_spec: 0.4211 - val_auc: 0.9947\n",
      "Epoch 8/50\n",
      "188/188 [==============================] - 12s 62ms/step - loss: 0.0875 - accuracy: 0.9704 - sens_at_spec: 0.4901 - auc: 0.9942 - val_loss: 0.0859 - val_accuracy: 0.9701 - val_sens_at_spec: 0.4710 - val_auc: 0.9948\n",
      "Epoch 9/50\n",
      "188/188 [==============================] - 11s 60ms/step - loss: 0.0872 - accuracy: 0.9704 - sens_at_spec: 0.3910 - auc: 0.9941 - val_loss: 0.0858 - val_accuracy: 0.9703 - val_sens_at_spec: 0.4586 - val_auc: 0.9948\n",
      "Epoch 10/50\n",
      "188/188 [==============================] - 12s 62ms/step - loss: 0.0868 - accuracy: 0.9706 - sens_at_spec: 0.3801 - auc: 0.9943 - val_loss: 0.0850 - val_accuracy: 0.9704 - val_sens_at_spec: 0.4294 - val_auc: 0.9948\n",
      "Epoch 11/50\n",
      "188/188 [==============================] - 12s 62ms/step - loss: 0.0865 - accuracy: 0.9710 - sens_at_spec: 0.4316 - auc: 0.9943 - val_loss: 0.0855 - val_accuracy: 0.9702 - val_sens_at_spec: 0.4472 - val_auc: 0.9949\n",
      "Epoch 12/50\n",
      "188/188 [==============================] - 12s 61ms/step - loss: 0.0865 - accuracy: 0.9709 - sens_at_spec: 0.4578 - auc: 0.9943 - val_loss: 0.0846 - val_accuracy: 0.9705 - val_sens_at_spec: 0.4343 - val_auc: 0.9949\n",
      "Epoch 13/50\n",
      "188/188 [==============================] - 12s 61ms/step - loss: 0.0862 - accuracy: 0.9709 - sens_at_spec: 0.4311 - auc: 0.9943 - val_loss: 0.0850 - val_accuracy: 0.9703 - val_sens_at_spec: 0.4317 - val_auc: 0.9948\n",
      "Epoch 14/50\n",
      "188/188 [==============================] - 11s 61ms/step - loss: 0.0859 - accuracy: 0.9705 - sens_at_spec: 0.4561 - auc: 0.9944 - val_loss: 0.0845 - val_accuracy: 0.9706 - val_sens_at_spec: 0.4199 - val_auc: 0.9949\n",
      "Epoch 15/50\n",
      "188/188 [==============================] - 12s 62ms/step - loss: 0.0866 - accuracy: 0.9706 - sens_at_spec: 0.4660 - auc: 0.9942 - val_loss: 0.0845 - val_accuracy: 0.9702 - val_sens_at_spec: 0.4639 - val_auc: 0.9949\n",
      "Epoch 16/50\n",
      "188/188 [==============================] - 12s 62ms/step - loss: 0.0854 - accuracy: 0.9713 - sens_at_spec: 0.4950 - auc: 0.9944 - val_loss: 0.0841 - val_accuracy: 0.9704 - val_sens_at_spec: 0.4835 - val_auc: 0.9950\n",
      "Epoch 17/50\n",
      "188/188 [==============================] - 12s 62ms/step - loss: 0.0863 - accuracy: 0.9708 - sens_at_spec: 0.5126 - auc: 0.9943 - val_loss: 0.0841 - val_accuracy: 0.9704 - val_sens_at_spec: 0.5047 - val_auc: 0.9950\n",
      "Epoch 18/50\n",
      "188/188 [==============================] - 12s 62ms/step - loss: 0.0850 - accuracy: 0.9712 - sens_at_spec: 0.5070 - auc: 0.9945 - val_loss: 0.0839 - val_accuracy: 0.9703 - val_sens_at_spec: 0.5257 - val_auc: 0.9949\n",
      "Epoch 19/50\n",
      "188/188 [==============================] - 12s 61ms/step - loss: 0.0853 - accuracy: 0.9709 - sens_at_spec: 0.4857 - auc: 0.9945 - val_loss: 0.0844 - val_accuracy: 0.9699 - val_sens_at_spec: 0.5457 - val_auc: 0.9949\n",
      "Epoch 20/50\n",
      "188/188 [==============================] - 12s 62ms/step - loss: 0.0849 - accuracy: 0.9712 - sens_at_spec: 0.4966 - auc: 0.9945 - val_loss: 0.0838 - val_accuracy: 0.9701 - val_sens_at_spec: 0.5250 - val_auc: 0.9950\n",
      "Epoch 21/50\n",
      "188/188 [==============================] - 11s 61ms/step - loss: 0.0849 - accuracy: 0.9716 - sens_at_spec: 0.5578 - auc: 0.9944 - val_loss: 0.0836 - val_accuracy: 0.9705 - val_sens_at_spec: 0.5268 - val_auc: 0.9950\n",
      "Epoch 22/50\n",
      "188/188 [==============================] - 12s 61ms/step - loss: 0.0851 - accuracy: 0.9715 - sens_at_spec: 0.5187 - auc: 0.9944 - val_loss: 0.0838 - val_accuracy: 0.9703 - val_sens_at_spec: 0.4951 - val_auc: 0.9949\n",
      "Epoch 23/50\n",
      "188/188 [==============================] - 11s 61ms/step - loss: 0.0855 - accuracy: 0.9710 - sens_at_spec: 0.5195 - auc: 0.9944 - val_loss: 0.0837 - val_accuracy: 0.9705 - val_sens_at_spec: 0.5305 - val_auc: 0.9950\n",
      "Epoch 24/50\n",
      "188/188 [==============================] - 11s 61ms/step - loss: 0.0850 - accuracy: 0.9712 - sens_at_spec: 0.5307 - auc: 0.9945 - val_loss: 0.0835 - val_accuracy: 0.9707 - val_sens_at_spec: 0.5231 - val_auc: 0.9949\n",
      "Epoch 25/50\n",
      "188/188 [==============================] - 12s 62ms/step - loss: 0.0848 - accuracy: 0.9713 - sens_at_spec: 0.5348 - auc: 0.9945 - val_loss: 0.0835 - val_accuracy: 0.9709 - val_sens_at_spec: 0.5300 - val_auc: 0.9950\n",
      "Epoch 26/50\n",
      "188/188 [==============================] - 11s 61ms/step - loss: 0.0845 - accuracy: 0.9709 - sens_at_spec: 0.5469 - auc: 0.9945 - val_loss: 0.0833 - val_accuracy: 0.9710 - val_sens_at_spec: 0.5392 - val_auc: 0.9950\n",
      "Epoch 27/50\n",
      "188/188 [==============================] - 12s 61ms/step - loss: 0.0851 - accuracy: 0.9712 - sens_at_spec: 0.5511 - auc: 0.9945 - val_loss: 0.0832 - val_accuracy: 0.9710 - val_sens_at_spec: 0.5342 - val_auc: 0.9950\n",
      "Epoch 28/50\n",
      "188/188 [==============================] - 12s 61ms/step - loss: 0.0844 - accuracy: 0.9714 - sens_at_spec: 0.5404 - auc: 0.9945 - val_loss: 0.0834 - val_accuracy: 0.9710 - val_sens_at_spec: 0.5318 - val_auc: 0.9950\n",
      "Epoch 29/50\n",
      "188/188 [==============================] - 12s 62ms/step - loss: 0.0839 - accuracy: 0.9717 - sens_at_spec: 0.5464 - auc: 0.9946 - val_loss: 0.0831 - val_accuracy: 0.9710 - val_sens_at_spec: 0.5363 - val_auc: 0.9950\n",
      "Epoch 30/50\n",
      "188/188 [==============================] - 11s 61ms/step - loss: 0.0843 - accuracy: 0.9714 - sens_at_spec: 0.5219 - auc: 0.9945 - val_loss: 0.0830 - val_accuracy: 0.9709 - val_sens_at_spec: 0.5407 - val_auc: 0.9950\n",
      "Epoch 31/50\n",
      "188/188 [==============================] - 12s 61ms/step - loss: 0.0842 - accuracy: 0.9715 - sens_at_spec: 0.5445 - auc: 0.9946 - val_loss: 0.0831 - val_accuracy: 0.9710 - val_sens_at_spec: 0.5515 - val_auc: 0.9950\n",
      "Epoch 32/50\n",
      "188/188 [==============================] - 12s 61ms/step - loss: 0.0846 - accuracy: 0.9714 - sens_at_spec: 0.5549 - auc: 0.9946 - val_loss: 0.0831 - val_accuracy: 0.9713 - val_sens_at_spec: 0.5362 - val_auc: 0.9950\n",
      "Epoch 33/50\n",
      "188/188 [==============================] - 12s 62ms/step - loss: 0.0848 - accuracy: 0.9712 - sens_at_spec: 0.4728 - auc: 0.9945 - val_loss: 0.0828 - val_accuracy: 0.9714 - val_sens_at_spec: 0.5357 - val_auc: 0.9951\n",
      "Epoch 34/50\n",
      "188/188 [==============================] - 12s 63ms/step - loss: 0.0846 - accuracy: 0.9714 - sens_at_spec: 0.5625 - auc: 0.9945 - val_loss: 0.0829 - val_accuracy: 0.9711 - val_sens_at_spec: 0.5497 - val_auc: 0.9951\n",
      "Epoch 35/50\n",
      "188/188 [==============================] - 12s 61ms/step - loss: 0.0838 - accuracy: 0.9718 - sens_at_spec: 0.5640 - auc: 0.9946 - val_loss: 0.0827 - val_accuracy: 0.9712 - val_sens_at_spec: 0.5423 - val_auc: 0.9951\n",
      "Epoch 36/50\n",
      "188/188 [==============================] - 11s 61ms/step - loss: 0.0841 - accuracy: 0.9716 - sens_at_spec: 0.5588 - auc: 0.9946 - val_loss: 0.0827 - val_accuracy: 0.9709 - val_sens_at_spec: 0.5441 - val_auc: 0.9951\n",
      "Epoch 37/50\n",
      "188/188 [==============================] - 12s 62ms/step - loss: 0.0842 - accuracy: 0.9712 - sens_at_spec: 0.5583 - auc: 0.9946 - val_loss: 0.0825 - val_accuracy: 0.9709 - val_sens_at_spec: 0.5520 - val_auc: 0.9951\n",
      "Epoch 38/50\n",
      "188/188 [==============================] - 12s 62ms/step - loss: 0.0843 - accuracy: 0.9715 - sens_at_spec: 0.5277 - auc: 0.9945 - val_loss: 0.0825 - val_accuracy: 0.9709 - val_sens_at_spec: 0.5631 - val_auc: 0.9951\n",
      "Epoch 39/50\n",
      "188/188 [==============================] - 12s 62ms/step - loss: 0.0841 - accuracy: 0.9716 - sens_at_spec: 0.5474 - auc: 0.9946 - val_loss: 0.0825 - val_accuracy: 0.9710 - val_sens_at_spec: 0.5734 - val_auc: 0.9951\n",
      "Epoch 40/50\n",
      "188/188 [==============================] - 12s 62ms/step - loss: 0.0837 - accuracy: 0.9719 - sens_at_spec: 0.5402 - auc: 0.9946 - val_loss: 0.0825 - val_accuracy: 0.9713 - val_sens_at_spec: 0.5563 - val_auc: 0.9952\n",
      "Epoch 41/50\n",
      "188/188 [==============================] - 13s 69ms/step - loss: 0.0835 - accuracy: 0.9717 - sens_at_spec: 0.4864 - auc: 0.9946 - val_loss: 0.0822 - val_accuracy: 0.9712 - val_sens_at_spec: 0.5718 - val_auc: 0.9951\n",
      "Epoch 42/50\n",
      "188/188 [==============================] - 12s 61ms/step - loss: 0.0839 - accuracy: 0.9717 - sens_at_spec: 0.5506 - auc: 0.9946 - val_loss: 0.0821 - val_accuracy: 0.9713 - val_sens_at_spec: 0.5651 - val_auc: 0.9952\n",
      "Epoch 43/50\n",
      "188/188 [==============================] - 12s 62ms/step - loss: 0.0832 - accuracy: 0.9717 - sens_at_spec: 0.5099 - auc: 0.9947 - val_loss: 0.0821 - val_accuracy: 0.9713 - val_sens_at_spec: 0.5802 - val_auc: 0.9952\n",
      "Epoch 44/50\n",
      "188/188 [==============================] - 12s 61ms/step - loss: 0.0833 - accuracy: 0.9719 - sens_at_spec: 0.5233 - auc: 0.9947 - val_loss: 0.0821 - val_accuracy: 0.9714 - val_sens_at_spec: 0.5691 - val_auc: 0.9952\n",
      "Epoch 45/50\n",
      "188/188 [==============================] - 12s 62ms/step - loss: 0.0833 - accuracy: 0.9718 - sens_at_spec: 0.5535 - auc: 0.9947 - val_loss: 0.0820 - val_accuracy: 0.9712 - val_sens_at_spec: 0.5643 - val_auc: 0.9952\n",
      "Epoch 46/50\n",
      "188/188 [==============================] - 12s 63ms/step - loss: 0.0837 - accuracy: 0.9714 - sens_at_spec: 0.5289 - auc: 0.9947 - val_loss: 0.0821 - val_accuracy: 0.9714 - val_sens_at_spec: 0.5819 - val_auc: 0.9952\n",
      "Epoch 47/50\n",
      "188/188 [==============================] - 14s 72ms/step - loss: 0.0834 - accuracy: 0.9721 - sens_at_spec: 0.5558 - auc: 0.9947 - val_loss: 0.0819 - val_accuracy: 0.9712 - val_sens_at_spec: 0.5840 - val_auc: 0.9952\n",
      "Epoch 48/50\n",
      "188/188 [==============================] - 13s 67ms/step - loss: 0.0836 - accuracy: 0.9714 - sens_at_spec: 0.5276 - auc: 0.9946 - val_loss: 0.0819 - val_accuracy: 0.9710 - val_sens_at_spec: 0.5886 - val_auc: 0.9952\n",
      "Epoch 49/50\n",
      "188/188 [==============================] - 12s 62ms/step - loss: 0.0831 - accuracy: 0.9722 - sens_at_spec: 0.5173 - auc: 0.9946 - val_loss: 0.0821 - val_accuracy: 0.9715 - val_sens_at_spec: 0.5574 - val_auc: 0.9952\n",
      "Epoch 50/50\n",
      "188/188 [==============================] - 12s 62ms/step - loss: 0.0839 - accuracy: 0.9716 - sens_at_spec: 0.5463 - auc: 0.9946 - val_loss: 0.0818 - val_accuracy: 0.9713 - val_sens_at_spec: 0.5511 - val_auc: 0.9952\n",
      "WARNING:tensorflow:Compiled the loaded model, but the compiled metrics have yet to be built. `model.compile_metrics` will be empty until you train or evaluate the model.\n"
     ]
    },
    {
     "name": "stderr",
     "output_type": "stream",
     "text": [
      "WARNING:tensorflow:Compiled the loaded model, but the compiled metrics have yet to be built. `model.compile_metrics` will be empty until you train or evaluate the model.\n"
     ]
    }
   ],
   "source": [
    "trainer(model_for_pruning_075, train=True, savename='pruning_models/pruned075_train_1_test.h5', stripping=True)"
   ]
  },
  {
   "cell_type": "code",
   "execution_count": 42,
   "id": "ebeeb0d3",
   "metadata": {},
   "outputs": [
    {
     "name": "stdout",
     "output_type": "stream",
     "text": [
      "conv1/kernel:0: 75.00% sparsity  (27/36)\n",
      "batch_normalization/gamma:0: 0.00% sparsity  (0/4)\n",
      "batch_normalization/beta:0: 0.00% sparsity  (0/4)\n",
      "conv2/kernel:0: 75.00% sparsity  (216/288)\n",
      "batch_normalization_1/gamma:0: 0.00% sparsity  (0/8)\n",
      "batch_normalization_1/beta:0: 0.00% sparsity  (0/8)\n",
      "dense1/kernel:0: 75.00% sparsity  (432/576)\n",
      "batch_normalization_2/gamma:0: 0.00% sparsity  (0/24)\n",
      "batch_normalization_2/beta:0: 0.00% sparsity  (0/24)\n",
      "output/kernel:0: 75.00% sparsity  (18/24)\n",
      "output/bias:0: 0.00% sparsity  (0/1)\n",
      "batch_normalization_3/gamma:0: 0.00% sparsity  (0/1)\n",
      "batch_normalization_3/beta:0: 0.00% sparsity  (0/1)\n"
     ]
    }
   ],
   "source": [
    "print_model_weights_sparsity(model_for_pruning_075)"
   ]
  },
  {
   "cell_type": "code",
   "execution_count": 43,
   "id": "1dd049a0",
   "metadata": {},
   "outputs": [
    {
     "data": {
      "image/png": "[encoded data removed]",
      "text/plain": [
       "<Figure size 576x432 with 1 Axes>"
      ]
     },
     "metadata": {
      "needs_background": "light"
     },
     "output_type": "display_data"
    },
    {
     "data": {
      "image/png": "[encoded data removed]",
      "text/plain": [
       "<Figure size 432x432 with 1 Axes>"
      ]
     },
     "metadata": {
      "needs_background": "light"
     },
     "output_type": "display_data"
    }
   ],
   "source": [
    "plot_roc_and_eff([model, model_for_pruning_075], ['unpruned', 'pruned075'])"
   ]
  },
  {
   "cell_type": "code",
   "execution_count": 44,
   "id": "487a9f2a",
   "metadata": {},
   "outputs": [
    {
     "name": "stdout",
     "output_type": "stream",
     "text": [
      "Interpreting Sequential\n",
      "Topology:\n",
      "Layer name: conv1_input, layer type: Input\n",
      "Layer name: conv1, layer type: Conv2D\n",
      "  -> Activation (linear), layer name: conv1\n",
      "Layer name: max_pooling2d, layer type: MaxPooling2D\n",
      "Layer name: batch_normalization, layer type: BatchNormalization\n",
      "Layer name: relu_c1, layer type: Activation\n",
      "Layer name: conv2, layer type: Conv2D\n",
      "  -> Activation (linear), layer name: conv2\n",
      "Layer name: max_pooling2d_1, layer type: MaxPooling2D\n",
      "Layer name: batch_normalization_1, layer type: BatchNormalization\n",
      "Layer name: relu_c2, layer type: Activation\n",
      "Layer name: dense1, layer type: Dense\n",
      "  -> Activation (linear), layer name: dense1\n",
      "Layer name: batch_normalization_2, layer type: BatchNormalization\n",
      "Layer name: relu1, layer type: Activation\n",
      "Layer name: output, layer type: Dense\n",
      "  -> Activation (linear), layer name: output\n",
      "Layer name: batch_normalization_3, layer type: BatchNormalization\n",
      "Layer name: sigmoid, layer type: Activation\n",
      "-----------------------------------\n",
      "Configuration\n"
     ]
    },
    {
     "data": {
      "text/plain": [
       "{'Model': {'Precision': 'ap_fixed<16,6>',\n",
       "  'ReuseFactor': 1,\n",
       "  'Strategy': 'Latency'},\n",
       " 'LayerName': {'conv1_input': {'Precision': {'result': 'ap_fixed<16,6>'}},\n",
       "  'conv1': {'Precision': {'weight': 'ap_fixed<16,6>',\n",
       "    'bias': 'ap_fixed<16,6>',\n",
       "    'result': 'ap_fixed<16,6>'},\n",
       "   'ReuseFactor': 1},\n",
       "  'conv1_linear': {'Precision': 'ap_fixed<16,6>',\n",
       "   'ReuseFactor': 1,\n",
       "   'table_size': 1024,\n",
       "   'table_t': 'ap_fixed<18,8>'},\n",
       "  'max_pooling2d': {'Precision': 'ap_fixed<16,6>'},\n",
       "  'batch_normalization': {'Precision': {'scale': 'ap_fixed<16,6>',\n",
       "    'bias': 'ap_fixed<16,6>'},\n",
       "   'ReuseFactor': 1},\n",
       "  'relu_c1': {'Precision': 'ap_fixed<16,6>',\n",
       "   'ReuseFactor': 1,\n",
       "   'table_size': 1024,\n",
       "   'table_t': 'ap_fixed<18,8>'},\n",
       "  'conv2': {'Precision': {'weight': 'ap_fixed<16,6>',\n",
       "    'bias': 'ap_fixed<16,6>',\n",
       "    'result': 'ap_fixed<16,6>'},\n",
       "   'ReuseFactor': 1},\n",
       "  'conv2_linear': {'Precision': 'ap_fixed<16,6>',\n",
       "   'ReuseFactor': 1,\n",
       "   'table_size': 1024,\n",
       "   'table_t': 'ap_fixed<18,8>'},\n",
       "  'max_pooling2d_1': {'Precision': 'ap_fixed<16,6>'},\n",
       "  'batch_normalization_1': {'Precision': {'scale': 'ap_fixed<16,6>',\n",
       "    'bias': 'ap_fixed<16,6>'},\n",
       "   'ReuseFactor': 1},\n",
       "  'relu_c2': {'Precision': 'ap_fixed<16,6>',\n",
       "   'ReuseFactor': 1,\n",
       "   'table_size': 1024,\n",
       "   'table_t': 'ap_fixed<18,8>'},\n",
       "  'dense1': {'Precision': {'weight': 'ap_fixed<16,6>',\n",
       "    'bias': 'ap_fixed<16,6>',\n",
       "    'result': 'ap_fixed<16,6>'},\n",
       "   'ReuseFactor': 1},\n",
       "  'dense1_linear': {'Precision': 'ap_fixed<16,6>',\n",
       "   'ReuseFactor': 1,\n",
       "   'table_size': 1024,\n",
       "   'table_t': 'ap_fixed<18,8>'},\n",
       "  'batch_normalization_2': {'Precision': {'scale': 'ap_fixed<16,6>',\n",
       "    'bias': 'ap_fixed<16,6>'},\n",
       "   'ReuseFactor': 1},\n",
       "  'relu1': {'Precision': 'ap_fixed<16,6>',\n",
       "   'ReuseFactor': 1,\n",
       "   'table_size': 1024,\n",
       "   'table_t': 'ap_fixed<18,8>'},\n",
       "  'output': {'Precision': {'weight': 'ap_fixed<16,6>',\n",
       "    'bias': 'ap_fixed<16,6>',\n",
       "    'result': 'ap_fixed<16,6>'},\n",
       "   'ReuseFactor': 1},\n",
       "  'output_linear': {'Precision': 'ap_fixed<16,6>',\n",
       "   'ReuseFactor': 1,\n",
       "   'table_size': 1024,\n",
       "   'table_t': 'ap_fixed<18,8>'},\n",
       "  'batch_normalization_3': {'Precision': {'scale': 'ap_fixed<16,6>',\n",
       "    'bias': 'ap_fixed<16,6>'},\n",
       "   'ReuseFactor': 1},\n",
       "  'sigmoid': {'Precision': 'ap_fixed<16,6>',\n",
       "   'ReuseFactor': 1,\n",
       "   'table_size': 1024,\n",
       "   'table_t': 'ap_fixed<18,8>'}}}"
      ]
     },
     "metadata": {},
     "output_type": "display_data"
    },
    {
     "name": "stdout",
     "output_type": "stream",
     "text": [
      "-----------------------------------\n",
      "Interpreting Sequential\n",
      "Topology:\n",
      "Layer name: conv1_input, layer type: InputLayer, current shape: [[None, 20, 12, 1]]\n",
      "Layer name: conv1, layer type: Conv2D, current shape: [[None, 20, 12, 1]]\n",
      "Layer name: max_pooling2d, layer type: MaxPooling2D, current shape: [[None, 18, 10, 4]]\n",
      "Layer name: batch_normalization, layer type: BatchNormalization, current shape: [[None, 9, 5, 4]]\n",
      "Layer name: relu_c1, layer type: Activation, current shape: [[None, 9, 5, 4]]\n",
      "Layer name: conv2, layer type: Conv2D, current shape: [[None, 9, 5, 4]]\n",
      "Layer name: max_pooling2d_1, layer type: MaxPooling2D, current shape: [[None, 7, 3, 8]]\n",
      "Layer name: batch_normalization_1, layer type: BatchNormalization, current shape: [[None, 3, 1, 8]]\n",
      "Layer name: relu_c2, layer type: Activation, current shape: [[None, 3, 1, 8]]\n",
      "Layer name: dense1, layer type: Dense, current shape: [[None, 3, 1, 8]]\n",
      "Layer name: batch_normalization_2, layer type: BatchNormalization, current shape: [[None, 24]]\n",
      "Layer name: relu1, layer type: Activation, current shape: [[None, 24]]\n",
      "Layer name: output, layer type: Dense, current shape: [[None, 24]]\n",
      "Layer name: batch_normalization_3, layer type: BatchNormalization, current shape: [[None, 1]]\n",
      "Layer name: sigmoid, layer type: Activation, current shape: [[None, 1]]\n",
      "Creating HLS model\n",
      "Writing HLS project\n",
      "WARNING:tensorflow:Compiled the loaded model, but the compiled metrics have yet to be built. `model.compile_metrics` will be empty until you train or evaluate the model.\n"
     ]
    },
    {
     "name": "stderr",
     "output_type": "stream",
     "text": [
      "WARNING:tensorflow:Compiled the loaded model, but the compiled metrics have yet to be built. `model.compile_metrics` will be empty until you train or evaluate the model.\n"
     ]
    },
    {
     "name": "stdout",
     "output_type": "stream",
     "text": [
      "Done\n"
     ]
    }
   ],
   "source": [
    "hls4ml_model_pruned_075 = hls4ml_converter(model_for_pruning_075, 'pruning_models/hls_pruned_075/hls4ml_prj', stripping=True)"
   ]
  },
  {
   "cell_type": "code",
   "execution_count": 45,
   "id": "5d8b5247",
   "metadata": {},
   "outputs": [
    {
     "data": {
      "text/plain": [
       "{'EstimatedClockPeriod': '3.646',\n",
       " 'BestLatency': '279',\n",
       " 'WorstLatency': '279',\n",
       " 'IntervalMin': '247',\n",
       " 'IntervalMax': '247',\n",
       " 'BRAM_18K': '18',\n",
       " 'DSP48E': '229',\n",
       " 'FF': '9441',\n",
       " 'LUT': '19820',\n",
       " 'URAM': '0',\n",
       " 'AvailableBRAM_18K': '1968',\n",
       " 'AvailableDSP48E': '1968',\n",
       " 'AvailableFF': '1045440',\n",
       " 'AvailableLUT': '522720',\n",
       " 'AvailableURAM': '128'}"
      ]
     },
     "execution_count": 45,
     "metadata": {},
     "output_type": "execute_result"
    }
   ],
   "source": [
    "hls4ml_model_pruned_075.build(csim=False)"
   ]
  },
  {
   "cell_type": "code",
   "execution_count": 46,
   "id": "70747ce4",
   "metadata": {
    "scrolled": false
   },
   "outputs": [
    {
     "name": "stdout",
     "output_type": "stream",
     "text": [
      "Found 1 solution(s) in pruning_models/hls_pruned_075/hls4ml_prj/myproject_prj.\n",
      "Reports for solution \"solution1\":\n",
      "\n",
      "C simulation report not found.\n",
      "SYNTHESIS REPORT:\n",
      "================================================================\n",
      "== Vivado HLS Report for 'myproject'\n",
      "================================================================\n",
      "* Date:           Sat Jul 24 13:51:03 2021\n",
      "\n",
      "* Version:        2019.2 (Build 2704478 on Wed Nov 06 22:10:23 MST 2019)\n",
      "* Project:        myproject_prj\n",
      "* Solution:       solution1\n",
      "* Product family: kintexuplus\n",
      "* Target device:  xcku15p-ffva1760-2-e\n",
      "\n",
      "\n",
      "================================================================\n",
      "== Performance Estimates\n",
      "================================================================\n",
      "+ Timing: \n",
      "    * Summary: \n",
      "    +--------+---------+----------+------------+\n",
      "    |  Clock |  Target | Estimated| Uncertainty|\n",
      "    +--------+---------+----------+------------+\n",
      "    |ap_clk  | 4.17 ns | 3.646 ns |   0.52 ns  |\n",
      "    +--------+---------+----------+------------+\n",
      "\n",
      "+ Latency: \n",
      "    * Summary: \n",
      "    +---------+---------+----------+----------+-----+-----+----------+\n",
      "    |  Latency (cycles) |  Latency (absolute) |  Interval | Pipeline |\n",
      "    |   min   |   max   |    min   |    max   | min | max |   Type   |\n",
      "    +---------+---------+----------+----------+-----+-----+----------+\n",
      "    |      279|      279| 1.163 us | 1.163 us |  247|  247| dataflow |\n",
      "    +---------+---------+----------+----------+-----+-----+----------+\n",
      "\n",
      "    + Detail: \n",
      "        * Instance: \n",
      "        +-------------------------------------------------------+------------------------------------------------------+---------+---------+-----------+-----------+-----+-----+----------+\n",
      "        |                                                       |                                                      |  Latency (cycles) |   Latency (absolute)  |  Interval | Pipeline |\n",
      "        |                        Instance                       |                        Module                        |   min   |   max   |    min    |    max    | min | max |   Type   |\n",
      "        +-------------------------------------------------------+------------------------------------------------------+---------+---------+-----------+-----------+-----+-----+----------+\n",
      "        |dense_array_array_ap_fixed_16_6_5_3_0_24u_config12_U0  |dense_array_array_ap_fixed_16_6_5_3_0_24u_config12_s  |        7|        7| 29.169 ns | 29.169 ns |    7|    7|   none   |\n",
      "        |conv_2d_cl_array_array_ap_fixed_8u_config7_U0          |conv_2d_cl_array_array_ap_fixed_8u_config7_s          |       51|       51|  0.213 us |  0.213 us |   51|   51|   none   |\n",
      "        |pooling2d_cl_array_array_ap_fixed_8u_config9_U0        |pooling2d_cl_array_array_ap_fixed_8u_config9_s        |       91|       91|  0.379 us |  0.379 us |   91|   91|   none   |\n",
      "        |relu_array_array_ap_fixed_24u_relu_config15_U0         |relu_array_array_ap_fixed_24u_relu_config15_s         |        1|        1|  4.167 ns |  4.167 ns |    1|    1| function |\n",
      "        |conv_2d_cl_array_array_ap_fixed_4u_config2_U0          |conv_2d_cl_array_array_ap_fixed_4u_config2_s          |      246|      246|  1.025 us |  1.025 us |  246|  246|   none   |\n",
      "        |pooling2d_cl_array_array_ap_fixed_4u_config4_U0        |pooling2d_cl_array_array_ap_fixed_4u_config4_s        |      185|      185|  0.771 us |  0.771 us |  185|  185|   none   |\n",
      "        |normalize_array_array_ap_fixed_8u_config10_U0          |normalize_array_array_ap_fixed_8u_config10_s          |        7|        7| 29.169 ns | 29.169 ns |    7|    7|   none   |\n",
      "        |relu_array_array_ap_fixed_8u_relu_config11_U0          |relu_array_array_ap_fixed_8u_relu_config11_s          |        6|        6| 25.002 ns | 25.002 ns |    6|    6|   none   |\n",
      "        |dense_array_array_ap_fixed_16_6_5_3_0_1u_config16_U0   |dense_array_array_ap_fixed_16_6_5_3_0_1u_config16_s   |        3|        3| 12.501 ns | 12.501 ns |    3|    3|   none   |\n",
      "        |normalize_array_array_ap_fixed_4u_config5_U0           |normalize_array_array_ap_fixed_4u_config5_s           |       49|       49|  0.204 us |  0.204 us |   49|   49|   none   |\n",
      "        |relu_array_array_ap_fixed_4u_relu_config6_U0           |relu_array_array_ap_fixed_4u_relu_config6_s           |       48|       48|  0.200 us |  0.200 us |   48|   48|   none   |\n",
      "        |sigmoid_array_array_ap_fixed_1u_sigmoid_config19_U0    |sigmoid_array_array_ap_fixed_1u_sigmoid_config19_s    |        3|        3| 12.501 ns | 12.501 ns |    1|    1| function |\n",
      "        |Block_proc_U0                                          |Block_proc                                            |        0|        0|    0 ns   |    0 ns   |    0|    0|   none   |\n",
      "        +-------------------------------------------------------+------------------------------------------------------+---------+---------+-----------+-----------+-----+-----+----------+\n",
      "\n",
      "        * Loop: \n",
      "        N/A\n",
      "\n",
      "\n",
      "\n",
      "================================================================\n",
      "== Utilization Estimates\n",
      "================================================================\n",
      "* Summary: \n",
      "+-----------------+---------+-------+---------+--------+-----+\n",
      "|       Name      | BRAM_18K| DSP48E|    FF   |   LUT  | URAM|\n",
      "+-----------------+---------+-------+---------+--------+-----+\n",
      "|DSP              |        -|      -|        -|       -|    -|\n",
      "|Expression       |        -|      -|        0|      32|    -|\n",
      "|FIFO             |       16|      -|     1409|    3264|    -|\n",
      "|Instance         |        2|    229|     8026|   16488|    0|\n",
      "|Memory           |        -|      -|        -|       -|    -|\n",
      "|Multiplexer      |        -|      -|        -|      36|    -|\n",
      "|Register         |        -|      -|        6|       -|    -|\n",
      "+-----------------+---------+-------+---------+--------+-----+\n",
      "|Total            |       18|    229|     9441|   19820|    0|\n",
      "+-----------------+---------+-------+---------+--------+-----+\n",
      "|Available        |     1968|   1968|  1045440|  522720|  128|\n",
      "+-----------------+---------+-------+---------+--------+-----+\n",
      "|Utilization (%)  |    ~0   |     11|    ~0   |       3|    0|\n",
      "+-----------------+---------+-------+---------+--------+-----+\n",
      "\n",
      "+ Detail: \n",
      "    * Instance: \n",
      "    +-------------------------------------------------------+------------------------------------------------------+---------+-------+------+------+-----+\n",
      "    |                        Instance                       |                        Module                        | BRAM_18K| DSP48E|  FF  |  LUT | URAM|\n",
      "    +-------------------------------------------------------+------------------------------------------------------+---------+-------+------+------+-----+\n",
      "    |Block_proc_U0                                          |Block_proc                                            |        0|      0|     2|    11|    0|\n",
      "    |conv_2d_cl_array_array_ap_fixed_4u_config2_U0          |conv_2d_cl_array_array_ap_fixed_4u_config2_s          |        0|      7|  1729|  2073|    0|\n",
      "    |conv_2d_cl_array_array_ap_fixed_8u_config7_U0          |conv_2d_cl_array_array_ap_fixed_8u_config7_s          |        0|     65|  1551|  3413|    0|\n",
      "    |dense_array_array_ap_fixed_16_6_5_3_0_1u_config16_U0   |dense_array_array_ap_fixed_16_6_5_3_0_1u_config16_s   |        0|      6|   198|   414|    0|\n",
      "    |dense_array_array_ap_fixed_16_6_5_3_0_24u_config12_U0  |dense_array_array_ap_fixed_16_6_5_3_0_24u_config12_s  |        0|    139|  2162|  3885|    0|\n",
      "    |normalize_array_array_ap_fixed_4u_config5_U0           |normalize_array_array_ap_fixed_4u_config5_s           |        0|      4|   208|   324|    0|\n",
      "    |normalize_array_array_ap_fixed_8u_config10_U0          |normalize_array_array_ap_fixed_8u_config10_s          |        0|      8|   332|   499|    0|\n",
      "    |pooling2d_cl_array_array_ap_fixed_4u_config4_U0        |pooling2d_cl_array_array_ap_fixed_4u_config4_s        |        0|      0|   392|  1158|    0|\n",
      "    |pooling2d_cl_array_array_ap_fixed_8u_config9_U0        |pooling2d_cl_array_array_ap_fixed_8u_config9_s        |        1|      0|   811|  2614|    0|\n",
      "    |relu_array_array_ap_fixed_24u_relu_config15_U0         |relu_array_array_ap_fixed_24u_relu_config15_s         |        0|      0|   388|  1156|    0|\n",
      "    |relu_array_array_ap_fixed_4u_relu_config6_U0           |relu_array_array_ap_fixed_4u_relu_config6_s           |        0|      0|    80|   296|    0|\n",
      "    |relu_array_array_ap_fixed_8u_relu_config11_U0          |relu_array_array_ap_fixed_8u_relu_config11_s          |        0|      0|   140|   475|    0|\n",
      "    |sigmoid_array_array_ap_fixed_1u_sigmoid_config19_U0    |sigmoid_array_array_ap_fixed_1u_sigmoid_config19_s    |        1|      0|    33|   170|    0|\n",
      "    +-------------------------------------------------------+------------------------------------------------------+---------+-------+------+------+-----+\n",
      "    |Total                                                  |                                                      |        2|    229|  8026| 16488|    0|\n",
      "    +-------------------------------------------------------+------------------------------------------------------+---------+-------+------+------+-----+\n",
      "\n",
      "Co-simulation report not found.\n"
     ]
    }
   ],
   "source": [
    "hls4ml.report.read_vivado_report('pruning_models/hls_pruned_075/hls4ml_prj')"
   ]
  },
  {
   "cell_type": "markdown",
   "id": "f2f4bef1",
   "metadata": {},
   "source": [
    "### Change reusefactor\n",
    "\n",
    "What does this do."
   ]
  },
  {
   "cell_type": "code",
   "execution_count": null,
   "id": "09cd0ac9",
   "metadata": {},
   "outputs": [],
   "source": []
  },
  {
   "cell_type": "code",
   "execution_count": null,
   "id": "e78cefe8",
   "metadata": {},
   "outputs": [],
   "source": []
  },
  {
   "cell_type": "code",
   "execution_count": 47,
   "id": "c3e940ec",
   "metadata": {},
   "outputs": [
    {
     "data": {
      "text/html": [
       "<style>.container { width:100% !important; }</style>"
      ],
      "text/plain": [
       "<IPython.core.display.HTML object>"
      ]
     },
     "metadata": {},
     "output_type": "display_data"
    }
   ],
   "source": [
    "from IPython.core.display import display, HTML\n",
    "display(HTML(\"<style>.container { width:100% !important; }</style>\"))"
   ]
  },
  {
   "cell_type": "code",
   "execution_count": null,
   "id": "6c5bbd2c",
   "metadata": {},
   "outputs": [],
   "source": []
  }
 ],
 "metadata": {
  "kernelspec": {
   "display_name": "Python 3",
   "language": "python",
   "name": "python3"
  },
  "language_info": {
   "codemirror_mode": {
    "name": "ipython",
    "version": 3
   },
   "file_extension": ".py",
   "mimetype": "text/x-python",
   "name": "python",
   "nbconvert_exporter": "python",
   "pygments_lexer": "ipython3",
   "version": "3.9.5"
  }
 },
 "nbformat": 4,
 "nbformat_minor": 5
}
